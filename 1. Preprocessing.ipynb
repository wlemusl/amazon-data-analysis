{
 "cells": [
  {
   "cell_type": "markdown",
   "metadata": {},
   "source": [
    "**The purpose of this notebook is to create a cleaned and preprocessed dataset that contains only high-quality records, serving as a powerful input to a collaborative filtering recommender system. Naturally, the ratings and textual reviews are critical features to take into consideration.**"
   ]
  },
  {
   "cell_type": "markdown",
   "metadata": {},
   "source": [
    "### 1. Import the requiered libraries"
   ]
  },
  {
   "cell_type": "code",
   "execution_count": 1,
   "metadata": {},
   "outputs": [],
   "source": [
    "import pandas as pd\n",
    "import numpy as np\n",
    "import gzip\n",
    "import simplejson as json\n",
    "import re\n",
    "from nltk.tokenize import RegexpTokenizer"
   ]
  },
  {
   "cell_type": "markdown",
   "metadata": {},
   "source": [
    "### 2. Read the data and explore it"
   ]
  },
  {
   "cell_type": "code",
   "execution_count": 2,
   "metadata": {},
   "outputs": [],
   "source": [
    "def parse(path):\n",
    "  g = gzip.open(path, 'rb')\n",
    "  for l in g:\n",
    "    yield json.loads(l)\n",
    "\n",
    "def getDF(path):\n",
    "  i = 0\n",
    "  df = {}\n",
    "  for d in parse(path):\n",
    "    df[i] = d\n",
    "    i += 1\n",
    "  return pd.DataFrame.from_dict(df, orient='index')\n",
    "\n",
    "df = getDF(\"db amazon original.json.gz\")"
   ]
  },
  {
   "cell_type": "code",
   "execution_count": 3,
   "metadata": {},
   "outputs": [
    {
     "data": {
      "text/html": [
       "<div>\n",
       "<style scoped>\n",
       "    .dataframe tbody tr th:only-of-type {\n",
       "        vertical-align: middle;\n",
       "    }\n",
       "\n",
       "    .dataframe tbody tr th {\n",
       "        vertical-align: top;\n",
       "    }\n",
       "\n",
       "    .dataframe thead th {\n",
       "        text-align: right;\n",
       "    }\n",
       "</style>\n",
       "<table border=\"1\" class=\"dataframe\">\n",
       "  <thead>\n",
       "    <tr style=\"text-align: right;\">\n",
       "      <th></th>\n",
       "      <th>overall</th>\n",
       "      <th>verified</th>\n",
       "      <th>reviewTime</th>\n",
       "      <th>reviewerID</th>\n",
       "      <th>asin</th>\n",
       "      <th>style</th>\n",
       "      <th>reviewerName</th>\n",
       "      <th>reviewText</th>\n",
       "      <th>summary</th>\n",
       "      <th>unixReviewTime</th>\n",
       "      <th>vote</th>\n",
       "      <th>image</th>\n",
       "    </tr>\n",
       "  </thead>\n",
       "  <tbody>\n",
       "    <tr>\n",
       "      <th>0</th>\n",
       "      <td>5.0</td>\n",
       "      <td>True</td>\n",
       "      <td>11 9, 2012</td>\n",
       "      <td>A2M1CU2IRZG0K9</td>\n",
       "      <td>0005089549</td>\n",
       "      <td>{'Format:': ' VHS Tape'}</td>\n",
       "      <td>Terri</td>\n",
       "      <td>So sorry I didn't purchase this years ago when...</td>\n",
       "      <td>Amazing!</td>\n",
       "      <td>1352419200</td>\n",
       "      <td>NaN</td>\n",
       "      <td>NaN</td>\n",
       "    </tr>\n",
       "    <tr>\n",
       "      <th>1</th>\n",
       "      <td>5.0</td>\n",
       "      <td>True</td>\n",
       "      <td>12 30, 2011</td>\n",
       "      <td>AFTUJYISOFHY6</td>\n",
       "      <td>0005089549</td>\n",
       "      <td>{'Format:': ' VHS Tape'}</td>\n",
       "      <td>Melissa D. Abercrombie</td>\n",
       "      <td>Believe me when I tell you that you will recei...</td>\n",
       "      <td>Great Gospel VHS of the Cathedrals!</td>\n",
       "      <td>1325203200</td>\n",
       "      <td>NaN</td>\n",
       "      <td>NaN</td>\n",
       "    </tr>\n",
       "    <tr>\n",
       "      <th>2</th>\n",
       "      <td>5.0</td>\n",
       "      <td>True</td>\n",
       "      <td>04 21, 2005</td>\n",
       "      <td>A3JVF9Y53BEOGC</td>\n",
       "      <td>000503860X</td>\n",
       "      <td>{'Format:': ' DVD'}</td>\n",
       "      <td>Anthony Thompson</td>\n",
       "      <td>I have seen X live many times, both in the ear...</td>\n",
       "      <td>A great document of a great band</td>\n",
       "      <td>1114041600</td>\n",
       "      <td>11</td>\n",
       "      <td>NaN</td>\n",
       "    </tr>\n",
       "  </tbody>\n",
       "</table>\n",
       "</div>"
      ],
      "text/plain": [
       "   overall  verified   reviewTime      reviewerID        asin  \\\n",
       "0      5.0      True   11 9, 2012  A2M1CU2IRZG0K9  0005089549   \n",
       "1      5.0      True  12 30, 2011   AFTUJYISOFHY6  0005089549   \n",
       "2      5.0      True  04 21, 2005  A3JVF9Y53BEOGC  000503860X   \n",
       "\n",
       "                      style            reviewerName  \\\n",
       "0  {'Format:': ' VHS Tape'}                   Terri   \n",
       "1  {'Format:': ' VHS Tape'}  Melissa D. Abercrombie   \n",
       "2       {'Format:': ' DVD'}        Anthony Thompson   \n",
       "\n",
       "                                          reviewText  \\\n",
       "0  So sorry I didn't purchase this years ago when...   \n",
       "1  Believe me when I tell you that you will recei...   \n",
       "2  I have seen X live many times, both in the ear...   \n",
       "\n",
       "                               summary  unixReviewTime vote image  \n",
       "0                             Amazing!      1352419200  NaN   NaN  \n",
       "1  Great Gospel VHS of the Cathedrals!      1325203200  NaN   NaN  \n",
       "2     A great document of a great band      1114041600   11   NaN  "
      ]
     },
     "execution_count": 3,
     "metadata": {},
     "output_type": "execute_result"
    }
   ],
   "source": [
    "df.head(3)"
   ]
  },
  {
   "cell_type": "code",
   "execution_count": 4,
   "metadata": {
    "scrolled": true
   },
   "outputs": [
    {
     "name": "stdout",
     "output_type": "stream",
     "text": [
      "<class 'pandas.core.frame.DataFrame'>\n",
      "Int64Index: 3410019 entries, 0 to 3410018\n",
      "Data columns (total 12 columns):\n",
      " #   Column          Dtype  \n",
      "---  ------          -----  \n",
      " 0   overall         float64\n",
      " 1   verified        bool   \n",
      " 2   reviewTime      object \n",
      " 3   reviewerID      object \n",
      " 4   asin            object \n",
      " 5   style           object \n",
      " 6   reviewerName    object \n",
      " 7   reviewText      object \n",
      " 8   summary         object \n",
      " 9   unixReviewTime  int64  \n",
      " 10  vote            object \n",
      " 11  image           object \n",
      "dtypes: bool(1), float64(1), int64(1), object(9)\n",
      "memory usage: 315.4+ MB\n"
     ]
    }
   ],
   "source": [
    "df.info()"
   ]
  },
  {
   "cell_type": "markdown",
   "metadata": {},
   "source": [
    "**The reviewerID column has practically the same purpose as reviewerName, and therefore, we will keep only one of these two columns.**"
   ]
  },
  {
   "cell_type": "markdown",
   "metadata": {},
   "source": [
    "**The summary column is just a short version of the original textual review. Based on the purpose of this project, having the complete review will serve as a better input for the recommender, and therefore, we will skip the summary column.**"
   ]
  },
  {
   "cell_type": "markdown",
   "metadata": {},
   "source": [
    "**Because we possess the reviewTime column, the unixReviewTime is not needed, and in consequence, we will also delete this column.**"
   ]
  },
  {
   "cell_type": "code",
   "execution_count": 5,
   "metadata": {
    "scrolled": true
   },
   "outputs": [
    {
     "data": {
      "text/plain": [
       "3403048"
      ]
     },
     "execution_count": 5,
     "metadata": {},
     "output_type": "execute_result"
    }
   ],
   "source": [
    "# let's find out how many blank cells does image column have.\n",
    "x = df.image.isnull().sum()\n",
    "x"
   ]
  },
  {
   "cell_type": "code",
   "execution_count": 6,
   "metadata": {
    "scrolled": true
   },
   "outputs": [
    {
     "data": {
      "text/plain": [
       "0.998"
      ]
     },
     "execution_count": 6,
     "metadata": {},
     "output_type": "execute_result"
    }
   ],
   "source": [
    "round(x/len(df), 3)"
   ]
  },
  {
   "cell_type": "markdown",
   "metadata": {},
   "source": [
    "**There are only 6,971 images. This is a 0.2% of all the data records. Practically, the 99.8% of this column's cells are empty. Besides, we do not need images for the purpose of this project, and therefore, we will also delete this column.**"
   ]
  },
  {
   "cell_type": "code",
   "execution_count": 7,
   "metadata": {},
   "outputs": [
    {
     "data": {
      "text/plain": [
       "2768010"
      ]
     },
     "execution_count": 7,
     "metadata": {},
     "output_type": "execute_result"
    }
   ],
   "source": [
    "# let's find out how many blank cells does vote column have.\n",
    "y = df.vote.isnull().sum()\n",
    "y"
   ]
  },
  {
   "cell_type": "code",
   "execution_count": 8,
   "metadata": {},
   "outputs": [
    {
     "data": {
      "text/plain": [
       "0.812"
      ]
     },
     "execution_count": 8,
     "metadata": {},
     "output_type": "execute_result"
    }
   ],
   "source": [
    "round(y/len(df), 3)"
   ]
  },
  {
   "cell_type": "markdown",
   "metadata": {},
   "source": [
    "**18.8% of all the reviews have 1 or more helpful votes. In other words, the 81.2% of the reviews in this dataset have 0 helpful votes. Let's explore this feature a little bit more to determine what to do.**"
   ]
  },
  {
   "cell_type": "code",
   "execution_count": 9,
   "metadata": {
    "scrolled": false
   },
   "outputs": [
    {
     "name": "stdout",
     "output_type": "stream",
     "text": [
      "The number of unique values of the vote column is:  642\n",
      "There are a total of 2768010 empty cells in this column.\n",
      "There are a total of 642009 cells with values in vote.\n",
      "The unique values are:\n",
      "2        197779\n",
      "3        110227\n",
      "4         70334\n",
      "5         48249\n",
      "6         34344\n",
      "          ...  \n",
      "474           1\n",
      "821           1\n",
      "1,346         1\n",
      "531           1\n",
      "691           1\n",
      "Name: vote, Length: 641, dtype: int64\n"
     ]
    }
   ],
   "source": [
    "print('The number of unique values of the vote column is: ', len(df['vote'].unique()))\n",
    "print('There are a total of {} empty cells in this column.'.format(df.vote.isnull().sum()))\n",
    "print('There are a total of {} cells with values in vote.'.format(df.vote.notnull().sum()))\n",
    "print('The unique values are:')\n",
    "print(df['vote'].value_counts())"
   ]
  },
  {
   "cell_type": "markdown",
   "metadata": {},
   "source": [
    "#### 2.1. Modify reviewTime and convert it into year"
   ]
  },
  {
   "cell_type": "code",
   "execution_count": 10,
   "metadata": {},
   "outputs": [],
   "source": [
    "df['reviewTime'] = pd.to_datetime(df['reviewTime'])"
   ]
  },
  {
   "cell_type": "code",
   "execution_count": 11,
   "metadata": {},
   "outputs": [],
   "source": [
    "df['reviewTime'] = df['reviewTime'].dt.strftime('%Y')"
   ]
  },
  {
   "cell_type": "code",
   "execution_count": 12,
   "metadata": {
    "scrolled": true
   },
   "outputs": [
    {
     "data": {
      "text/html": [
       "<div>\n",
       "<style scoped>\n",
       "    .dataframe tbody tr th:only-of-type {\n",
       "        vertical-align: middle;\n",
       "    }\n",
       "\n",
       "    .dataframe tbody tr th {\n",
       "        vertical-align: top;\n",
       "    }\n",
       "\n",
       "    .dataframe thead th {\n",
       "        text-align: right;\n",
       "    }\n",
       "</style>\n",
       "<table border=\"1\" class=\"dataframe\">\n",
       "  <thead>\n",
       "    <tr style=\"text-align: right;\">\n",
       "      <th></th>\n",
       "      <th>overall</th>\n",
       "      <th>verified</th>\n",
       "      <th>reviewTime</th>\n",
       "      <th>reviewerID</th>\n",
       "      <th>asin</th>\n",
       "      <th>style</th>\n",
       "      <th>reviewerName</th>\n",
       "      <th>reviewText</th>\n",
       "      <th>summary</th>\n",
       "      <th>unixReviewTime</th>\n",
       "      <th>vote</th>\n",
       "      <th>image</th>\n",
       "    </tr>\n",
       "  </thead>\n",
       "  <tbody>\n",
       "    <tr>\n",
       "      <th>0</th>\n",
       "      <td>5.0</td>\n",
       "      <td>True</td>\n",
       "      <td>2012</td>\n",
       "      <td>A2M1CU2IRZG0K9</td>\n",
       "      <td>0005089549</td>\n",
       "      <td>{'Format:': ' VHS Tape'}</td>\n",
       "      <td>Terri</td>\n",
       "      <td>So sorry I didn't purchase this years ago when...</td>\n",
       "      <td>Amazing!</td>\n",
       "      <td>1352419200</td>\n",
       "      <td>NaN</td>\n",
       "      <td>NaN</td>\n",
       "    </tr>\n",
       "    <tr>\n",
       "      <th>1</th>\n",
       "      <td>5.0</td>\n",
       "      <td>True</td>\n",
       "      <td>2011</td>\n",
       "      <td>AFTUJYISOFHY6</td>\n",
       "      <td>0005089549</td>\n",
       "      <td>{'Format:': ' VHS Tape'}</td>\n",
       "      <td>Melissa D. Abercrombie</td>\n",
       "      <td>Believe me when I tell you that you will recei...</td>\n",
       "      <td>Great Gospel VHS of the Cathedrals!</td>\n",
       "      <td>1325203200</td>\n",
       "      <td>NaN</td>\n",
       "      <td>NaN</td>\n",
       "    </tr>\n",
       "    <tr>\n",
       "      <th>2</th>\n",
       "      <td>5.0</td>\n",
       "      <td>True</td>\n",
       "      <td>2005</td>\n",
       "      <td>A3JVF9Y53BEOGC</td>\n",
       "      <td>000503860X</td>\n",
       "      <td>{'Format:': ' DVD'}</td>\n",
       "      <td>Anthony Thompson</td>\n",
       "      <td>I have seen X live many times, both in the ear...</td>\n",
       "      <td>A great document of a great band</td>\n",
       "      <td>1114041600</td>\n",
       "      <td>11</td>\n",
       "      <td>NaN</td>\n",
       "    </tr>\n",
       "  </tbody>\n",
       "</table>\n",
       "</div>"
      ],
      "text/plain": [
       "   overall  verified reviewTime      reviewerID        asin  \\\n",
       "0      5.0      True       2012  A2M1CU2IRZG0K9  0005089549   \n",
       "1      5.0      True       2011   AFTUJYISOFHY6  0005089549   \n",
       "2      5.0      True       2005  A3JVF9Y53BEOGC  000503860X   \n",
       "\n",
       "                      style            reviewerName  \\\n",
       "0  {'Format:': ' VHS Tape'}                   Terri   \n",
       "1  {'Format:': ' VHS Tape'}  Melissa D. Abercrombie   \n",
       "2       {'Format:': ' DVD'}        Anthony Thompson   \n",
       "\n",
       "                                          reviewText  \\\n",
       "0  So sorry I didn't purchase this years ago when...   \n",
       "1  Believe me when I tell you that you will recei...   \n",
       "2  I have seen X live many times, both in the ear...   \n",
       "\n",
       "                               summary  unixReviewTime vote image  \n",
       "0                             Amazing!      1352419200  NaN   NaN  \n",
       "1  Great Gospel VHS of the Cathedrals!      1325203200  NaN   NaN  \n",
       "2     A great document of a great band      1114041600   11   NaN  "
      ]
     },
     "execution_count": 12,
     "metadata": {},
     "output_type": "execute_result"
    }
   ],
   "source": [
    "df.head(3)"
   ]
  },
  {
   "cell_type": "markdown",
   "metadata": {},
   "source": [
    "#### 2.2. Analyze the vote column"
   ]
  },
  {
   "cell_type": "code",
   "execution_count": 13,
   "metadata": {},
   "outputs": [
    {
     "data": {
      "text/plain": [
       "<AxesSubplot:xlabel='reviewTime'>"
      ]
     },
     "execution_count": 13,
     "metadata": {},
     "output_type": "execute_result"
    },
    {
     "data": {
      "image/png": "[encoded data removed]",
      "text/plain": [
       "<Figure size 432x288 with 1 Axes>"
      ]
     },
     "metadata": {
      "needs_background": "light"
     },
     "output_type": "display_data"
    }
   ],
   "source": [
    "# how many helpful votes are per year with a line graph.\n",
    "df.groupby(\"reviewTime\").count().vote.plot(kind='line')"
   ]
  },
  {
   "cell_type": "code",
   "execution_count": 14,
   "metadata": {
    "scrolled": true
   },
   "outputs": [
    {
     "data": {
      "text/plain": [
       "reviewTime\n",
       "1997        0\n",
       "1998      102\n",
       "1999     1923\n",
       "2000    11219\n",
       "2001    13801\n",
       "2002    17417\n",
       "2003    19290\n",
       "2004    31000\n",
       "2005    37178\n",
       "2006    35048\n",
       "2007    37691\n",
       "2008    42880\n",
       "2009    40000\n",
       "2010    35641\n",
       "2011    38464\n",
       "2012    42736\n",
       "2013    62388\n",
       "2014    61924\n",
       "2015    52453\n",
       "2016    38416\n",
       "2017    19907\n",
       "2018     2531\n",
       "Name: vote, dtype: int64"
      ]
     },
     "execution_count": 14,
     "metadata": {},
     "output_type": "execute_result"
    }
   ],
   "source": [
    "df.groupby(\"reviewTime\").count().vote"
   ]
  },
  {
   "cell_type": "code",
   "execution_count": 15,
   "metadata": {
    "scrolled": false
   },
   "outputs": [
    {
     "data": {
      "text/plain": [
       "<AxesSubplot:xlabel='reviewTime'>"
      ]
     },
     "execution_count": 15,
     "metadata": {},
     "output_type": "execute_result"
    },
    {
     "data": {
      "image/png": "[encoded data removed]",
      "text/plain": [
       "<Figure size 432x288 with 1 Axes>"
      ]
     },
     "metadata": {
      "needs_background": "light"
     },
     "output_type": "display_data"
    }
   ],
   "source": [
    "# how many helpful votes are per year with a bar graph.\n",
    "df.groupby(\"reviewTime\").count().vote.plot(kind='bar', color='r')"
   ]
  },
  {
   "cell_type": "code",
   "execution_count": 16,
   "metadata": {
    "scrolled": true
   },
   "outputs": [
    {
     "data": {
      "text/plain": [
       "<AxesSubplot:xlabel='reviewTime'>"
      ]
     },
     "execution_count": 16,
     "metadata": {},
     "output_type": "execute_result"
    },
    {
     "data": {
      "image/png": "[encoded data removed]",
      "text/plain": [
       "<Figure size 432x288 with 1 Axes>"
      ]
     },
     "metadata": {
      "needs_background": "light"
     },
     "output_type": "display_data"
    }
   ],
   "source": [
    "# let's see if this fits the behaviour of number of reviews per year.\n",
    "df.groupby(\"reviewTime\").count().reviewText.plot(kind='bar', color='b')"
   ]
  },
  {
   "cell_type": "markdown",
   "metadata": {},
   "source": [
    "**Even though the number of reviews per year increases in 2013, 2014, and 2015, there is still a trend for the total number of helpful votes per year to decrease. Should we leave this column out of the analysis or not? Let's see one more thing.**"
   ]
  },
  {
   "cell_type": "code",
   "execution_count": 17,
   "metadata": {},
   "outputs": [
    {
     "data": {
      "text/plain": [
       "True     2503105\n",
       "False     906914\n",
       "Name: verified, dtype: int64"
      ]
     },
     "execution_count": 17,
     "metadata": {},
     "output_type": "execute_result"
    }
   ],
   "source": [
    "# let's find out how many unique values do some the verified column have.\n",
    "df['verified'].value_counts()"
   ]
  },
  {
   "cell_type": "markdown",
   "metadata": {},
   "source": [
    "**As you can see, there are 906,914 reviews that have not been verified yet. This is a 26.6% of the whole dataset. Instead of getting rid of all of these unverified reviews, we can try to \"verify\" them with the help of the help votes. We can create a rule, for example, if a review has not been verified yet, and it has 4 or more helpful votes, then it can be considered as verified. Let's use this rule!**"
   ]
  },
  {
   "cell_type": "markdown",
   "metadata": {},
   "source": [
    "#### 2.3. Verifying reviews through the vote column"
   ]
  },
  {
   "cell_type": "code",
   "execution_count": 18,
   "metadata": {},
   "outputs": [],
   "source": [
    "df.vote = df['vote'].str.replace(',', '').astype(float)"
   ]
  },
  {
   "cell_type": "code",
   "execution_count": 19,
   "metadata": {
    "scrolled": true
   },
   "outputs": [
    {
     "data": {
      "text/plain": [
       "207159"
      ]
     },
     "execution_count": 19,
     "metadata": {},
     "output_type": "execute_result"
    }
   ],
   "source": [
    "len(df[(df['vote'] > 3) & (df['verified'] == False)])"
   ]
  },
  {
   "cell_type": "markdown",
   "metadata": {},
   "source": [
    "**There are a total of 207,159 reviews that have 4 or more helpful votes and are not verified yet. Through this way, we can verify 207,159 reviews out of 906,914, keeping a 22.8% of these data.**"
   ]
  },
  {
   "cell_type": "code",
   "execution_count": 20,
   "metadata": {
    "scrolled": true
   },
   "outputs": [
    {
     "data": {
      "text/html": [
       "<div>\n",
       "<style scoped>\n",
       "    .dataframe tbody tr th:only-of-type {\n",
       "        vertical-align: middle;\n",
       "    }\n",
       "\n",
       "    .dataframe tbody tr th {\n",
       "        vertical-align: top;\n",
       "    }\n",
       "\n",
       "    .dataframe thead th {\n",
       "        text-align: right;\n",
       "    }\n",
       "</style>\n",
       "<table border=\"1\" class=\"dataframe\">\n",
       "  <thead>\n",
       "    <tr style=\"text-align: right;\">\n",
       "      <th></th>\n",
       "      <th>overall</th>\n",
       "      <th>verified</th>\n",
       "      <th>reviewTime</th>\n",
       "      <th>reviewerID</th>\n",
       "      <th>asin</th>\n",
       "      <th>style</th>\n",
       "      <th>reviewerName</th>\n",
       "      <th>reviewText</th>\n",
       "      <th>summary</th>\n",
       "      <th>unixReviewTime</th>\n",
       "      <th>vote</th>\n",
       "      <th>image</th>\n",
       "    </tr>\n",
       "  </thead>\n",
       "  <tbody>\n",
       "    <tr>\n",
       "      <th>26</th>\n",
       "      <td>3.0</td>\n",
       "      <td>False</td>\n",
       "      <td>2001</td>\n",
       "      <td>A17TPT3FWAE5T1</td>\n",
       "      <td>0005019281</td>\n",
       "      <td>{'Format:': ' VHS Tape'}</td>\n",
       "      <td>Matthew Spady</td>\n",
       "      <td>If you already have (and love) the Alistair Si...</td>\n",
       "      <td>An interesting contrast to more traditional ve...</td>\n",
       "      <td>1008028800</td>\n",
       "      <td>31.0</td>\n",
       "      <td>NaN</td>\n",
       "    </tr>\n",
       "    <tr>\n",
       "      <th>27</th>\n",
       "      <td>4.0</td>\n",
       "      <td>False</td>\n",
       "      <td>2001</td>\n",
       "      <td>A3P98J5DZ00A75</td>\n",
       "      <td>0005019281</td>\n",
       "      <td>{'Format:': ' DVD'}</td>\n",
       "      <td>Ken Roberts</td>\n",
       "      <td>Henry Winkler proves his acting ability in thi...</td>\n",
       "      <td>grey</td>\n",
       "      <td>1003449600</td>\n",
       "      <td>62.0</td>\n",
       "      <td>NaN</td>\n",
       "    </tr>\n",
       "    <tr>\n",
       "      <th>319</th>\n",
       "      <td>5.0</td>\n",
       "      <td>False</td>\n",
       "      <td>2006</td>\n",
       "      <td>AARUYE130LY8W</td>\n",
       "      <td>0005019281</td>\n",
       "      <td>{'Format:': ' DVD'}</td>\n",
       "      <td>Paul D. Race</td>\n",
       "      <td>If you want the classic version, go with the G...</td>\n",
       "      <td>Best Adaptation Ever</td>\n",
       "      <td>1166400000</td>\n",
       "      <td>5.0</td>\n",
       "      <td>NaN</td>\n",
       "    </tr>\n",
       "  </tbody>\n",
       "</table>\n",
       "</div>"
      ],
      "text/plain": [
       "     overall  verified reviewTime      reviewerID        asin  \\\n",
       "26       3.0     False       2001  A17TPT3FWAE5T1  0005019281   \n",
       "27       4.0     False       2001  A3P98J5DZ00A75  0005019281   \n",
       "319      5.0     False       2006   AARUYE130LY8W  0005019281   \n",
       "\n",
       "                        style   reviewerName  \\\n",
       "26   {'Format:': ' VHS Tape'}  Matthew Spady   \n",
       "27        {'Format:': ' DVD'}    Ken Roberts   \n",
       "319       {'Format:': ' DVD'}   Paul D. Race   \n",
       "\n",
       "                                            reviewText  \\\n",
       "26   If you already have (and love) the Alistair Si...   \n",
       "27   Henry Winkler proves his acting ability in thi...   \n",
       "319  If you want the classic version, go with the G...   \n",
       "\n",
       "                                               summary  unixReviewTime  vote  \\\n",
       "26   An interesting contrast to more traditional ve...      1008028800  31.0   \n",
       "27                                                grey      1003449600  62.0   \n",
       "319                               Best Adaptation Ever      1166400000   5.0   \n",
       "\n",
       "    image  \n",
       "26    NaN  \n",
       "27    NaN  \n",
       "319   NaN  "
      ]
     },
     "execution_count": 20,
     "metadata": {},
     "output_type": "execute_result"
    }
   ],
   "source": [
    "df[(df['vote'] > 3) & (df['verified'] == False)].head(3)"
   ]
  },
  {
   "cell_type": "code",
   "execution_count": 21,
   "metadata": {},
   "outputs": [],
   "source": [
    "df.loc[((df['vote'] > 3) & (df['verified'] == False)), 'verified'] = True"
   ]
  },
  {
   "cell_type": "code",
   "execution_count": 22,
   "metadata": {
    "scrolled": true
   },
   "outputs": [
    {
     "data": {
      "text/html": [
       "<div>\n",
       "<style scoped>\n",
       "    .dataframe tbody tr th:only-of-type {\n",
       "        vertical-align: middle;\n",
       "    }\n",
       "\n",
       "    .dataframe tbody tr th {\n",
       "        vertical-align: top;\n",
       "    }\n",
       "\n",
       "    .dataframe thead th {\n",
       "        text-align: right;\n",
       "    }\n",
       "</style>\n",
       "<table border=\"1\" class=\"dataframe\">\n",
       "  <thead>\n",
       "    <tr style=\"text-align: right;\">\n",
       "      <th></th>\n",
       "      <th>overall</th>\n",
       "      <th>verified</th>\n",
       "      <th>reviewTime</th>\n",
       "      <th>reviewerID</th>\n",
       "      <th>asin</th>\n",
       "      <th>style</th>\n",
       "      <th>reviewerName</th>\n",
       "      <th>reviewText</th>\n",
       "      <th>summary</th>\n",
       "      <th>unixReviewTime</th>\n",
       "      <th>vote</th>\n",
       "      <th>image</th>\n",
       "    </tr>\n",
       "  </thead>\n",
       "  <tbody>\n",
       "  </tbody>\n",
       "</table>\n",
       "</div>"
      ],
      "text/plain": [
       "Empty DataFrame\n",
       "Columns: [overall, verified, reviewTime, reviewerID, asin, style, reviewerName, reviewText, summary, unixReviewTime, vote, image]\n",
       "Index: []"
      ]
     },
     "execution_count": 22,
     "metadata": {},
     "output_type": "execute_result"
    }
   ],
   "source": [
    "df[(df['vote'] > 3) & (df['verified'] == False)].head(3)"
   ]
  },
  {
   "cell_type": "code",
   "execution_count": 23,
   "metadata": {},
   "outputs": [
    {
     "data": {
      "text/plain": [
       "True     2710264\n",
       "False     699755\n",
       "Name: verified, dtype: int64"
      ]
     },
     "execution_count": 23,
     "metadata": {},
     "output_type": "execute_result"
    }
   ],
   "source": [
    "df['verified'].value_counts()"
   ]
  },
  {
   "cell_type": "markdown",
   "metadata": {},
   "source": [
    "**We verified 207,159 reviews... and that is why the number of False in verified column decreases from 906,914 to 699,755. We are not longer going to use the vote column, and threfore we can skip it. We can also delete rows with False values in verified column.**"
   ]
  },
  {
   "cell_type": "code",
   "execution_count": 24,
   "metadata": {},
   "outputs": [
    {
     "name": "stdout",
     "output_type": "stream",
     "text": [
      "2710264\n"
     ]
    }
   ],
   "source": [
    "df = df[df['verified']==True]\n",
    "print(len(df))"
   ]
  },
  {
   "cell_type": "markdown",
   "metadata": {},
   "source": [
    "### 3. Filter dataset using only columns of interest"
   ]
  },
  {
   "cell_type": "code",
   "execution_count": 25,
   "metadata": {},
   "outputs": [
    {
     "name": "stdout",
     "output_type": "stream",
     "text": [
      "Shape of df is: (2710264, 6)\n"
     ]
    },
    {
     "data": {
      "text/html": [
       "<div>\n",
       "<style scoped>\n",
       "    .dataframe tbody tr th:only-of-type {\n",
       "        vertical-align: middle;\n",
       "    }\n",
       "\n",
       "    .dataframe tbody tr th {\n",
       "        vertical-align: top;\n",
       "    }\n",
       "\n",
       "    .dataframe thead th {\n",
       "        text-align: right;\n",
       "    }\n",
       "</style>\n",
       "<table border=\"1\" class=\"dataframe\">\n",
       "  <thead>\n",
       "    <tr style=\"text-align: right;\">\n",
       "      <th></th>\n",
       "      <th>overall</th>\n",
       "      <th>reviewTime</th>\n",
       "      <th>reviewerID</th>\n",
       "      <th>asin</th>\n",
       "      <th>style</th>\n",
       "      <th>reviewText</th>\n",
       "    </tr>\n",
       "  </thead>\n",
       "  <tbody>\n",
       "    <tr>\n",
       "      <th>0</th>\n",
       "      <td>5.0</td>\n",
       "      <td>2012</td>\n",
       "      <td>A2M1CU2IRZG0K9</td>\n",
       "      <td>0005089549</td>\n",
       "      <td>{'Format:': ' VHS Tape'}</td>\n",
       "      <td>So sorry I didn't purchase this years ago when...</td>\n",
       "    </tr>\n",
       "    <tr>\n",
       "      <th>1</th>\n",
       "      <td>5.0</td>\n",
       "      <td>2011</td>\n",
       "      <td>AFTUJYISOFHY6</td>\n",
       "      <td>0005089549</td>\n",
       "      <td>{'Format:': ' VHS Tape'}</td>\n",
       "      <td>Believe me when I tell you that you will recei...</td>\n",
       "    </tr>\n",
       "    <tr>\n",
       "      <th>2</th>\n",
       "      <td>5.0</td>\n",
       "      <td>2005</td>\n",
       "      <td>A3JVF9Y53BEOGC</td>\n",
       "      <td>000503860X</td>\n",
       "      <td>{'Format:': ' DVD'}</td>\n",
       "      <td>I have seen X live many times, both in the ear...</td>\n",
       "    </tr>\n",
       "  </tbody>\n",
       "</table>\n",
       "</div>"
      ],
      "text/plain": [
       "   overall reviewTime      reviewerID        asin                     style  \\\n",
       "0      5.0       2012  A2M1CU2IRZG0K9  0005089549  {'Format:': ' VHS Tape'}   \n",
       "1      5.0       2011   AFTUJYISOFHY6  0005089549  {'Format:': ' VHS Tape'}   \n",
       "2      5.0       2005  A3JVF9Y53BEOGC  000503860X       {'Format:': ' DVD'}   \n",
       "\n",
       "                                          reviewText  \n",
       "0  So sorry I didn't purchase this years ago when...  \n",
       "1  Believe me when I tell you that you will recei...  \n",
       "2  I have seen X live many times, both in the ear...  "
      ]
     },
     "execution_count": 25,
     "metadata": {},
     "output_type": "execute_result"
    }
   ],
   "source": [
    "df = df[['overall', 'reviewTime', 'reviewerID','asin', 'style', 'reviewText']].copy()\n",
    "print('Shape of df is:', df.shape)\n",
    "df.head(3)"
   ]
  },
  {
   "cell_type": "markdown",
   "metadata": {},
   "source": [
    "### 4. Filter dataset conserving rows from 2012 to 2018"
   ]
  },
  {
   "cell_type": "code",
   "execution_count": 26,
   "metadata": {
    "scrolled": true
   },
   "outputs": [
    {
     "data": {
      "text/plain": [
       "<AxesSubplot:xlabel='reviewTime'>"
      ]
     },
     "execution_count": 26,
     "metadata": {},
     "output_type": "execute_result"
    },
    {
     "data": {
      "image/png": "[encoded data removed]",
      "text/plain": [
       "<Figure size 432x288 with 1 Axes>"
      ]
     },
     "metadata": {
      "needs_background": "light"
     },
     "output_type": "display_data"
    }
   ],
   "source": [
    "# let's see one more time the number of reviews per year.\n",
    "df.groupby(\"reviewTime\").count().reviewText.plot(kind='bar', color='b')"
   ]
  },
  {
   "cell_type": "markdown",
   "metadata": {},
   "source": [
    "**We can appreciate that the number of reviews before 2012 is very little. Besides, we need to take into consideration that the interests of a person may change after many years, i.e., what a person liked in year 2000 may be different than what he would like in 2010. For these previous reasons, and to produce high-quality recommendations, we are just going to conserve recent information, i.e., reviews from 2012 to 2018.**"
   ]
  },
  {
   "cell_type": "code",
   "execution_count": 27,
   "metadata": {},
   "outputs": [],
   "source": [
    "keepYears = ['2012', '2013', '2014','2015', '2016', '2017', '2018']"
   ]
  },
  {
   "cell_type": "code",
   "execution_count": 28,
   "metadata": {},
   "outputs": [
    {
     "name": "stdout",
     "output_type": "stream",
     "text": [
      "Shape of df is: (2354459, 6)\n"
     ]
    }
   ],
   "source": [
    "df = df[df.reviewTime.isin(keepYears)]\n",
    "print('Shape of df is:', df.shape)"
   ]
  },
  {
   "cell_type": "markdown",
   "metadata": {},
   "source": [
    "### 5. Filter dataset deleting rows with just an int as a review"
   ]
  },
  {
   "cell_type": "markdown",
   "metadata": {},
   "source": [
    "**It is supposed that every record must have a numeric rating with a textual review. These rating-review pairs would be a good input for a recommender. If some reviews do not have any text and just include numeric data, then it is redundant or unnecesary. In consequence, we will delete the rows that have just a number as a review.**"
   ]
  },
  {
   "cell_type": "code",
   "execution_count": 29,
   "metadata": {
    "scrolled": false
   },
   "outputs": [],
   "source": [
    "df = df.reset_index(drop=True)"
   ]
  },
  {
   "cell_type": "code",
   "execution_count": 30,
   "metadata": {},
   "outputs": [
    {
     "name": "stderr",
     "output_type": "stream",
     "text": [
      "C:\\Users\\willi\\anaconda3\\lib\\site-packages\\pandas\\core\\indexing.py:670: SettingWithCopyWarning: \n",
      "A value is trying to be set on a copy of a slice from a DataFrame\n",
      "\n",
      "See the caveats in the documentation: https://pandas.pydata.org/pandas-docs/stable/user_guide/indexing.html#returning-a-view-versus-a-copy\n",
      "  iloc._setitem_with_indexer(indexer, value)\n"
     ]
    }
   ],
   "source": [
    "reviewsText = df.loc[:,'reviewText']\n",
    "\n",
    "for i in range(len(reviewsText)):\n",
    "    text = reviewsText[i]\n",
    "    try:\n",
    "        reviewsText.loc[i] = int(text)\n",
    "    except Exception:\n",
    "        pass"
   ]
  },
  {
   "cell_type": "code",
   "execution_count": 31,
   "metadata": {},
   "outputs": [],
   "source": [
    "df = df.drop('reviewText', 1)"
   ]
  },
  {
   "cell_type": "code",
   "execution_count": 32,
   "metadata": {},
   "outputs": [],
   "source": [
    "df = df.join(reviewsText)"
   ]
  },
  {
   "cell_type": "code",
   "execution_count": 33,
   "metadata": {},
   "outputs": [],
   "source": [
    "indexes_to_drop = []\n",
    "for i in range(len(df)):\n",
    "    if type(df.loc[i]['reviewText']) == int or type(df.loc[i]['reviewText']) == float:\n",
    "        indexes_to_drop.append(i)\n",
    "    else:\n",
    "        pass "
   ]
  },
  {
   "cell_type": "code",
   "execution_count": 34,
   "metadata": {},
   "outputs": [
    {
     "name": "stdout",
     "output_type": "stream",
     "text": [
      "Number of reviews with only a number in dataset:  1753\n",
      "[2272, 4200, 4890, 5237, 5334, 7190, 7451, 7559, 8096, 8594, 12034, 19799, 19975, 21207, 21805, 22125, 23675, 23723, 32327, 34430, 36152, 38112, 38902, 38952, 39520, 41586, 41665, 42610, 42714, 46035, 47442, 49973, 53523, 55280, 58208, 58732, 58905, 61726, 64090, 70455, 74286, 83061, 86910, 89045, 89163, 89718, 94793, 95776, 97008, 97342, 99414, 99777, 99831, 99883, 101174, 102574, 102739, 103765, 105889, 106514, 107975, 108493, 108542, 110586, 113244, 114317, 114697, 117683, 120125, 120582, 120841, 121331, 123708, 124408, 125406, 125418, 125906, 126203, 127461, 130102, 132217, 133073, 135882, 137611, 138398, 140265, 140972, 140991, 143674, 146938, 147361, 148026, 149155, 151478, 152219, 154167, 155077, 156520, 156722, 156895, 162950, 163920, 164249, 164853, 164984, 165248, 167219, 167742, 168689, 168821, 170644, 175539, 178548, 182364, 183629, 185279, 185848, 186634, 187594, 187648, 188201, 189295, 189526, 190198, 190446, 192080, 193460, 196065, 201570, 203490, 204223, 205604, 208956, 209381, 209997, 213781, 213822, 214020, 221717, 222417, 226423, 227297, 227566, 228541, 229675, 230834, 231597, 232294, 232338, 235874, 236480, 238333, 241119, 242009, 242301, 243638, 244360, 244947, 245694, 247338, 250011, 250291, 251848, 253138, 255153, 255428, 255511, 255607, 257993, 259585, 260584, 262020, 262371, 267437, 267575, 268969, 269478, 270273, 272824, 273068, 273845, 274865, 275876, 276997, 277980, 281117, 281740, 283380, 292168, 292495, 292799, 293369, 293468, 296646, 300351, 300813, 300933, 302173, 303491, 305919, 312428, 314396, 316730, 317229, 319434, 320070, 320597, 326481, 326679, 327504, 327739, 328910, 329394, 329515, 330318, 330484, 331763, 332952, 334035, 334573, 336970, 337490, 337527, 338726, 339023, 341178, 342303, 342694, 345683, 346159, 346329, 347158, 347701, 348384, 348564, 349218, 350725, 351823, 351957, 356427, 357954, 358093, 360725, 361946, 362369, 363387, 363940, 363996, 365250, 366087, 367288, 367704, 369925, 370697, 373352, 373654, 375468, 377197, 377322, 378634, 382162, 382203, 382204, 382446, 385410, 385480, 391179, 392171, 392306, 392701, 393155, 393823, 395124, 395413, 396191, 396727, 397503, 397565, 405903, 409797, 411825, 412612, 413265, 414174, 415343, 416250, 417479, 417772, 417872, 418388, 421050, 423137, 425817, 428384, 429744, 430067, 432596, 434977, 435336, 435675, 435836, 435923, 436980, 437621, 438228, 438440, 439345, 440595, 444224, 444521, 448256, 449059, 449124, 452465, 454132, 454245, 454272, 454336, 456872, 457115, 457279, 458094, 458594, 460810, 461744, 462989, 463770, 464935, 465001, 465968, 465971, 468299, 468397, 473447, 474226, 475407, 475928, 476243, 476427, 477377, 477762, 480046, 481115, 486528, 487824, 488068, 489715, 492477, 492551, 495214, 499201, 499328, 499891, 504239, 505414, 505629, 507546, 507927, 508308, 508451, 508775, 508788, 510070, 514391, 517455, 517635, 517687, 517853, 520178, 520987, 522708, 523796, 525312, 527570, 527730, 529585, 529840, 533636, 534795, 538951, 539323, 542305, 545346, 546050, 546657, 547779, 549253, 549369, 554909, 554969, 555234, 555708, 557278, 558147, 558188, 558611, 558639, 562567, 563036, 569707, 571436, 572310, 572868, 575320, 575529, 578173, 580479, 581020, 581091, 582966, 584467, 584487, 584856, 588322, 590404, 592199, 593574, 593943, 594054, 594079, 595241, 596315, 596907, 596972, 597470, 597874, 598128, 598485, 599973, 600206, 600494, 601089, 601274, 602350, 604806, 607670, 608564, 609480, 610374, 612123, 613866, 614966, 617563, 619803, 619912, 622903, 623910, 623980, 624019, 628641, 628816, 629520, 629521, 629988, 632823, 633072, 634092, 635848, 636618, 638701, 641925, 645054, 645120, 647529, 648821, 649122, 651259, 653593, 655676, 656431, 657323, 658082, 658442, 660303, 662826, 663341, 665577, 665617, 669226, 669365, 670586, 670666, 670818, 671162, 672355, 673406, 673501, 673590, 673591, 673753, 674977, 675301, 676924, 677958, 678340, 680755, 683979, 684750, 684862, 687435, 690583, 691940, 692673, 693350, 695994, 696497, 697656, 698267, 699744, 699870, 700953, 701216, 702029, 705691, 706375, 706546, 706559, 707064, 707236, 708438, 710391, 711484, 713541, 714298, 716622, 717948, 718704, 719760, 726099, 727952, 728482, 730049, 731185, 732516, 732907, 734849, 735158, 735412, 737777, 737872, 737961, 737962, 738124, 739348, 739672, 741295, 742329, 742711, 745126, 748350, 749121, 749233, 751806, 754954, 756311, 757044, 757721, 760365, 760868, 762027, 762638, 764115, 764241, 765324, 765587, 766400, 770062, 770746, 770917, 770930, 771435, 771607, 772809, 774762, 775855, 777912, 778669, 780993, 782319, 783075, 784131, 790470, 792323, 792853, 794420, 795556, 796887, 797278, 799220, 799529, 799783, 803589, 804240, 804288, 805648, 807536, 808815, 810931, 811853, 812414, 812612, 813972, 818603, 818747, 819603, 820114, 821156, 824904, 829878, 831740, 833084, 835540, 836802, 837172, 839062, 839169, 840286, 841496, 841907, 842762, 843047, 843985, 844230, 844928, 847079, 848716, 849824, 849847, 849856, 850534, 853079, 854372, 854579, 856567, 857107, 864767, 866666, 866802, 866941, 867620, 867710, 867874, 872654, 873097, 873502, 877812, 878327, 879950, 881038, 882432, 883409, 884628, 888419, 892303, 893993, 894769, 895182, 896173, 900866, 901208, 901209, 904204, 907849, 908736, 908896, 909637, 911952, 912910, 913378, 913574, 915077, 915359, 915642, 917950, 918525, 919749, 921203, 922373, 922399, 925848, 925849, 926760, 928675, 928997, 929642, 933118, 933417, 934201, 936860, 940989, 942422, 943453, 943521, 945161, 949510, 950341, 950782, 950793, 950796, 950823, 951517, 954020, 954798, 956900, 958161, 958166, 958316, 960139, 960872, 961015, 962066, 963565, 963917, 965302, 968502, 972839, 978532, 980024, 981133, 981291, 984392, 986741, 988056, 991206, 991692, 993067, 993260, 993349, 994013, 995837, 996566, 996599, 1000094, 1001242, 1001711, 1008466, 1008648, 1011442, 1012119, 1014811, 1016296, 1018748, 1018935, 1019087, 1019546, 1020862, 1022075, 1023506, 1023733, 1025133, 1025413, 1025572, 1026231, 1027537, 1028399, 1029006, 1029608, 1029699, 1031539, 1031708, 1032835, 1033204, 1036162, 1036586, 1038931, 1040601, 1041413, 1045167, 1046696, 1050722, 1051470, 1054347, 1056008, 1056072, 1056878, 1057042, 1060321, 1062878, 1063440, 1063659, 1065288, 1067003, 1067619, 1068986, 1071950, 1080001, 1084651, 1084991, 1085022, 1085541, 1090540, 1091532, 1091539, 1095119, 1096317, 1096856, 1097297, 1097364, 1099701, 1101136, 1102371, 1106883, 1107418, 1108052, 1109544, 1111669, 1112830, 1113827, 1113849, 1115545, 1115707, 1119292, 1121724, 1122254, 1122588, 1122610, 1122939, 1123265, 1124206, 1125154, 1125214, 1127707, 1131908, 1132287, 1134418, 1137723, 1138834, 1139712, 1140940, 1141625, 1142078, 1143042, 1143287, 1150626, 1151039, 1153227, 1154623, 1154737, 1158699, 1160468, 1163779, 1164134, 1165539, 1169670, 1170400, 1175493, 1175675, 1176725, 1178823, 1180866, 1181277, 1182302, 1183384, 1186111, 1187735, 1187969, 1189337, 1191361, 1191536, 1193440, 1197402, 1198433, 1201947, 1202176, 1202295, 1204725, 1206316, 1207035, 1207088, 1208144, 1212161, 1216114, 1216388, 1216485, 1216651, 1219067, 1220021, 1221493, 1221802, 1222554, 1226639, 1228568, 1234713, 1234887, 1235108, 1240345, 1241795, 1241796, 1245873, 1253419, 1253480, 1256699, 1256917, 1258060, 1261527, 1261574, 1268205, 1268953, 1269781, 1269785, 1275525, 1276568, 1281513, 1282094, 1288855, 1288983, 1289290, 1294082, 1294366, 1298439, 1304882, 1309131, 1312452, 1312781, 1315283, 1315603, 1318033, 1319777, 1323008, 1323652, 1325378, 1325863, 1327868, 1328045, 1329240, 1329585, 1335404, 1340989, 1342396, 1342929, 1342992, 1344726, 1345921, 1346196, 1347776, 1349672, 1351631, 1354757, 1354788, 1355816, 1356205, 1360099, 1360698, 1363556, 1364378, 1365714, 1372244, 1372277, 1373225, 1373235, 1379633, 1379674, 1379872, 1382959, 1383575, 1387679, 1388752, 1389554, 1393706, 1394001, 1394618, 1401061, 1404053, 1409797, 1412792, 1413542, 1413567, 1413765, 1416562, 1418708, 1419329, 1424128, 1429324, 1431180, 1433161, 1436020, 1436024, 1436160, 1438658, 1444002, 1444222, 1444962, 1447636, 1450807, 1451068, 1452185, 1452570, 1458501, 1458726, 1458980, 1464078, 1465660, 1466657, 1468521, 1472039, 1473912, 1474025, 1474187, 1474773, 1475663, 1476467, 1477310, 1477552, 1478396, 1480516, 1481981, 1484041, 1484998, 1485352, 1486078, 1487794, 1492319, 1493235, 1493281, 1493757, 1497956, 1498256, 1506299, 1507777, 1508562, 1509403, 1511941, 1512146, 1512617, 1518701, 1519582, 1526879, 1527013, 1527123, 1527574, 1528817, 1530153, 1530708, 1533070, 1534714, 1537097, 1539673, 1540101, 1540507, 1541103, 1545067, 1546470, 1546626, 1546698, 1549101, 1549183, 1549471, 1551517, 1553305, 1553818, 1553985, 1554374, 1555203, 1557156, 1562034, 1562176, 1562398, 1562736, 1563669, 1568152, 1570132, 1573030, 1574738, 1582331, 1583119, 1588070, 1592882, 1593161, 1599903, 1602310, 1605111, 1605445, 1605952, 1606438, 1606623, 1608407, 1609631, 1612559, 1617870, 1618801, 1619257, 1619362, 1621176, 1621263, 1622079, 1622179, 1623416, 1623998, 1624954, 1627166, 1628733, 1629519, 1631690, 1634622, 1638175, 1639613, 1640509, 1641544, 1642025, 1647918, 1649421, 1651574, 1653387, 1653556, 1655579, 1656727, 1657184, 1657477, 1657491, 1659014, 1661687, 1662290, 1664227, 1665671, 1665813, 1666136, 1666149, 1666479, 1667139, 1667297, 1667350, 1668009, 1672600, 1673138, 1673902, 1674190, 1679219, 1684680, 1684686, 1685158, 1686541, 1686987, 1688627, 1689207, 1693633, 1703474, 1704022, 1704093, 1705074, 1708219, 1712033, 1712131, 1712152, 1712497, 1712738, 1712868, 1714854, 1716394, 1716900, 1721808, 1722133, 1725317, 1725641, 1725852, 1725958, 1730086, 1730162, 1730289, 1730632, 1730794, 1730843, 1731073, 1733745, 1734048, 1735111, 1738326, 1739390, 1739949, 1741695, 1742457, 1742707, 1743193, 1744769, 1744821, 1746831, 1747379, 1748673, 1749439, 1750031, 1750806, 1752810, 1755429, 1756261, 1756688, 1758054, 1759347, 1760578, 1761795, 1762065, 1762397, 1765062, 1766920, 1767693, 1767836, 1770288, 1771575, 1771598, 1771990, 1772001, 1772369, 1772459, 1773324, 1775391, 1775817, 1776098, 1776198, 1776691, 1777515, 1778671, 1779876, 1781049, 1781366, 1783905, 1786506, 1788156, 1789298, 1789907, 1792868, 1794301, 1794477, 1794537, 1795009, 1795176, 1795496, 1795716, 1795940, 1798374, 1798695, 1799226, 1799382, 1801078, 1801289, 1803098, 1804762, 1806567, 1807129, 1807671, 1808309, 1809049, 1810693, 1811136, 1811193, 1813573, 1815325, 1817639, 1819682, 1820863, 1823506, 1823572, 1825355, 1827923, 1828902, 1830521, 1830587, 1832370, 1834929, 1835908, 1836680, 1837502, 1838183, 1838530, 1842903, 1842978, 1843523, 1843885, 1845643, 1846369, 1847242, 1847682, 1850793, 1852664, 1852730, 1854667, 1856800, 1857487, 1858728, 1861818, 1867736, 1869493, 1870264, 1870584, 1871081, 1871355, 1872383, 1872943, 1873468, 1873625, 1876737, 1877414, 1881484, 1882096, 1882397, 1882607, 1882660, 1883199, 1884718, 1885961, 1887834, 1889259, 1892587, 1893617, 1894353, 1897505, 1897766, 1901130, 1901260, 1901448, 1902488, 1902493, 1902867, 1904852, 1905833, 1908837, 1909386, 1911137, 1915728, 1915952, 1917369, 1918515, 1918973, 1919235, 1919338, 1919739, 1921744, 1921813, 1922648, 1925872, 1926180, 1926491, 1927081, 1927090, 1928722, 1928735, 1929518, 1930601, 1933716, 1933935, 1934091, 1935278, 1936495, 1937339, 1938037, 1939117, 1939904, 1940090, 1942095, 1942347, 1944509, 1944535, 1944740, 1945480, 1945692, 1950381, 1950819, 1951949, 1952263, 1952651, 1952956, 1953295, 1954744, 1954929, 1956357, 1956531, 1957607, 1958062, 1958387, 1962186, 1966086, 1966221, 1966419, 1966942, 1968075, 1968237, 1968273, 1968570, 1969213, 1969684, 1970213, 1970940, 1972946, 1973082, 1974669, 1974762, 1974978, 1976552, 1977299, 1977324, 1977912, 1981730, 1983053, 1985792, 1986301, 1988519, 1989782, 1990054, 1992408, 1994483, 1995127, 1995418, 1995538, 1995870, 1995911, 1997302, 1998126, 1998927, 1999704, 2000554, 2001992, 2003315, 2004234, 2008801, 2009045, 2009269, 2009464, 2011483, 2016565, 2018147, 2018541, 2019860, 2022208, 2022450, 2022605, 2023676, 2023927, 2024480, 2024705, 2025464, 2026731, 2028677, 2030217, 2030332, 2031810, 2033059, 2034706, 2035694, 2036444, 2036578, 2037104, 2037610, 2037928, 2038363, 2038673, 2041071, 2041119, 2041240, 2042833, 2044680, 2044934, 2045779, 2046244, 2047069, 2048483, 2048552, 2048949, 2049175, 2051396, 2051884, 2054196, 2054341, 2054769, 2055750, 2057436, 2058894, 2059115, 2059831, 2063264, 2064865, 2065743, 2066046, 2066164, 2066330, 2066465, 2066663, 2067841, 2068270, 2068383, 2068456, 2068533, 2068616, 2068815, 2070254, 2070326, 2070749, 2071187, 2071193, 2071682, 2072506, 2072714, 2072748, 2073626, 2075448, 2076014, 2077357, 2079528, 2082026, 2084144, 2086197, 2087656, 2089989, 2090796, 2091722, 2091741, 2091798, 2093139, 2093228, 2093396, 2095031, 2095907, 2098084, 2098390, 2098913, 2101094, 2101372, 2102375, 2102885, 2102968, 2105584, 2108141, 2108283, 2108814, 2109691, 2109909, 2110284, 2110823, 2113313, 2113915, 2114228, 2114367, 2114523, 2115621, 2115859, 2115990, 2116189, 2117777, 2119171, 2121216, 2126604, 2128374, 2129970, 2131601, 2132709, 2133331, 2135163, 2136379, 2136825, 2137253, 2137397, 2137711, 2138622, 2139345, 2143474, 2143701, 2144314, 2145655, 2148623, 2151335, 2151931, 2152129, 2152292, 2155251, 2157709, 2159167, 2159766, 2160254, 2160320, 2160679, 2161096, 2161644, 2161664, 2162228, 2166399, 2167944, 2170223, 2170243, 2171718, 2172485, 2173991, 2175781, 2176903, 2177157, 2177204, 2177480, 2178026, 2179636, 2181770, 2183247, 2183597, 2185955, 2187511, 2189646, 2190530, 2190542, 2193429, 2193853, 2194178, 2194368, 2195480, 2195966, 2198320, 2198768, 2199148, 2199342, 2201449, 2202178, 2203353, 2203565, 2206189, 2206479, 2207849, 2208212, 2208424, 2208821, 2211245, 2213703, 2215133, 2217014, 2217111, 2217372, 2220037, 2220473, 2222063, 2222739, 2222793, 2224247, 2224738, 2225096, 2226063, 2228029, 2229510, 2229983, 2230151, 2230338, 2231157, 2231546, 2231958, 2232332, 2235245, 2236991, 2237566, 2237718, 2238077, 2239338, 2239376, 2239761, 2241735, 2245434, 2245917, 2246835, 2247466, 2247934, 2248290, 2249238, 2249688, 2249697, 2249876, 2251180, 2253101, 2253849, 2254392, 2254489, 2256019, 2261977, 2262206, 2262602, 2264164, 2264925, 2265553, 2266035, 2267627, 2268616, 2269022, 2269952, 2270033, 2270218, 2270668, 2271018, 2272531, 2273678, 2275485, 2278299, 2280845, 2281188, 2281687, 2282661, 2285894, 2286883, 2287858, 2288361, 2289516, 2291709, 2292635, 2293332, 2294636, 2295149, 2296685, 2297699, 2298284, 2300063, 2301444, 2302626, 2303300, 2303581, 2303997, 2304031, 2304379, 2304410, 2304426, 2304839, 2306117, 2307822, 2309790, 2313510, 2313560, 2320505, 2320685, 2320810, 2322407, 2323695, 2325061, 2326106, 2326831, 2330206, 2330556, 2330994, 2331512, 2332219, 2333240, 2334026, 2334338, 2336363, 2336793, 2337857, 2338706, 2339889, 2342597, 2342896, 2343125, 2343425, 2345662, 2348583, 2349209, 2349332, 2349545, 2351185, 2351549, 2351706, 2351953, 2351972, 2352791, 2352852, 2353447, 2353486, 2354033]\n"
     ]
    }
   ],
   "source": [
    "print('Number of reviews with only a number in dataset: ', len(indexes_to_drop))\n",
    "print(indexes_to_drop)"
   ]
  },
  {
   "cell_type": "code",
   "execution_count": 35,
   "metadata": {},
   "outputs": [
    {
     "data": {
      "text/plain": [
       "(2352706, 6)"
      ]
     },
     "execution_count": 35,
     "metadata": {},
     "output_type": "execute_result"
    }
   ],
   "source": [
    "df = df.drop(df.index[indexes_to_drop])\n",
    "df.shape"
   ]
  },
  {
   "cell_type": "code",
   "execution_count": 36,
   "metadata": {},
   "outputs": [
    {
     "data": {
      "text/html": [
       "<div>\n",
       "<style scoped>\n",
       "    .dataframe tbody tr th:only-of-type {\n",
       "        vertical-align: middle;\n",
       "    }\n",
       "\n",
       "    .dataframe tbody tr th {\n",
       "        vertical-align: top;\n",
       "    }\n",
       "\n",
       "    .dataframe thead th {\n",
       "        text-align: right;\n",
       "    }\n",
       "</style>\n",
       "<table border=\"1\" class=\"dataframe\">\n",
       "  <thead>\n",
       "    <tr style=\"text-align: right;\">\n",
       "      <th></th>\n",
       "      <th>overall</th>\n",
       "      <th>reviewTime</th>\n",
       "      <th>reviewerID</th>\n",
       "      <th>asin</th>\n",
       "      <th>style</th>\n",
       "      <th>reviewText</th>\n",
       "    </tr>\n",
       "  </thead>\n",
       "  <tbody>\n",
       "    <tr>\n",
       "      <th>0</th>\n",
       "      <td>5.0</td>\n",
       "      <td>2012</td>\n",
       "      <td>A2M1CU2IRZG0K9</td>\n",
       "      <td>0005089549</td>\n",
       "      <td>{'Format:': ' VHS Tape'}</td>\n",
       "      <td>So sorry I didn't purchase this years ago when...</td>\n",
       "    </tr>\n",
       "    <tr>\n",
       "      <th>1</th>\n",
       "      <td>5.0</td>\n",
       "      <td>2016</td>\n",
       "      <td>A2CFV9UPFTTM10</td>\n",
       "      <td>0005419263</td>\n",
       "      <td>{'Format:': ' Audio CD'}</td>\n",
       "      <td>The little ones love this</td>\n",
       "    </tr>\n",
       "    <tr>\n",
       "      <th>2</th>\n",
       "      <td>3.0</td>\n",
       "      <td>2014</td>\n",
       "      <td>A3139J3877Y61F</td>\n",
       "      <td>0005419263</td>\n",
       "      <td>{'Format:': ' Audio CD'}</td>\n",
       "      <td>Good songs. The DVD is a little boring.</td>\n",
       "    </tr>\n",
       "  </tbody>\n",
       "</table>\n",
       "</div>"
      ],
      "text/plain": [
       "   overall reviewTime      reviewerID        asin                     style  \\\n",
       "0      5.0       2012  A2M1CU2IRZG0K9  0005089549  {'Format:': ' VHS Tape'}   \n",
       "1      5.0       2016  A2CFV9UPFTTM10  0005419263  {'Format:': ' Audio CD'}   \n",
       "2      3.0       2014  A3139J3877Y61F  0005419263  {'Format:': ' Audio CD'}   \n",
       "\n",
       "                                          reviewText  \n",
       "0  So sorry I didn't purchase this years ago when...  \n",
       "1                          The little ones love this  \n",
       "2            Good songs. The DVD is a little boring.  "
      ]
     },
     "execution_count": 36,
     "metadata": {},
     "output_type": "execute_result"
    }
   ],
   "source": [
    "df.head(3)"
   ]
  },
  {
   "cell_type": "markdown",
   "metadata": {},
   "source": [
    "### 6. Filter dataset deleting rows with 1-2 chars as a review"
   ]
  },
  {
   "cell_type": "markdown",
   "metadata": {},
   "source": [
    "**The idea of the review is to: (1) express an opinion that explains the why of your rating, or (2) detail a characteristic of the movie that called your attention and could serve as a decision guide for other users if to watch or not to watch the movie or TV show. A review with only 1 or 2 letters, symbols, or characters, probably does not express that much, so we can ignore these records.**"
   ]
  },
  {
   "cell_type": "code",
   "execution_count": 37,
   "metadata": {},
   "outputs": [],
   "source": [
    "df = df.reset_index(drop=True)"
   ]
  },
  {
   "cell_type": "code",
   "execution_count": 38,
   "metadata": {},
   "outputs": [],
   "source": [
    "indexes_to_drop = []\n",
    "for i in range(len(df)):\n",
    "    if len(df.loc[i]['reviewText']) <= 2:\n",
    "        indexes_to_drop.append(i)\n",
    "    else:\n",
    "        pass "
   ]
  },
  {
   "cell_type": "code",
   "execution_count": 39,
   "metadata": {},
   "outputs": [
    {
     "name": "stdout",
     "output_type": "stream",
     "text": [
      "Number of reviews with 2 or less characters in dataset:  16473\n",
      "[29, 106, 422, 618, 855, 861, 941, 1142, 1146, 1236, 1473, 1640, 1725, 1828, 1904, 2064, 2737, 2771, 2932, 2940, 2978, 3182, 3192, 3447, 3633, 3667, 3668, 3679, 3684, 3685, 3690, 3878, 4032, 4106, 4250, 4425, 5421, 5487, 5504, 5686, 5976, 6140, 6370, 6511, 7072, 7139, 7174, 7307, 7549, 7576, 7606, 7620, 7664, 7685, 7733, 7808, 8074, 8154, 8170, 8376, 8501, 8548, 8805, 8976, 9026, 9079, 9916, 10184, 10384, 10410, 10496, 10503, 10632, 10779, 10838, 10999, 11193, 11303, 11399, 11427, 11448, 11599, 11656, 13229, 13271, 13279, 13382, 13415, 13687, 13902, 13990, 14173, 14300, 14324, 14517, 14620, 15260, 15393, 15500, 15581, 15589, 15736, 16006, 16383, 16441, 16473, 16666, 16881, 16885, 17105, 17177, 17268, 17293, 17575, 17823, 17867, 17985, 18126, 18336, 18480, 18569, 18797, 18863, 18906, 18927, 19092, 19171, 19394, 19415, 19690, 19765, 19925, 19997, 20033, 20193, 20341, 20386, 20773, 20852, 20960, 21070, 21214, 21509, 22081, 22270, 22399, 22688, 22762, 22784, 22806, 22893, 22900, 23281, 23290, 23440, 23630, 23685, 23821, 23824, 23844, 23881, 23964, 23979, 24456, 24667, 24801, 24951, 25089, 25336, 25450, 25466, 25503, 25603, 25713, 25825, 25945, 25961, 26050, 26189, 26504, 26512, 26513, 26519, 26524, 27144, 27293, 27396, 27618, 27738, 27750, 27767, 27785, 27860, 28120, 28793, 28799, 28843, 28875, 29281, 29304, 29676, 29713, 30065, 30273, 30561, 30614, 30725, 30829, 30831, 30854, 30890, 30939, 30963, 31447, 31496, 31523, 31607, 32228, 32436, 32597, 32917, 32999, 33126, 33272, 33617, 33709, 33756, 34040, 34388, 34433, 34441, 34528, 34612, 34706, 34766, 34885, 34941, 34943, 34987, 35083, 35159, 35382, 35505, 35632, 35992, 36000, 36349, 36772, 36842, 37418, 37445, 37628, 38010, 38117, 38225, 38247, 38396, 38625, 38706, 38872, 39024, 39182, 39599, 39792, 39829, 39854, 40009, 40125, 40129, 40288, 40499, 41135, 41780, 42016, 42097, 42157, 42425, 42605, 42641, 42860, 42926, 42981, 43053, 43147, 43325, 43610, 43651, 43847, 44007, 44223, 44302, 44368, 44424, 44469, 44480, 44602, 45145, 45149, 45570, 45571, 45934, 45976, 46139, 46377, 46392, 46942, 47150, 47192, 47351, 47430, 47586, 47629, 47658, 48158, 48583, 48706, 48708, 48812, 48868, 48935, 48956, 48957, 48963, 49077, 49079, 49104, 49181, 49344, 49522, 49572, 49583, 49645, 49915, 49921, 49961, 50032, 50394, 50755, 50896, 50920, 50990, 51258, 51357, 51489, 51724, 51746, 51827, 52141, 52145, 52270, 52283, 52349, 52768, 52776, 53012, 53789, 54040, 54322, 54329, 54486, 54600, 55088, 55165, 55223, 55282, 55288, 55595, 55722, 55782, 55808, 56066, 56067, 56287, 56661, 56998, 57024, 57131, 57147, 57152, 57183, 57412, 57494, 57540, 57800, 58003, 58053, 58195, 58239, 58508, 58788, 58953, 58983, 59268, 59376, 59623, 59976, 60005, 60128, 60242, 60277, 60320, 60453, 60613, 60637, 60763, 60842, 60853, 60861, 60933, 60994, 61003, 61040, 61057, 61385, 61416, 61447, 61471, 61605, 61748, 61817, 62127, 62237, 62515, 62537, 62548, 62924, 63171, 63236, 63296, 63337, 63637, 63695, 63943, 64346, 64632, 64811, 64826, 64957, 65138, 65467, 65492, 65740, 65743, 65816, 66129, 66175, 66222, 66230, 66435, 66450, 66560, 66562, 66901, 66990, 67004, 67010, 67173, 67231, 67252, 67320, 67529, 67530, 67662, 67736, 67808, 67949, 68234, 68286, 68417, 68564, 68775, 68825, 68829, 68967, 69577, 69654, 70498, 70501, 70507, 70543, 70577, 70582, 70607, 70608, 70679, 70853, 70895, 71001, 71079, 71135, 71174, 71250, 71752, 71764, 71782, 71794, 72052, 72071, 72083, 72639, 72728, 72742, 72782, 72793, 73138, 73202, 73237, 73326, 73563, 73633, 73827, 74179, 74269, 74360, 74721, 74743, 74845, 74999, 75175, 75387, 75417, 75521, 75782, 75859, 75875, 75918, 75984, 75997, 76192, 76515, 76522, 76558, 76569, 76572, 76850, 77052, 77079, 77081, 77084, 77575, 77885, 77945, 77984, 78015, 78174, 78244, 78306, 78598, 78609, 78724, 79045, 79275, 79392, 79651, 79779, 79806, 80104, 80205, 80268, 80384, 80415, 80558, 80672, 80765, 81508, 81552, 81614, 81730, 81959, 82198, 82213, 82355, 82436, 82748, 82841, 82893, 83112, 83500, 83548, 83662, 83886, 83978, 84038, 84404, 84530, 84685, 84871, 85051, 85170, 85208, 85399, 85633, 85894, 85911, 86102, 86154, 86542, 86934, 86972, 87081, 87091, 87206, 87218, 87502, 87731, 87824, 87827, 88046, 88472, 88859, 89235, 89399, 89644, 89804, 89813, 89851, 89887, 90091, 90251, 90416, 90506, 90520, 90527, 90575, 90591, 90644, 90671, 90791, 90816, 90930, 90953, 90995, 91147, 91218, 91304, 91403, 91477, 91494, 92062, 92633, 92693, 92849, 92861, 93209, 93316, 93775, 93917, 94123, 94232, 94354, 94392, 94553, 94704, 94717, 94719, 94773, 94875, 95203, 95260, 95265, 95515, 95566, 95996, 96187, 96551, 97012, 97206, 97270, 97316, 97477, 97721, 97801, 98024, 98149, 98565, 98757, 99202, 99212, 99262, 99403, 99420, 99480, 99532, 99748, 99951, 99972, 100055, 100059, 100127, 100362, 100397, 100807, 101150, 101247, 101343, 101361, 101425, 101460, 101487, 101574, 101755, 101851, 101855, 101880, 102009, 102273, 102307, 102372, 102399, 102484, 102494, 102573, 102574, 102981, 102983, 103280, 103291, 103338, 103628, 103691, 103746, 104007, 104395, 104465, 104716, 104954, 105188, 105348, 105366, 105367, 105661, 105830, 106259, 106539, 106935, 107056, 107101, 107172, 107328, 107516, 107594, 107703, 107891, 107942, 108060, 108137, 108229, 108253, 108405, 108489, 108622, 108629, 108792, 108862, 108985, 109438, 109517, 109646, 109687, 109772, 110230, 110436, 110445, 110617, 110882, 110899, 110997, 111007, 111226, 111738, 112019, 112147, 112374, 112610, 112668, 112865, 112882, 112902, 112911, 113299, 113680, 113897, 113924, 114041, 114063, 114187, 114464, 114829, 114847, 114891, 114929, 115252, 115628, 115692, 115717, 115806, 115998, 116291, 116533, 116932, 117629, 117880, 117911, 117972, 118355, 118369, 118569, 118574, 118781, 118899, 118992, 119052, 119062, 119262, 119386, 119455, 119475, 119757, 119912, 120016, 120031, 120087, 120183, 121198, 121256, 121257, 121518, 121646, 121823, 121861, 122011, 122244, 122283, 122294, 122535, 122891, 123327, 123570, 124063, 124512, 124612, 125315, 125761, 125790, 125965, 126046, 126105, 126276, 126284, 126360, 126417, 126484, 126669, 127014, 127066, 127383, 127388, 127417, 127584, 127644, 127839, 128213, 128402, 128606, 128621, 128783, 128789, 128934, 129015, 129178, 129322, 129631, 129991, 130152, 130954, 131215, 131219, 131457, 131951, 131982, 132063, 132465, 132790, 133172, 133349, 133402, 133796, 133916, 134537, 134591, 134827, 134850, 135549, 135565, 136228, 136232, 136646, 136893, 137041, 137171, 137505, 137576, 137630, 137709, 138039, 138224, 138704, 138722, 138878, 139017, 139285, 139441, 139468, 139469, 139640, 139666, 139991, 140107, 140175, 140270, 140379, 140388, 140902, 140939, 141310, 141314, 141731, 141786, 142109, 142119, 142323, 142458, 142461, 142504, 142741, 142902, 143010, 143222, 143312, 143511, 143566, 143624, 143666, 144115, 144152, 144313, 144574, 144637, 144779, 145090, 145235, 145301, 145366, 145593, 146001, 146145, 146165, 146307, 146395, 146516, 146727, 146952, 147112, 147165, 147199, 147226, 147475, 147479, 147594, 147664, 147777, 147821, 147872, 147883, 147904, 148175, 148351, 148392, 148459, 148560, 148706, 148721, 148742, 148748, 148892, 149173, 149178, 149457, 149508, 149893, 150016, 150195, 150208, 150268, 150304, 150613, 150680, 150912, 151132, 151184, 151217, 151374, 151558, 151637, 151781, 151887, 152108, 152122, 152276, 152520, 152667, 152894, 152909, 153062, 153085, 153271, 153490, 153549, 153554, 153605, 153969, 154112, 154615, 154973, 155248, 155252, 155313, 155373, 155497, 155551, 155794, 155842, 155883, 155892, 155942, 155951, 156130, 156131, 156137, 156167, 156187, 156257, 156373, 156506, 156564, 156582, 156609, 156733, 156776, 156821, 157030, 157111, 157753, 157754, 157814, 157917, 158069, 158071, 158106, 158108, 158668, 159134, 159234, 159251, 159447, 159483, 160044, 160172, 160203, 160443, 160453, 160475, 160483, 160537, 160643, 160801, 160806, 160820, 160825, 160932, 161068, 161219, 161389, 161526, 161764, 161822, 161916, 162041, 162174, 162190, 162216, 162667, 162784, 162871, 162912, 162927, 163176, 163218, 163229, 163244, 163631, 163706, 163728, 163762, 163903, 163928, 164364, 164419, 164466, 164492, 164862, 164880, 164948, 165123, 165287, 165400, 165498, 165510, 165813, 165819, 166116, 166276, 166319, 166356, 166580, 166749, 166755, 166853, 166918, 166970, 167039, 167216, 167685, 167727, 167831, 167845, 167855, 168170, 168272, 168315, 168354, 168491, 168553, 168743, 168977, 169103, 169130, 169149, 169207, 169264, 169267, 169686, 169916, 169976, 169992, 170044, 170200, 170217, 170237, 170249, 170443, 170745, 170973, 171470, 171563, 171657, 171730, 171830, 171851, 171889, 172686, 172735, 172849, 172977, 173063, 173347, 173368, 173416, 173503, 173629, 173734, 173748, 173799, 173832, 173882, 173914, 174003, 174280, 174580, 174719, 174771, 174842, 175069, 175091, 175276, 175633, 175748, 175778, 175851, 175885, 176146, 176185, 176242, 176692, 176767, 176840, 176895, 176906, 176920, 177371, 177524, 177811, 177961, 177986, 178013, 178096, 178242, 178248, 178344, 178492, 178594, 178655, 178728, 178847, 179019, 179142, 179341, 179460, 179531, 179576, 179625, 179804, 179815, 179930, 180641, 180670, 180936, 180961, 181125, 181403, 181405, 181682, 181739, 181949, 182167, 182168, 182186, 182386, 182645, 183044, 183071, 183373, 183632, 183858, 183881, 184040, 184109, 184175, 184365, 184432, 184633, 184641, 184866, 184929, 185063, 185497, 185726, 185758, 185848, 185860, 185920, 185992, 185999, 186071, 186345, 186425, 186774, 186810, 187241, 187419, 187558, 187564, 187693, 187835, 187988, 188024, 188026, 188057, 188179, 188335, 188561, 188564, 188665, 188823, 188825, 188840, 189107, 189280, 189370, 189492, 189571, 189712, 189879, 189881, 190041, 190059, 190177, 190326, 190383, 190422, 190424, 190439, 190454, 190745, 190747, 190846, 191444, 191465, 191516, 191612, 191615, 191633, 191690, 191797, 192450, 192683, 192903, 192906, 192909, 193090, 193172, 193217, 193491, 193741, 193872, 193876, 193893, 194012, 194027, 194245, 194274, 194391, 194399, 194430, 194706, 194733, 195246, 195305, 195400, 195419, 195687, 196411, 196545, 196833, 197181, 197349, 197370, 197462, 197573, 197910, 198013, 198016, 198055, 198388, 198621, 198692, 198777, 198983, 199164, 199272, 199289, 199316, 199517, 199627, 199724, 199734, 200078, 200364, 200378, 200632, 200725, 200792, 200927, 200929, 201053, 201058, 201084, 201171, 201229, 201526, 201781, 201917, 202235, 202276, 202649, 202871, 203309, 203669, 203738, 203976, 203990, 204094, 204176, 204245, 204280, 204322, 205174, 205175, 205235, 205252, 205382, 205429, 205471, 205669, 205926, 205946, 206018, 206054, 206097, 206139, 206195, 206539, 206743, 206856, 207054, 207203, 207530, 207550, 207589, 207686, 207938, 208000, 208158, 208292, 208349, 208552, 208603, 208720, 208777, 208809, 209272, 209358, 209366, 209765, 209973, 210276, 210297, 210420, 210444, 210520, 210660, 210690, 210777, 210848, 210869, 211148, 211252, 211265, 211312, 211739, 211808, 212248, 213063, 213232, 213256, 213260, 213787, 213866, 214706, 214978, 215118, 215329, 215407, 215437, 215548, 215554, 215887, 215966, 216058, 216140, 216254, 216264, 216312, 216313, 216439, 216501, 216610, 216648, 216658, 216736, 216826, 216891, 217006, 217015, 217164, 217246, 217278, 217285, 217303, 217414, 217504, 217546, 218032, 218061, 218082, 218226, 218283, 218327, 218377, 218574, 218579, 218740, 218770, 218832, 219165, 219193, 219284, 219351, 219420, 219451, 219618, 219623, 219656, 219752, 219928, 219933, 219957, 219975, 220085, 220129, 220204, 220305, 220381, 220524, 220639, 220645, 220695, 220997, 221001, 221006, 221055, 221131, 221136, 221273, 221439, 221520, 221801, 221911, 222089, 222226, 222361, 222829, 222847, 222872, 223114, 223589, 223816, 223843, 223961, 223978, 224084, 224325, 224448, 224514, 224751, 224781, 224928, 224947, 225290, 225676, 225687, 225717, 225779, 225883, 225933, 226141, 226261, 226364, 226496, 226698, 226795, 226852, 226928, 227167, 227278, 227407, 227705, 227765, 227867, 227874, 228328, 228509, 228560, 228641, 228669, 228901, 228926, 229044, 229185, 229699, 229916, 229975, 230065, 230406, 230409, 230605, 230771, 231154, 231462, 231470, 231482, 231522, 231656, 231665, 231736, 231737, 231754, 231779, 232232, 232427, 232683, 232699, 232709, 232767, 232857, 232968, 233026, 233154, 233754, 233761, 233775, 233945, 233961, 234404, 234415, 234639, 234994, 235171, 235223, 235322, 235375, 235656, 235925, 235989, 235991, 236489, 236604, 236737, 236881, 236882, 237077, 237136, 237495, 237544, 237632, 237850, 238352, 238426, 238571, 238785, 238817, 238926, 238931, 239030, 239039, 239088, 239196, 239396, 239550, 239560, 239765, 239981, 240113, 240138, 240529, 240630, 241056, 241450, 241591, 241660, 241855, 242012, 242031, 242142, 242175, 242287, 242297, 242326, 242355, 242362, 242426, 242538, 242623, 242661, 242707, 242953, 243294, 243313, 244260, 244273, 244476, 244710, 244773, 244959, 245126, 245350, 245624, 245638, 245803, 246143, 246170, 246203, 246250, 246568, 246669, 247049, 247087, 247200, 247301, 247318, 247412, 247778, 247899, 248438, 248503, 248807, 248896, 249129, 249197, 249265, 249419, 249446, 249447, 249571, 249704, 249832, 249874, 249969, 250117, 250158, 250178, 250205, 250344, 250618, 250732, 250758, 251031, 251154, 251231, 251256, 251348, 251899, 251941, 251970, 252046, 252351, 252360, 252440, 252660, 252677, 252734, 252875, 253418, 253419, 253750, 253833, 253951, 253979, 254398, 254444, 254453, 254581, 254624, 254846, 255147, 255454, 255696, 255881, 256242, 256266, 256316, 256458, 256511, 256687, 256858, 257174, 257339, 257535, 257622, 258051, 258088, 258136, 258295, 258466, 258746, 258898, 258917, 259256, 259575, 259593, 259896, 259936, 260264, 260288, 260322, 260392, 260725, 260801, 260848, 261039, 261284, 261414, 261417, 261745, 261747, 261853, 261947, 261984, 262438, 262527, 262647, 262687, 262967, 263178, 263299, 263449, 263474, 263588, 263634, 263789, 263794, 263795, 264165, 264208, 264270, 264430, 264434, 264729, 264865, 264866, 264942, 264975, 265037, 265066, 265264, 265309, 265434, 265498, 265570, 265954, 266034, 266224, 266402, 267049, 267166, 267202, 267363, 267450, 267707, 267723, 267927, 268024, 268151, 268528, 268596, 269277, 269610, 269658, 269924, 269963, 270060, 270230, 270319, 270479, 270497, 270534, 270663, 270735, 270925, 270968, 270990, 271021, 271087, 271138, 271222, 272271, 272288, 272490, 272530, 272571, 272613, 272631, 272635, 272782, 272856, 272946, 273018, 273081, 273100, 273155, 273171, 273308, 273333, 273334, 273724, 273728, 273856, 274107, 274146, 274222, 274296, 274329, 274538, 274911, 275137, 275544, 275667, 275680, 275695, 275734, 275902, 275937, 276064, 276106, 276133, 276756, 276822, 277178, 277232, 277345, 277769, 277815, 277892, 278440, 278575, 278713, 279019, 279100, 279243, 279296, 279297, 279304, 279608, 279722, 279768, 280088, 280159, 280171, 280826, 280866, 280870, 280908, 281245, 281253, 281257, 281279, 281393, 281413, 281422, 281455, 281515, 281573, 281621, 281967, 281973, 282552, 282559, 282662, 282989, 283040, 283118, 283289, 283337, 283342, 283394, 283617, 283628, 283695, 283747, 283773, 283805, 283930, 283951, 283957, 284201, 284390, 284413, 284702, 284798, 284814, 284882, 284915, 285102, 285140, 285141, 285217, 285302, 285316, 285428, 285531, 285824, 285915, 285921, 285925, 286257, 286278, 286592, 287124, 287373, 287420, 288314, 288447, 288463, 288668, 288693, 289457, 289481, 289956, 290438, 290762, 290880, 291012, 291373, 291503, 291512, 291669, 291953, 291993, 292068, 292394, 292405, 292778, 292799, 292802, 292870, 292908, 293009, 293454, 293585, 293618, 293641, 293986, 294018, 294115, 294129, 294220, 294239, 294465, 294805, 295065, 295861, 295952, 296032, 296216, 296290, 296343, 296471, 296480, 296542, 296638, 296765, 296768, 296825, 297032, 297114, 297177, 297813, 298099, 298478, 298544, 298700, 298881, 298931, 299043, 299415, 299733, 299913, 300269, 300432, 300441, 300450, 300516, 300552, 300644, 300845, 300910, 301164, 301204, 301302, 301400, 301795, 301796, 302235, 302857, 303186, 303303, 303399, 303634, 303722, 303943, 304130, 304393, 304531, 304650, 304769, 305017, 305034, 305052, 305108, 305234, 305516, 305701, 305936, 305954, 306311, 306370, 306679, 306727, 307258, 307315, 307404, 307529, 307627, 307782, 307872, 308143, 308226, 308460, 308578, 308954, 309017, 309210, 309268, 309284, 309403, 309492, 309671, 310025, 310137, 310141, 310375, 310526, 310741, 310848, 310997, 311040, 311042, 311186, 311425, 311442, 311472, 311505, 311578, 311601, 312033, 312049, 312085, 313736, 313760, 314196, 314247, 314325, 314548, 314649, 314682, 314688, 314787, 314843, 315087, 315373, 315387, 315389, 315426, 315470, 316545, 316736, 316806, 317066, 317262, 317417, 317593, 317904, 317926, 317931, 318004, 318048, 318529, 318759, 318761, 318926, 319213, 319268, 319339, 319631, 319750, 319770, 319930, 320003, 320500, 320864, 320900, 321189, 321192, 321480, 321814, 321884, 322096, 322319, 322591, 322804, 322870, 322904, 323194, 323247, 323319, 323469, 323479, 323602, 323634, 323689, 323834, 323938, 324080, 324196, 324237, 324400, 324415, 324488, 324524, 324588, 324686, 324935, 325035, 325102, 325199, 325321, 325364, 325534, 325783, 325976, 325989, 326067, 326073, 326415, 326504, 326587, 326724, 326868, 326934, 326952, 327062, 327624, 327722, 327767, 327774, 327924, 328144, 328869, 328890, 328925, 328961, 329008, 329142, 329267, 329336, 329716, 329722, 329724, 329814, 330090, 330141, 330299, 330392, 330524, 330541, 330646, 330651, 330883, 331148, 331554, 331575, 331640, 331751, 331809, 331894, 332028, 332149, 332215, 332217, 332321, 332528, 332536, 332568, 332619, 332715, 332792, 332888, 333287, 333377, 333465, 333562, 333687, 334205, 334209, 334211, 334224, 334352, 334665, 334926, 334974, 335137, 335168, 335375, 335443, 335448, 335487, 335493, 335703, 335752, 335926, 335996, 336081, 336086, 336445, 336689, 337090, 337189, 337258, 337425, 337450, 337469, 337517, 337523, 337586, 337639, 337662, 337663, 337716, 337758, 337787, 337881, 337946, 338452, 338534, 338626, 338678, 338784, 339674, 339752, 339757, 339862, 340005, 340076, 340350, 340508, 340668, 340717, 340721, 340863, 340935, 341387, 341396, 341705, 341722, 341856, 341860, 341904, 341946, 341954, 341992, 342048, 342189, 342236, 342375, 342451, 342660, 342855, 342962, 342964, 342977, 343134, 343151, 343172, 343201, 343283, 343351, 343560, 343641, 343686, 343712, 343739, 343961, 344123, 344169, 344482, 344837, 344841, 345351, 345477, 345478, 345552, 345846, 346145, 346164, 346192, 346383, 346434, 346454, 346460, 346527, 346719, 346791, 346876, 346917, 346945, 346987, 347108, 347245, 347818, 347947, 348116, 348574, 348857, 348897, 349138, 349142, 349438, 349470, 349584, 349744, 349778, 350143, 350193, 350286, 350330, 350491, 350767, 350786, 351051, 351061, 351148, 351401, 351516, 351537, 351583, 351598, 351662, 351710, 351733, 351950, 352023, 352152, 352196, 352494, 352502, 352597, 352832, 352912, 353111, 353116, 353414, 353546, 353705, 353749, 353787, 353838, 353845, 353973, 354414, 354777, 355035, 355208, 355321, 355421, 355628, 355663, 355671, 356140, 356366, 356429, 356762, 357144, 357149, 357388, 357707, 357800, 357845, 357946, 358026, 358134, 358251, 358359, 358421, 358543, 358769, 359322, 359343, 359391, 359520, 359572, 359588, 359590, 359854, 360823, 360906, 361057, 361101, 361123, 361138, 361193, 361298, 361339, 361434, 361644, 361674, 361832, 362329, 362356, 362417, 362510, 362638, 362657, 362661, 363054, 363205, 363250, 363557, 363753, 363948, 363977, 364005, 364074, 364879, 365342, 365491, 365670, 365724, 365823, 365826, 365872, 365881, 366050, 366174, 366318, 366374, 366533, 366653, 366655, 366817, 367100, 367278, 367342, 367722, 367912, 367940, 368152, 368464, 368757, 368872, 368913, 369024, 369154, 369164, 369199, 369323, 369356, 369571, 369606, 369637, 369833, 369947, 370199, 370213, 370231, 370671, 370748, 371151, 371176, 371290, 371381, 371422, 371463, 371591, 371617, 371778, 371838, 371990, 371992, 372198, 372238, 372370, 372381, 372539, 372809, 373006, 373151, 373172, 373402, 373453, 373678, 373740, 373787, 373822, 374254, 374255, 374328, 374377, 374475, 374546, 374735, 374740, 374884, 375065, 375110, 375214, 375227, 375358, 375396, 375776, 375796, 375835, 375839, 376052, 376286, 376482, 376523, 376639, 376882, 377058, 377088, 377165, 377218, 377267, 377355, 377715, 378173, 378246, 378247, 378282, 378491, 378651, 378761, 378909, 378964, 379051, 379149, 379233, 379249, 379769, 379924, 380107, 380150, 380294, 380576, 380588, 380892, 381527, 381888, 381913, 381981, 382204, 382359, 382369, 382397, 382636, 382752, 382874, 382914, 382973, 383036, 383058, 383184, 383233, 383240, 383371, 383552, 383570, 383583, 383614, 383679, 383685, 384098, 384164, 384381, 384508, 384681, 384813, 385202, 385593, 385863, 385883, 385940, 386102, 386327, 386360, 386362, 386543, 386583, 386708, 386809, 386891, 386908, 387088, 387129, 387136, 387149, 387166, 387253, 387494, 388024, 388122, 388187, 388214, 388345, 388477, 388643, 388722, 388771, 388896, 388922, 388982, 388987, 389175, 389179, 389336, 389426, 389461, 389512, 389668, 389830, 389902, 389947, 389971, 390211, 390286, 390313, 390359, 390373, 390443, 390458, 390628, 390780, 390825, 390900, 391290, 391380, 391657, 392056, 392160, 392256, 392565, 392615, 392753, 392788, 392966, 392985, 393168, 393180, 393288, 393304, 393317, 393382, 393543, 393555, 393571, 393573, 393634, 393982, 394280, 394316, 394450, 394584, 394585, 394829, 394851, 395104, 395160, 395168, 395177, 395224, 395705, 396112, 396147, 396375, 396377, 396531, 396734, 396904, 397181, 397344, 397427, 397918, 398131, 398241, 398430, 398640, 398751, 398969, 399284, 399299, 399505, 399520, 399582, 399658, 399685, 399814, 399898, 400284, 400343, 400457, 400536, 400633, 400637, 400696, 400750, 400752, 400754, 400896, 401128, 401219, 401603, 401655, 401819, 401834, 401899, 402014, 402635, 402674, 402820, 402825, 403032, 403059, 403110, 403147, 403196, 403379, 403523, 403573, 403638, 403643, 403810, 404133, 404207, 404296, 404555, 404664, 404997, 405145, 405315, 405881, 405890, 405969, 406022, 406437, 406494, 406567, 406580, 406629, 406642, 406823, 406906, 407255, 407277, 407314, 407539, 407756, 407965, 408027, 408420, 408437, 408443, 408897, 409653, 409730, 409926, 410061, 410281, 410599, 410607, 410704, 410931, 411004, 411018, 411047, 411049, 411057, 411090, 411103, 411114, 411123, 411251, 411295, 411603, 411702, 411807, 412072, 412164, 412351, 412358, 412379, 412527, 412583, 413035, 413467, 413499, 413654, 414641, 414752, 414858, 414952, 415118, 415311, 415420, 415831, 416188, 416345, 416651, 416787, 416905, 416951, 417023, 417273, 417415, 417698, 417965, 418026, 418229, 418279, 418334, 418356, 418442, 418555, 418557, 418622, 418649, 418854, 419000, 419008, 419009, 419099, 419102, 419187, 419280, 419343, 419505, 419557, 419652, 419691, 419768, 419775, 419779, 419879, 420002, 420012, 420045, 420160, 420176, 420283, 420321, 420519, 420600, 420815, 420931, 420938, 421635, 421649, 421881, 421882, 422088, 422155, 422240, 422256, 422439, 422466, 422690, 422778, 422914, 422957, 423250, 423266, 423829, 423877, 424205, 424913, 424961, 424995, 425171, 425442, 425445, 425760, 426132, 426427, 426683, 427036, 427538, 428248, 428249, 428369, 428887, 428976, 429150, 429368, 430067, 430349, 430557, 430795, 431117, 431142, 431178, 431324, 431668, 431821, 432288, 432357, 432539, 432797, 432830, 432909, 433076, 433523, 433948, 434196, 434641, 434703, 434709, 434776, 435037, 435143, 435402, 435436, 435459, 435486, 435536, 435566, 435810, 435866, 436210, 436442, 436618, 436777, 436832, 436967, 436973, 437395, 437400, 437461, 437465, 437484, 437499, 437653, 438020, 438194, 438458, 438498, 438542, 438558, 438572, 438670, 438700, 438949, 438977, 439127, 439287, 439402, 439437, 439634, 439659, 439668, 439733, 439824, 439887, 440042, 440050, 440191, 440234, 440262, 440448, 440542, 440653, 440656, 440672, 440762, 440867, 440868, 440871, 440952, 441027, 441956, 442262, 443065, 443158, 443177, 443676, 443726, 443803, 443868, 443947, 443973, 444070, 444290, 444747, 444759, 444774, 444873, 445173, 445289, 445478, 445586, 446054, 446297, 446317, 446612, 446824, 447375, 447417, 447428, 447440, 447719, 447882, 447936, 447978, 448043, 448278, 448314, 448556, 448661, 448753, 448871, 448986, 449046, 449421, 449457, 449554, 449748, 449758, 449829, 450086, 450161, 450165, 450329, 450363, 450490, 451058, 451331, 451456, 451486, 451556, 451933, 452095, 452126, 452163, 452173, 452219, 452242, 452467, 452509, 452650, 452808, 452973, 453152, 453516, 453620, 453657, 453791, 454110, 454203, 454258, 454574, 454730, 455061, 455273, 455342, 455352, 455390, 455417, 455537, 455647, 455740, 456260, 456276, 456478, 456707, 457161, 457163, 457188, 457307, 457537, 457563, 458078, 458188, 458292, 458351, 459347, 459399, 459830, 460116, 460221, 460344, 460373, 460471, 460591, 460715, 461082, 461128, 461165, 461293, 461450, 461499, 461500, 461654, 461763, 461802, 461906, 462383, 462422, 462768, 462799, 463199, 463285, 463925, 464317, 464369, 464391, 464790, 464835, 464931, 465064, 465319, 465445, 465449, 465537, 465630, 465702, 465804, 465914, 465949, 466246, 466315, 466420, 466508, 466700, 466701, 466739, 466767, 467280, 467385, 467407, 467493, 467532, 467611, 468152, 468416, 468860, 468938, 468948, 469140, 469158, 469180, 469360, 469517, 469638, 469646, 469654, 469673, 469676, 469858, 470037, 470389, 470613, 470641, 470678, 470680, 470694, 470842, 471741, 471809, 472003, 472183, 472203, 472515, 472702, 472727, 472731, 473037, 473324, 473823, 474115, 474118, 474401, 474405, 474720, 474794, 474997, 475047, 475081, 475086, 475329, 475693, 475919, 476065, 476212, 477022, 477464, 477473, 477970, 477993, 478051, 478717, 479097, 479178, 479196, 479262, 479298, 479582, 479789, 479793, 479959, 480682, 480740, 481001, 481029, 481034, 481038, 481068, 481177, 481254, 481259, 481264, 481442, 481758, 481963, 482166, 482222, 482315, 482369, 482964, 483054, 483083, 483145, 483451, 483483, 483533, 483538, 483543, 483545, 483707, 483838, 483910, 484179, 484306, 484757, 484832, 484845, 484894, 485042, 485050, 485060, 485145, 485291, 485385, 485533, 485887, 486068, 486071, 486158, 486215, 486325, 486352, 486426, 486533, 486609, 486711, 486760, 486937, 487024, 487179, 487186, 487222, 487652, 488077, 488208, 488209, 488296, 488780, 489145, 489293, 489494, 489613, 489771, 489881, 489949, 490055, 490061, 490119, 490231, 490391, 490431, 490439, 490463, 490545, 490716, 490819, 490868, 491034, 491076, 491672, 492260, 492519, 492524, 492642, 492771, 493178, 493243, 493522, 493634, 493639, 493789, 493941, 494100, 494136, 494447, 494712, 494813, 495248, 495316, 495380, 495589, 495599, 495734, 495735, 496725, 496726, 496831, 496969, 497266, 497356, 497400, 497594, 497595, 498035, 498272, 498564, 498669, 498790, 499091, 499348, 499456, 499572, 499662, 499808, 499889, 499901, 499911, 499973, 500209, 500284, 500744, 500920, 500947, 501009, 501028, 501093, 501348, 501520, 501604, 501670, 501787, 501812, 502001, 502058, 502078, 502122, 502167, 502221, 502334, 503693, 503843, 504065, 504136, 504180, 504345, 504382, 504500, 504639, 505227, 505389, 505842, 505944, 506699, 507200, 507539, 507598, 507603, 507808, 507924, 508021, 508220, 508408, 508424, 508497, 508505, 508511, 508621, 508665, 508765, 508774, 508863, 508968, 508993, 509124, 509522, 509845, 509890, 509957, 510301, 510312, 510379, 510739, 510973, 511117, 511128, 511375, 511384, 511408, 511761, 512186, 512332, 512406, 512465, 512622, 512906, 512953, 513297, 513306, 513416, 513675, 513816, 514109, 514238, 514306, 514363, 514796, 514901, 514970, 515047, 515122, 515130, 515223, 515546, 515567, 515587, 515860, 515932, 515975, 516084, 516581, 516588, 516777, 516858, 517624, 517692, 517793, 517800, 517836, 518020, 518055, 518212, 518249, 518390, 518551, 518561, 518870, 518912, 519510, 519561, 519684, 519692, 520079, 520092, 520652, 520855, 521016, 521047, 521090, 521279, 521356, 521363, 521653, 521821, 522327, 522447, 522455, 522545, 522643, 522919, 523064, 523107, 523212, 523219, 523259, 523421, 523445, 523515, 523806, 523912, 523972, 524012, 524186, 524294, 524402, 524453, 524584, 524853, 525112, 525148, 525623, 525671, 526460, 526529, 526587, 526599, 526632, 526853, 526967, 527069, 527105, 527164, 527200, 527237, 527282, 527442, 527568, 527666, 527687, 527699, 527767, 528394, 528470, 528524, 528539, 528560, 528695, 528709, 528843, 528994, 529256, 529410, 529447, 529499, 529523, 529578, 529712, 529796, 529977, 530086, 531333, 531407, 531625, 531752, 531760, 532089, 532146, 532273, 532469, 532604, 532683, 532686, 533272, 533354, 533408, 533514, 533517, 533676, 533754, 533768, 533886, 533947, 533999, 534207, 534297, 534409, 534497, 534506, 534517, 534550, 534834, 534857, 535119, 535333, 535476, 535720, 535801, 536163, 536359, 536365, 536377, 536478, 536520, 536587, 536635, 536720, 536870, 536874, 536925, 536965, 537019, 537121, 537379, 537664, 537688, 538034, 538201, 538264, 538285, 538577, 538829, 538859, 538927, 539094, 539169, 539180, 539229, 539339, 539436, 539603, 539851, 539928, 540138, 540345, 540559, 540690, 540698, 540985, 541174, 541298, 541329, 541390, 541547, 541648, 541670, 542062, 542090, 542215, 542255, 542323, 542335, 542475, 542638, 542696, 543649, 543772, 544454, 544541, 544556, 544623, 544669, 544682, 544845, 545006, 545091, 545703, 545829, 545925, 545939, 545949, 546090, 546231, 546397, 546495, 546977, 547109, 547162, 547274, 547408, 547677, 547703, 547901, 548039, 548206, 548330, 548478, 548555, 549115, 549151, 549203, 549254, 549604, 549742, 549772, 550130, 550275, 550431, 550471, 550480, 550623, 551158, 551282, 551632, 551789, 551961, 552136, 552215, 552330, 552393, 552469, 552856, 552871, 553010, 553269, 553459, 553756, 553781, 553889, 554316, 554337, 554709, 555116, 555144, 555175, 555497, 555522, 555670, 556063, 556153, 556202, 556221, 556222, 556261, 556323, 556345, 556561, 556563, 556839, 556986, 557082, 557818, 557831, 558005, 558112, 558197, 558530, 558666, 558731, 559007, 559106, 559146, 559171, 559427, 559450, 559468, 559561, 559621, 559662, 559706, 559836, 560209, 560280, 560283, 560569, 560834, 561054, 561325, 561331, 561353, 561386, 561410, 561420, 561542, 561592, 561684, 562172, 562216, 562309, 562417, 562452, 562463, 562536, 562642, 562927, 562961, 562962, 562985, 562990, 562991, 562996, 563167, 563506, 563606, 563815, 563817, 564016, 564171, 564306, 564352, 564782, 564955, 565151, 565291, 565332, 565333, 565470, 565566, 565588, 565733, 565848, 566002, 566152, 566401, 566498, 566502, 566756, 566774, 567125, 567163, 567185, 567373, 567709, 567737, 568190, 568295, 568328, 568435, 568473, 569031, 569106, 569605, 569711, 569890, 570303, 570452, 570464, 570554, 570671, 570783, 570797, 570847, 571213, 571369, 571389, 571744, 571915, 571979, 572002, 572135, 572332, 572481, 572541, 572570, 572647, 572864, 572913, 573002, 573555, 573674, 573779, 573982, 573997, 574015, 574362, 574414, 574485, 574785, 574797, 574993, 575160, 575270, 575456, 575461, 575614, 575628, 575699, 575762, 576218, 576313, 576397, 576476, 576546, 576556, 576559, 576710, 576809, 576888, 576893, 576981, 577045, 577092, 577614, 577824, 577976, 578004, 578013, 578544, 578833, 579040, 579228, 579263, 579358, 579750, 579968, 580050, 580299, 580377, 580507, 580577, 580729, 580762, 580982, 581215, 581897, 581920, 582308, 582336, 582524, 582547, 583004, 583139, 583383, 583435, 583509, 583641, 584316, 585080, 585207, 585246, 585364, 585608, 585833, 585998, 586062, 586301, 586409, 586454, 586504, 586614, 587065, 587232, 587238, 587319, 587342, 587354, 587414, 587515, 587537, 587624, 587634, 587700, 587799, 587985, 588099, 588113, 588114, 588186, 588481, 588518, 588713, 588921, 588924, 588994, 589082, 589268, 589356, 589365, 589626, 589672, 589793, 589805, 590180, 590327, 590382, 590714, 590722, 590916, 590929, 591013, 591470, 591939, 592021, 592049, 592155, 592584, 592590, 592627, 592640, 592786, 592837, 592957, 593122, 593299, 593658, 593745, 593929, 593946, 593980, 594079, 594471, 594972, 595386, 595439, 595598, 595637, 595662, 595666, 595688, 595702, 596041, 596346, 596430, 596618, 596970, 597118, 597329, 597505, 597509, 597784, 597814, 597971, 598091, 598173, 598320, 599039, 599370, 599624, 599764, 599801, 600160, 600220, 600444, 600468, 600469, 600633, 600637, 600656, 600787, 600806, 600861, 601172, 601442, 601534, 601795, 601887, 601941, 602144, 602591, 603082, 603211, 603321, 603441, 603442, 603506, 603620, 603625, 603687, 604110, 604126, 604167, 604396, 604421, 604470, 604774, 604837, 605077, 605204, 605218, 605239, 605286, 605310, 605487, 605622, 606087, 606214, 606246, 606349, 606378, 606729, 606769, 607132, 607328, 607363, 607536, 607687, 607737, 607765, 607868, 607969, 608159, 608771, 609234, 609326, 609353, 609472, 609640, 609688, 609931, 609997, 610024, 610064, 610129, 610385, 610792, 610866, 610954, 610978, 611038, 611081, 611118, 611189, 611204, 611206, 611274, 611423, 611563, 611564, 611648, 611842, 611934, 611950, 612297, 612303, 612833, 613462, 613607, 613772, 613843, 613988, 614197, 614204, 614294, 614299, 614328, 614383, 614390, 614518, 614656, 614688, 614691, 614744, 614897, 614909, 615066, 615349, 615400, 615465, 615601, 615732, 615733, 615752, 615927, 616084, 616520, 616521, 616829, 616859, 616940, 617063, 617128, 617155, 617156, 617288, 617346, 617517, 617905, 618282, 618292, 618295, 618712, 618809, 618815, 618978, 618981, 619010, 619013, 619111, 619466, 619647, 619698, 619808, 619834, 619835, 619880, 619955, 620089, 620193, 620209, 620303, 620389, 620470, 620471, 620573, 620616, 620718, 620812, 620826, 620838, 620881, 621065, 621251, 621339, 621578, 621579, 621601, 621731, 621743, 621776, 622032, 622276, 622442, 622533, 622655, 622677, 622685, 623195, 623220, 623380, 623420, 623597, 623627, 623645, 623745, 623846, 624054, 624062, 624063, 624073, 624362, 624639, 624697, 624852, 624866, 625282, 625384, 625668, 625812, 625824, 625880, 625978, 626133, 626823, 626951, 626978, 627103, 627183, 627272, 627312, 627630, 627673, 627695, 627951, 628459, 628728, 628916, 628991, 629080, 629243, 629249, 629292, 629650, 629746, 629910, 629940, 630164, 630166, 630338, 630341, 630443, 630516, 630528, 630536, 630575, 630715, 630834, 630945, 630958, 630972, 631074, 631090, 631857, 632134, 632195, 632325, 632364, 632414, 632446, 632473, 632698, 632764, 632911, 632972, 632995, 633173, 633179, 633242, 633458, 633464, 633493, 633526, 633680, 634179, 634329, 634461, 634546, 634854, 634855, 635021, 635105, 635248, 635392, 635499, 635505, 635944, 635976, 636029, 636153, 636184, 636198, 636312, 636329, 637056, 637075, 637289, 637300, 637379, 637766, 638768, 638779, 639097, 639098, 639192, 639400, 639499, 639538, 639608, 639705, 639742, 639817, 640359, 640366, 640441, 640514, 640730, 641147, 641298, 641362, 641547, 641600, 641741, 642142, 642376, 642575, 642629, 642663, 643047, 643062, 643539, 643559, 643783, 643972, 644224, 644617, 644654, 644877, 644967, 645105, 645457, 645653, 646190, 646502, 646628, 646705, 646869, 647036, 647196, 647217, 647336, 647422, 647599, 647625, 648050, 648165, 648280, 648348, 648451, 648591, 648826, 648939, 648959, 648998, 649329, 649404, 649483, 649547, 649666, 649730, 649910, 649992, 650050, 650259, 650303, 650308, 650312, 650323, 650378, 650599, 650641, 650686, 650758, 650792, 650867, 651041, 651697, 651706, 651740, 652045, 652048, 652854, 653558, 653631, 653658, 653864, 654019, 654120, 654300, 654432, 654540, 654794, 654833, 655208, 655280, 655454, 655964, 656183, 656273, 656371, 656623, 656682, 656729, 656913, 657001, 657821, 657855, 658063, 658302, 658330, 658361, 658406, 658413, 658611, 658636, 658664, 658673, 658723, 658730, 658807, 659266, 659471, 659623, 659800, 659837, 660179, 660185, 660218, 660223, 660276, 660606, 660681, 660771, 660781, 660836, 660959, 661091, 661932, 661988, 662136, 662275, 662282, 662303, 662486, 662811, 662879, 662965, 663053, 663146, 663183, 663185, 663275, 663669, 663681, 663822, 663909, 663913, 664051, 664285, 664460, 664487, 664576, 664578, 664622, 664847, 664852, 665038, 665403, 665535, 665600, 665678, 665797, 665854, 665892, 666055, 666084, 666179, 666347, 666557, 666817, 667190, 667398, 667413, 667468, 667566, 667664, 667716, 667784, 667900, 667926, 668150, 668165, 668516, 668697, 668700, 668978, 669006, 669133, 669195, 669210, 669280, 669290, 669497, 669601, 669740, 669772, 669775, 669896, 670062, 670112, 670120, 670192, 671803, 671812, 671911, 672123, 672172, 672191, 672272, 672820, 672856, 673269, 673274, 673276, 673661, 673839, 674029, 674189, 674490, 674543, 674608, 674631, 674652, 674682, 674709, 674871, 675411, 675601, 675876, 675936, 676915, 676924, 676976, 676979, 677098, 677105, 677182, 677275, 677285, 677365, 677390, 677670, 677703, 678015, 678274, 678393, 678958, 679119, 679218, 679257, 679470, 679535, 679547, 679831, 679912, 680414, 682059, 682528, 682542, 682609, 682758, 682833, 682835, 683220, 683465, 683626, 683697, 683874, 684065, 684121, 684126, 684198, 684238, 684281, 684290, 684353, 684508, 684551, 684714, 684719, 684808, 685300, 685383, 685401, 685598, 685630, 685832, 686122, 686135, 686137, 686172, 686188, 686334, 686356, 686574, 686897, 686995, 687025, 687234, 687331, 687917, 688183, 689033, 689176, 689794, 689821, 690134, 690229, 690296, 690421, 690439, 690688, 690730, 690739, 690809, 690903, 691515, 691841, 691995, 692154, 692315, 692347, 692498, 692537, 692571, 692580, 692587, 692647, 693176, 693646, 693758, 693920, 693969, 694230, 694349, 694363, 694409, 694718, 694803, 694849, 695112, 695428, 695486, 695487, 695587, 695657, 695759, 695760, 695833, 695952, 696572, 696573, 696576, 696609, 696634, 696643, 696705, 696749, 696877, 697029, 697053, 697257, 697526, 697656, 697938, 698003, 698017, 698078, 698084, 698151, 698312, 698316, 698358, 699031, 699102, 699584, 699602, 699802, 700192, 700193, 700370, 700477, 700599, 700642, 700660, 700672, 700748, 700830, 700961, 700997, 701131, 701225, 701398, 701569, 701648, 701692, 701824, 701879, 701890, 701937, 702252, 702741, 702764, 702765, 702816, 702817, 702855, 703092, 703120, 703288, 703336, 703512, 703549, 703571, 703663, 703972, 704157, 704262, 704510, 704556, 704596, 704670, 704710, 704874, 704994, 705256, 705404, 705421, 705461, 705463, 705749, 705860, 705958, 706070, 706101, 706311, 706316, 706327, 706466, 706720, 706737, 706818, 707076, 707247, 707322, 707402, 708108, 708864, 708951, 708975, 709344, 709426, 709457, 709659, 709755, 709817, 709835, 709866, 709867, 709881, 710021, 710048, 710062, 710205, 710574, 710620, 710706, 710947, 711090, 711496, 711612, 711643, 711984, 712239, 712279, 712280, 712456, 712460, 712602, 712609, 713254, 713361, 713428, 713531, 713546, 713976, 714032, 714044, 714129, 714547, 714717, 715114, 715168, 715187, 715188, 715192, 715676, 715773, 715790, 715795, 715840, 715878, 715912, 716085, 716199, 716495, 716544, 716692, 716709, 716788, 717265, 717295, 717600, 717684, 717714, 717725, 717833, 718011, 718593, 718797, 718816, 718905, 718922, 719140, 719162, 719288, 719323, 719737, 719783, 719933, 720381, 720708, 720941, 721156, 721311, 721348, 721420, 721478, 721584, 721628, 721737, 721944, 721999, 722155, 722249, 722273, 722365, 722391, 722436, 722583, 722974, 722983, 723238, 723327, 723383, 723453, 723456, 723627, 723811, 723818, 723951, 723956, 723985, 724131, 724166, 724227, 724338, 724339, 724361, 724511, 724619, 724702, 724709, 725092, 725160, 725170, 725319, 725334, 725398, 725415, 725669, 725681, 725751, 725866, 726133, 726730, 726752, 726859, 726993, 727043, 727317, 727618, 728271, 728524, 728577, 728645, 728713, 728821, 728858, 728890, 729076, 729091, 729212, 729351, 729499, 729681, 730440, 730493, 730568, 730621, 730767, 731102, 731132, 731235, 731236, 731491, 731594, 731934, 732000, 732188, 732546, 732645, 732694, 733188, 733345, 733799, 733884, 733904, 734049, 734050, 734221, 734258, 734311, 734370, 734377, 734412, 734563, 734599, 734651, 734776, 734886, 735141, 735187, 735199, 735302, 735528, 735727, 736029, 736178, 736268, 736614, 736879, 736927, 737138, 737174, 737587, 737592, 737594, 737979, 738157, 738347, 738507, 738808, 738861, 738926, 738949, 738970, 739000, 739027, 739189, 739729, 739919, 740194, 740254, 741233, 741242, 741294, 741297, 741416, 741423, 741500, 741593, 741603, 741683, 741708, 741988, 742021, 742333, 742592, 742711, 743276, 743437, 743536, 743575, 743788, 743853, 743865, 744149, 744230, 744732, 746377, 746846, 746860, 746927, 747076, 747151, 747153, 747538, 747783, 747944, 748015, 748192, 748383, 748439, 748444, 748516, 748556, 748599, 748608, 748671, 748826, 748869, 749032, 749037, 749126, 749618, 749701, 749719, 749916, 749948, 750150, 750440, 750453, 750455, 750490, 750506, 750652, 750674, 750892, 751215, 751313, 751343, 751552, 751649, 752235, 752501, 753351, 753494, 754112, 754139, 754452, 754547, 754614, 754739, 754757, 755006, 755048, 755057, 755127, 755221, 755833, 756159, 756313, 756472, 756633, 756665, 756816, 756855, 756889, 756898, 756905, 756965, 757494, 757964, 758076, 758238, 758287, 758548, 758667, 758681, 758727, 759036, 759121, 759167, 759430, 759746, 759804, 759805, 759905, 759975, 760077, 760078, 760151, 760270, 760890, 760891, 760894, 760927, 760952, 760961, 761023, 761067, 761195, 761347, 761371, 761575, 761844, 761974, 762256, 762321, 762335, 762396, 762402, 762469, 762630, 762634, 762676, 763349, 763420, 763902, 763920, 764120, 764510, 764511, 764688, 764795, 764917, 764960, 764978, 764990, 765066, 765148, 765279, 765315, 765449, 765543, 765716, 765887, 765966, 766010, 766142, 766197, 766208, 766255, 766570, 767059, 767082, 767083, 767134, 767135, 767173, 767410, 767438, 767606, 767654, 767830, 767867, 767889, 767981, 768290, 768475, 768580, 768828, 768874, 768914, 768988, 769028, 769192, 769312, 769574, 769722, 769739, 769779, 769781, 770067, 770178, 770276, 770388, 770419, 770629, 770634, 770645, 770784, 771038, 771055, 771136, 771394, 771565, 771640, 771720, 772426, 773182, 773269, 773293, 773662, 773744, 773775, 773977, 774073, 774135, 774153, 774184, 774185, 774199, 774339, 774366, 774380, 774523, 774892, 774938, 775024, 775265, 775408, 775814, 775930, 775961, 776302, 776557, 776597, 776598, 776774, 776778, 776920, 776927, 777572, 777679, 777746, 777849, 777864, 778294, 778350, 778362, 778447, 778865, 779035, 779432, 779486, 779505, 779506, 779510, 779994, 780091, 780108, 780113, 780158, 780196, 780230, 780403, 780517, 780813, 780862, 781010, 781027, 781106, 781583, 781613, 781918, 782002, 782032, 782043, 782151, 782329, 782911, 783115, 783134, 783223, 783240, 783458, 783480, 783606, 783641, 784055, 784101, 784251, 784699, 785026, 785259, 785474, 785629, 785666, 785738, 785796, 785902, 785946, 786055, 786262, 786317, 786473, 786567, 786591, 786683, 786709, 786754, 786901, 787292, 787301, 787556, 787645, 787701, 787771, 787774, 787945, 788129, 788136, 788269, 788274, 788303, 788449, 788484, 788545, 788656, 788657, 788679, 788829, 788937, 789020, 789027, 789410, 789478, 789488, 789637, 789652, 789716, 789733, 789987, 789999, 790069, 790184, 790451, 791048, 791070, 791177, 791311, 791361, 791635, 791936, 792589, 792842, 792895, 792963, 793031, 793139, 793176, 793208, 793394, 793409, 793530, 793669, 793817, 793999, 794758, 794811, 794886, 794939, 795085, 795420, 795450, 795553, 795554, 795809, 795912, 796252, 796318, 796506, 796864, 796963, 797012, 797506, 797663, 798117, 798202, 798222, 798367, 798368, 798539, 798576, 798629, 798688, 798695, 798730, 798881, 798917, 798969, 799094, 799204, 799459, 799505, 799517, 799620, 799846, 800045, 800347, 800496, 800586, 800932, 801197, 801245, 801352, 801556, 802087, 802184, 802312, 802467, 802777, 803049, 803269, 803652, 803691, 803965, 804007, 804016, 804189, 804229, 804231, 804321, 804328, 804637, 804863, 805111, 805523, 805648, 805979, 806022, 806120, 806147, 806202, 806356, 806533, 806564, 806638, 806730, 806747, 806756, 806827, 806921, 806923, 806957, 806986, 806996, 807070, 807150, 807190, 807306, 807466, 807558, 807683, 807884, 808294, 808432, 808439, 808809, 808918, 808930, 809017, 809024, 809123, 809844, 809938, 809974, 810035, 810358, 810442, 810889, 810989, 811190, 811225, 811265, 811571, 811573, 811777, 812202, 812439, 812531, 812532, 812548, 812581, 812833, 812879, 812893, 812920, 813153, 813403, 813761, 813876, 813973, 814063, 814242, 814245, 814249, 814680, 815053, 815146, 815158, 815162, 815245, 815259, 815459, 815479, 815527, 815562, 815776, 815783, 815861, 815956, 817293, 817346, 817405, 817765, 817825, 818024, 818847, 819540, 819622, 819869, 820097, 820278, 820297, 820332, 820641, 820763, 820764, 820825, 821132, 821179, 821359, 821369, 821502, 821540, 821581, 821600, 821619, 821628, 821651, 821793, 822016, 822065, 822078, 822139, 822283, 822326, 822478, 822528, 822567, 822598, 822602, 822636, 822659, 822679, 822757, 822882, 823100, 823544, 823545, 823555, 823601, 823733, 823799, 823997, 824232, 824454, 824573, 824574, 824590, 824812, 824822, 824953, 825057, 825120, 825274, 825339, 825374, 825591, 825930, 826079, 826288, 826423, 826625, 826649, 826650, 826667, 826893, 827069, 827446, 827451, 827491, 827589, 827611, 827702, 827759, 827761, 827853, 828178, 828198, 828205, 828562, 828719, 828783, 828946, 829083, 829689, 829732, 829902, 830030, 830106, 830358, 830434, 830561, 830616, 830821, 830883, 830931, 831368, 831562, 831697, 831883, 831893, 832211, 832334, 832345, 832404, 832560, 832629, 832677, 832704, 832960, 833165, 833216, 833258, 833574, 833609, 833637, 834049, 834109, 834309, 834326, 834351, 834668, 834707, 834891, 834899, 835190, 835396, 835529, 835866, 835961, 836353, 836372, 836420, 836688, 836710, 836774, 837346, 837797, 837846, 837863, 837994, 838118, 838157, 838162, 838344, 838393, 838604, 838808, 838992, 839053, 839521, 839608, 839663, 839667, 839858, 839967, 840125, 840169, 840268, 840477, 840559, 840724, 840819, 840877, 840925, 841148, 841156, 841189, 841396, 841815, 841872, 842158, 842235, 842264, 842297, 842378, 842394, 842437, 842476, 842500, 842894, 843144, 843271, 843844, 843914, 844317, 844386, 844440, 844587, 844647, 844928, 845105, 845142, 845191, 845248, 845435, 845476, 845490, 845532, 845658, 845682, 845706, 845762, 845917, 846019, 846268, 846366, 846463, 846525, 846613, 846778, 846803, 846822, 847065, 847210, 847228, 847740, 847792, 847866, 847873, 848013, 848297, 848299, 848336, 848426, 848573, 848578, 848607, 848897, 848911, 848936, 848949, 848987, 849016, 849123, 849219, 849286, 849406, 849719, 849839, 850023, 850072, 850368, 850371, 850400, 850459, 850467, 850795, 850837, 850915, 851034, 851117, 851210, 851280, 851674, 852501, 852726, 852753, 853031, 853159, 853169, 853359, 853591, 853597, 854035, 854104, 854155, 854183, 854284, 854460, 854860, 855217, 855360, 855378, 856435, 856759, 856866, 856991, 857084, 857110, 857287, 857334, 857429, 857478, 857622, 857685, 857759, 857761, 857767, 858072, 858107, 858189, 858263, 858714, 859006, 859311, 859340, 859397, 859823, 860070, 860078, 860084, 860088, 860377, 860420, 860443, 860706, 860754, 860854, 861097, 861234, 861289, 861412, 861520, 861625, 861752, 861767, 861788, 861799, 861834, 861989, 862153, 862260, 862264, 862664, 863171, 863978, 863998, 864019, 864118, 864177, 864193, 864387, 864883, 864951, 865184, 865312, 865330, 865462, 865631, 865724, 865779, 865788, 865831, 865877, 866141, 866146, 866292, 866470, 866521, 866565, 866576, 866724, 866890, 866899, 866910, 866914, 866944, 867024, 867091, 867094, 867491, 867570, 867647, 867671, 867686, 867786, 868002, 868224, 868278, 868610, 868730, 868787, 868812, 868845, 868858, 868863, 869034, 869495, 869657, 869866, 869867, 869892, 870162, 870418, 870730, 870746, 870757, 871146, 871169, 871189, 871190, 871193, 871208, 871239, 871288, 871336, 871507, 871675, 871705, 871713, 871740, 872075, 872210, 872711, 872835, 873004, 873031, 873172, 873173, 873264, 873305, 873489, 873498, 873616, 873832, 874242, 874321, 874512, 874584, 874588, 874789, 874831, 874929, 875043, 875149, 875162, 875284, 875321, 875362, 875393, 875668, 875766, 875794, 876511, 876532, 876555, 876653, 876657, 876666, 876802, 876804, 876820, 876845, 876945, 876984, 877044, 877129, 877346, 877486, 877503, 877561, 877723, 877732, 877910, 878109, 878310, 878345, 878411, 878486, 878504, 878623, 879034, 879045, 879073, 879151, 879194, 879216, 879220, 879252, 879396, 879590, 879601, 879674, 879740, 879748, 880037, 880096, 880768, 880783, 880795, 881062, 881097, 881141, 881153, 881179, 881391, 881505, 881515, 881600, 881622, 881697, 881777, 881991, 882011, 882023, 882043, 882077, 882089, 882116, 882137, 882612, 882779, 882968, 883038, 883062, 883147, 883682, 884563, 884739, 884743, 884752, 884769, 884813, 884899, 885369, 885629, 885657, 886319, 886321, 886327, 886348, 886364, 886678, 886763, 886824, 886836, 886893, 887128, 887435, 887440, 887443, 887505, 887668, 887795, 887890, 887926, 888107, 888294, 888349, 888669, 888825, 888832, 888834, 888851, 888859, 888897, 888981, 889170, 889218, 889256, 889606, 889615, 889695, 889717, 890140, 890263, 890285, 890729, 890745, 890941, 891104, 891150, 891365, 891438, 893035, 893272, 893273, 893480, 893523, 894007, 894138, 894357, 894361, 894369, 894496, 894538, 894554, 894607, 894956, 894973, 894978, 895166, 895267, 895280, 895353, 895638, 895658, 895757, 895833, 895889, 896128, 896373, 896542, 896599, 897283, 897331, 897776, 897844, 897974, 898090, 898258, 898398, 898441, 898709, 898809, 898918, 899725, 899748, 899770, 899798, 899881, 900323, 900715, 900734, 900785, 900835, 900853, 900885, 900907, 901015, 901121, 901165, 901202, 901211, 901302, 901326, 901444, 901915, 902051, 902071, 902084, 902146, 902164, 902170, 902265, 902272, 902373, 902382, 902384, 902475, 902501, 902719, 903053, 903287, 903333, 903398, 903565, 903934, 904472, 904482, 904613, 904926, 905149, 905193, 905242, 905258, 905285, 905528, 905809, 905921, 906166, 906289, 906412, 907200, 907285, 907392, 907421, 907429, 907684, 907726, 907812, 907849, 907895, 907909, 908297, 908408, 908474, 908497, 908540, 908568, 908634, 908701, 908736, 908817, 908827, 908896, 908924, 908929, 909010, 909012, 909081, 909300, 909683, 909735, 909748, 909808, 909832, 910003, 910219, 910788, 910909, 910965, 910979, 911065, 911068, 911324, 911411, 911769, 912032, 912109, 912172, 912255, 912721, 912738, 912757, 912765, 913104, 913117, 913163, 913263, 913280, 913672, 913890, 913903, 914337, 914752, 914980, 915287, 915289, 915333, 915351, 915388, 915548, 915639, 915667, 915683, 915711, 915890, 915912, 916374, 916420, 916520, 916556, 916570, 916577, 916623, 916629, 916711, 916728, 917069, 917212, 917260, 917284, 918183, 918314, 918456, 918663, 918759, 918860, 918881, 919019, 919110, 919126, 919166, 919178, 919233, 919235, 919241, 919722, 919792, 919813, 920156, 920272, 920484, 920760, 920880, 920904, 920917, 921152, 921154, 921468, 921514, 921696, 921894, 922022, 922035, 922204, 922727, 923180, 923377, 923558, 923559, 923795, 923799, 923816, 923938, 923969, 923977, 923991, 924107, 924175, 924435, 924464, 924524, 924602, 924801, 924957, 925060, 925062, 925071, 925086, 925305, 925321, 925342, 925349, 925404, 925440, 925441, 925705, 925814, 925956, 926063, 926256, 926375, 926398, 926429, 926505, 926704, 926924, 926938, 927003, 927533, 927696, 927697, 927857, 927870, 927871, 928036, 928044, 928048, 928310, 928418, 928679, 928706, 929158, 929204, 929221, 929237, 929397, 929542, 929867, 930116, 930193, 930254, 930436, 930472, 930565, 930601, 930733, 931182, 931558, 931794, 931838, 932035, 932097, 932145, 932169, 932172, 932571, 932585, 932609, 932613, 932929, 932953, 932958, 932967, 932969, 932972, 933002, 933170, 933269, 933580, 933640, 933717, 933821, 934037, 934111, 934278, 934305, 934417, 934571, 935312, 935705, 935998, 936171, 936410, 936547, 936626, 937170, 937436, 937444, 937549, 938127, 938133, 938540, 938641, 938646, 938651, 938879, 938954, 939054, 939193, 939228, 939446, 939503, 939631, 939660, 939741, 939783, 939823, 939841, 939948, 940200, 940693, 940716, 940730, 940749, 940758, 940762, 940835, 940853, 941260, 941339, 941506, 941538, 941541, 941649, 941792, 941970, 942271, 942273, 942315, 942386, 942442, 942534, 942786, 942788, 942818, 942819, 942837, 943078, 943238, 943535, 943586, 943599, 943614, 943748, 943750, 943784, 943800, 944005, 944123, 944198, 944270, 944943, 944967, 945073, 945238, 945556, 945786, 945933, 946118, 946568, 946626, 946735, 946767, 946788, 946879, 946895, 946942, 947096, 947174, 947328, 947416, 947833, 947875, 947918, 947999, 948080, 948114, 948168, 948243, 948259, 948322, 948575, 948744, 948750, 948773, 948777, 948833, 949015, 949388, 949550, 949554, 949563, 949564, 949570, 949592, 950088, 950132, 950136, 950142, 950148, 950158, 950583, 950893, 951274, 951278, 951411, 951483, 952322, 952360, 952473, 952478, 952706, 952859, 952862, 953112, 953175, 953346, 953347, 953357, 953798, 953966, 954442, 954547, 954659, 955253, 955320, 955331, 955608, 955641, 955650, 955738, 955775, 955809, 955851, 955861, 955911, 955915, 955921, 955948, 956005, 956155, 956160, 956262, 956312, 956380, 956593, 956602, 956636, 956693, 956723, 956758, 957038, 957103, 957258, 957384, 957496, 957513, 957573, 957859, 957863, 958014, 958197, 958279, 958351, 958415, 958428, 958476, 958590, 958608, 958635, 958711, 958841, 958975, 959206, 959637, 960359, 960422, 960512, 960555, 960581, 960698, 960952, 961109, 961135, 961206, 961352, 961409, 962139, 962250, 962321, 962982, 963057, 963374, 963395, 963772, 963874, 964184, 964223, 964305, 964312, 964478, 964618, 965018, 965048, 965622, 966260, 966276, 966305, 966613, 966840, 967017, 967442, 967506, 967514, 967719, 967864, 967885, 967968, 968219, 968301, 968338, 968396, 968471, 968548, 969027, 969368, 969737, 969739, 969814, 970104, 970924, 970927, 971067, 971089, 971111, 971360, 971609, 971798, 971847, 971928, 972150, 972277, 972287, 972640, 972643, 972737, 972832, 973052, 973071, 973080, 973083, 973097, 973287, 973338, 973608, 973642, 973693, 973744, 974046, 974352, 974433, 974741, 974882, 975882, 976145, 976187, 976199, 976555, 976629, 976740, 976765, 976771, 976864, 976893, 976958, 976963, 977226, 977527, 977531, 977863, 977867, 978009, 978448, 978653, 978962, 978970, 979059, 979277, 979296, 979403, 979636, 979694, 979811, 979812, 979977, 979980, 980262, 980313, 980729, 980947, 981186, 981284, 981310, 981371, 981590, 981591, 981795, 981887, 981944, 981992, 981994, 982063, 982106, 982124, 982201, 982364, 982465, 982737, 982901, 983213, 983252, 983873, 984065, 984324, 984412, 984557, 984588, 984772, 984774, 985078, 985278, 985443, 985564, 985571, 985664, 985685, 985710, 985946, 986287, 986342, 986375, 986516, 986638, 986801, 986851, 986864, 986953, 986967, 987021, 987022, 987266, 987395, 987484, 987800, 987877, 987974, 988105, 988370, 988433, 988579, 988718, 988755, 988790, 988857, 990016, 990190, 990207, 990282, 991009, 991166, 991344, 991421, 991488, 991784, 991930, 992092, 992098, 992111, 992118, 992371, 992485, 992659, 993092, 993128, 993857, 993858, 994232, 994579, 994682, 994689, 995065, 995321, 995344, 995376, 995458, 995479, 995628, 995659, 995675, 995726, 995727, 996776, 997049, 997071, 997082, 997124, 997450, 997482, 997608, 997694, 997834, 997940, 997960, 998145, 998514, 998684, 998792, 999013, 999425, 999459, 999782, 999947, 1000072, 1000423, 1000459, 1000505, 1000535, 1000660, 1002358, 1002628, 1002669, 1002851, 1002891, 1002897, 1002940, 1003006, 1003310, 1003396, 1003455, 1003635, 1003648, 1003769, 1003806, 1003843, 1004099, 1004122, 1004142, 1004200, 1004204, 1004365, 1004443, 1004452, 1004475, 1004548, 1004560, 1004586, 1004638, 1004766, 1004793, 1004795, 1004824, 1005102, 1005190, 1005202, 1005238, 1005411, 1006285, 1006646, 1007031, 1007032, 1007066, 1007076, 1007277, 1007406, 1007620, 1007758, 1007828, 1008422, 1008580, 1008612, 1008628, 1009187, 1009266, 1009505, 1009527, 1009552, 1009795, 1009897, 1009898, 1009952, 1010002, 1010524, 1010542, 1010568, 1010870, 1010876, 1010935, 1010954, 1011035, 1011101, 1011296, 1011362, 1011431, 1011534, 1011555, 1011560, 1011602, 1011647, 1012044, 1012057, 1012217, 1012240, 1012282, 1012440, 1012563, 1012584, 1013292, 1013326, 1013401, 1013410, 1013792, 1013855, 1014143, 1014145, 1014269, 1014294, 1014319, 1014575, 1014602, 1015232, 1015240, 1015340, 1015436, 1015665, 1015809, 1015906, 1016179, 1016620, 1016943, 1016997, 1017016, 1017017, 1017021, 1017169, 1017229, 1017266, 1017292, 1017539, 1017629, 1017730, 1017738, 1017783, 1017831, 1017956, 1017958, 1018012, 1018558, 1018564, 1019024, 1019618, 1019802, 1020158, 1020166, 1020374, 1020538, 1020773, 1020900, 1020941, 1021173, 1021376, 1021559, 1021650, 1021817, 1022237, 1022802, 1022908, 1023510, 1023585, 1023667, 1023672, 1023819, 1023890, 1023928, 1023979, 1024187, 1024227, 1024228, 1024229, 1024238, 1024241, 1024336, 1024363, 1024446, 1024587, 1024787, 1024816, 1024983, 1025011, 1025069, 1025336, 1025565, 1025568, 1027029, 1027030, 1027430, 1027432, 1027455, 1027503, 1027710, 1027711, 1027915, 1028165, 1028662, 1028802, 1028830, 1029011, 1029018, 1029072, 1029106, 1029203, 1029700, 1029975, 1030143, 1030199, 1030218, 1030257, 1030261, 1030518, 1030560, 1030562, 1030636, 1030657, 1030723, 1030740, 1030869, 1030926, 1030927, 1031225, 1031347, 1031463, 1031544, 1031545, 1031669, 1031697, 1031808, 1031865, 1032005, 1032128, 1032218, 1033166, 1033317, 1033342, 1033379, 1033422, 1033555, 1033563, 1034188, 1034218, 1034280, 1034589, 1034706, 1034738, 1034868, 1034870, 1034872, 1034878, 1034887, 1035003, 1035402, 1035446, 1035622, 1035717, 1035825, 1035913, 1035920, 1035931, 1036247, 1036380, 1036580, 1036660, 1036883, 1036931, 1036944, 1036954, 1036968, 1036984, 1037124, 1037156, 1037328, 1037675, 1037682, 1037827, 1038084, 1038989, 1039055, 1039090, 1039336, 1039365, 1039789, 1039879, 1040152, 1040157, 1040193, 1040396, 1040442, 1040622, 1040623, 1040871, 1040941, 1040973, 1041258, 1041334, 1041453, 1041516, 1041526, 1041612, 1042034, 1042070, 1042123, 1042237, 1042535, 1042595, 1042627, 1042738, 1042743, 1042748, 1042756, 1042788, 1042939, 1042977, 1042983, 1042990, 1043166, 1043220, 1043268, 1043641, 1043698, 1044073, 1044303, 1044445, 1044484, 1044524, 1044564, 1044592, 1044763, 1044784, 1044829, 1044833, 1044844, 1044853, 1044914, 1045032, 1045204, 1045298, 1045385, 1045609, 1045644, 1045645, 1045769, 1045853, 1045856, 1045868, 1045887, 1046309, 1046342, 1046351, 1046585, 1046635, 1046639, 1047064, 1047242, 1047290, 1047436, 1047461, 1047533, 1047552, 1047642, 1047729, 1048202, 1048215, 1048283, 1048421, 1048503, 1048544, 1048761, 1048821, 1048872, 1049000, 1049057, 1049213, 1049273, 1049798, 1049829, 1049930, 1050130, 1050316, 1050505, 1050857, 1050961, 1051006, 1051056, 1051106, 1051248, 1051635, 1051784, 1051997, 1052450, 1052663, 1052694, 1052703, 1052759, 1052838, 1053042, 1053115, 1053249, 1053398, 1053418, 1053534, 1053541, 1053715, 1053748, 1053865, 1053908, 1054095, 1054149, 1054150, 1054166, 1054214, 1054256, 1054309, 1055024, 1055085, 1055355, 1055479, 1055487, 1055707, 1055746, 1055831, 1056038, 1056077, 1056133, 1056349, 1056636, 1056750, 1056858, 1056887, 1057068, 1057091, 1057572, 1057736, 1057765, 1058124, 1058144, 1058333, 1059011, 1059290, 1059363, 1059383, 1059403, 1059546, 1059560, 1059612, 1059675, 1059778, 1059914, 1060252, 1060302, 1060417, 1060516, 1060679, 1060808, 1060907, 1060965, 1060988, 1061370, 1061406, 1062181, 1062224, 1062269, 1062323, 1062366, 1062369, 1062381, 1062520, 1062523, 1062536, 1062545, 1062573, 1062610, 1062643, 1062803, 1062820, 1062917, 1063017, 1063203, 1063294, 1063445, 1063456, 1063491, 1063621, 1063669, 1063727, 1063799, 1063825, 1063946, 1063952, 1064202, 1064237, 1064363, 1064513, 1064638, 1064688, 1064747, 1064986, 1065010, 1065140, 1065426, 1065471, 1065512, 1065795, 1065809, 1066025, 1066029, 1066100, 1066794, 1066913, 1066959, 1067245, 1067342, 1067901, 1068017, 1068114, 1068122, 1068168, 1068201, 1068392, 1068493, 1070472, 1070493, 1070575, 1070676, 1070823, 1070996, 1071051, 1071127, 1071137, 1071182, 1071346, 1071700, 1071774, 1072091, 1072251, 1072323, 1072347, 1072476, 1072613, 1072705, 1072738, 1072806, 1072994, 1073054, 1073073, 1073177, 1073301, 1074232, 1074507, 1074510, 1074515, 1074570, 1074693, 1074770, 1075047, 1075319, 1075440, 1075558, 1075686, 1075690, 1076199, 1076284, 1076326, 1076327, 1076364, 1076625, 1076626, 1076690, 1077122, 1077200, 1077326, 1078018, 1078441, 1078509, 1078591, 1078610, 1078667, 1078727, 1079048, 1079172, 1079229, 1079352, 1079371, 1079378, 1079911, 1079992, 1080254, 1080447, 1080648, 1080661, 1080871, 1080999, 1081040, 1081041, 1081364, 1081435, 1081653, 1081680, 1081769, 1081804, 1082031, 1082041, 1082273, 1082296, 1082346, 1082376, 1082388, 1082640, 1082647, 1082652, 1082983, 1083044, 1083287, 1083323, 1083414, 1083749, 1083878, 1084558, 1084574, 1084599, 1084909, 1085105, 1085410, 1085476, 1085661, 1085784, 1085793, 1086034, 1086198, 1086606, 1086637, 1087042, 1087066, 1087091, 1087161, 1087189, 1087314, 1087391, 1087735, 1087751, 1087840, 1088054, 1088365, 1088453, 1088463, 1088564, 1089016, 1089217, 1089308, 1089445, 1089449, 1089621, 1089729, 1089764, 1090698, 1090853, 1090939, 1091017, 1091150, 1091369, 1091441, 1091482, 1091549, 1092121, 1092157, 1092279, 1092330, 1093315, 1093361, 1093554, 1093736, 1093751, 1093978, 1094301, 1094370, 1094543, 1094545, 1094710, 1094835, 1094844, 1094896, 1094911, 1094928, 1094933, 1095037, 1095078, 1095084, 1095867, 1096006, 1096323, 1096767, 1097096, 1097114, 1097355, 1097363, 1097575, 1097635, 1097672, 1097776, 1097992, 1097995, 1098314, 1098543, 1098745, 1098788, 1098835, 1099216, 1099388, 1099410, 1099850, 1099861, 1100097, 1100122, 1100156, 1100211, 1100331, 1100369, 1100421, 1100547, 1100576, 1100699, 1100702, 1100833, 1101161, 1101401, 1101443, 1101517, 1101641, 1101763, 1102009, 1102027, 1102106, 1102178, 1102867, 1103252, 1103341, 1103494, 1104046, 1104184, 1104362, 1104392, 1104410, 1104490, 1104491, 1104501, 1104520, 1104865, 1105289, 1105531, 1105816, 1105827, 1105969, 1106161, 1106393, 1106857, 1106931, 1107415, 1107940, 1108044, 1108830, 1108914, 1110001, 1110073, 1110076, 1110085, 1110125, 1110130, 1110145, 1110175, 1110413, 1110457, 1110561, 1110573, 1110759, 1110923, 1110931, 1110942, 1111008, 1111146, 1111149, 1111626, 1111659, 1111835, 1111929, 1111933, 1112260, 1112268, 1112277, 1112285, 1112419, 1112609, 1112625, 1112749, 1112808, 1112886, 1113405, 1113651, 1114123, 1114201, 1114205, 1114404, 1114496, 1114644, 1114727, 1114731, 1114869, 1115135, 1115151, 1115203, 1115746, 1115831, 1115959, 1116130, 1116376, 1116470, 1116473, 1116490, 1116539, 1116550, 1116595, 1116645, 1116765, 1116957, 1117225, 1117280, 1117395, 1118214, 1118567, 1118651, 1119143, 1119760, 1119766, 1119769, 1119901, 1120472, 1120519, 1120823, 1120937, 1121085, 1121380, 1121551, 1121910, 1121921, 1122463, 1122559, 1122928, 1122956, 1122981, 1123636, 1123667, 1123742, 1123868, 1124059, 1124082, 1124102, 1124127, 1124307, 1124435, 1124469, 1124542, 1124628, 1124717, 1124749, 1124996, 1125080, 1125148, 1125209, 1125219, 1125447, 1125510, 1125514, 1126168, 1126243, 1126358, 1126372, 1126471, 1126711, 1126840, 1126890, 1126909, 1127122, 1127208, 1127225, 1127291, 1127326, 1127391, 1127535, 1127918, 1128028, 1130299, 1130335, 1130377, 1130658, 1130806, 1130998, 1131038, 1131307, 1131731, 1131751, 1131758, 1131940, 1131946, 1132049, 1132090, 1132091, 1133030, 1133178, 1133556, 1133700, 1133753, 1133861, 1133919, 1133924, 1134053, 1134372, 1134454, 1134899, 1134912, 1134957, 1135116, 1135192, 1135219, 1135226, 1135240, 1135245, 1135358, 1135514, 1136249, 1136304, 1136506, 1136968, 1137096, 1137100, 1137102, 1137122, 1137133, 1137210, 1137643, 1137912, 1138123, 1138449, 1138460, 1138462, 1138595, 1138698, 1138779, 1138799, 1138864, 1138912, 1138963, 1139254, 1139287, 1139314, 1139333, 1139961, 1140406, 1140417, 1140436, 1140446, 1141402, 1141520, 1141618, 1141766, 1141782, 1141825, 1141994, 1142455, 1143929, 1143930, 1144073, 1144805, 1144849, 1145204, 1145230, 1145275, 1145556, 1145564, 1145898, 1145932, 1146002, 1146126, 1146230, 1146243, 1146279, 1146300, 1146447, 1146479, 1147127, 1147223, 1147276, 1147336, 1147385, 1147438, 1147540, 1147578, 1147752, 1148267, 1148299, 1148301, 1148309, 1148434, 1148446, 1148837, 1148864, 1149031, 1149303, 1149606, 1149967, 1150226, 1150324, 1150380, 1151160, 1151400, 1151485, 1152169, 1152237, 1152251, 1152349, 1152446, 1152598, 1152670, 1152712, 1153002, 1153042, 1153213, 1153242, 1153366, 1153372, 1153741, 1153788, 1154115, 1154124, 1154126, 1154130, 1154135, 1154137, 1154158, 1154160, 1154209, 1154240, 1154326, 1154342, 1154387, 1154412, 1154470, 1154485, 1154540, 1154712, 1154786, 1154888, 1154969, 1155032, 1155132, 1155180, 1155341, 1155393, 1155481, 1155613, 1155637, 1155695, 1156237, 1156280, 1156470, 1156524, 1156679, 1156737, 1156976, 1156986, 1157045, 1157150, 1157501, 1157504, 1157540, 1157603, 1157608, 1157610, 1157655, 1158110, 1158307, 1158454, 1158683, 1158769, 1158865, 1158959, 1159001, 1159011, 1159107, 1159186, 1159312, 1159365, 1159395, 1159496, 1159501, 1159653, 1160019, 1160047, 1160331, 1160678, 1160693, 1161027, 1161373, 1161551, 1161600, 1161890, 1161944, 1162276, 1162571, 1162642, 1162703, 1162758, 1162840, 1162991, 1162994, 1163058, 1163065, 1163167, 1163257, 1163274, 1163307, 1163352, 1163377, 1163553, 1163579, 1163636, 1163780, 1163799, 1163828, 1163974, 1163981, 1164016, 1164292, 1164472, 1164556, 1164571, 1164595, 1164601, 1164608, 1164648, 1164655, 1164723, 1164740, 1164898, 1164916, 1165105, 1165130, 1165219, 1165291, 1165314, 1165497, 1165744, 1166303, 1166396, 1166410, 1166557, 1166573, 1167117, 1167217, 1167446, 1167540, 1167857, 1167859, 1168074, 1168192, 1168921, 1169733, 1169794, 1169918, 1170318, 1170359, 1170443, 1170699, 1171344, 1171378, 1171402, 1171424, 1171827, 1172221, 1172224, 1173069, 1173112, 1173145, 1173304, 1173346, 1173408, 1173429, 1173560, 1173813, 1174060, 1174401, 1174425, 1174549, 1175021, 1175044, 1175093, 1175107, 1175160, 1175266, 1176176, 1176277, 1176476, 1177544, 1178205, 1178336, 1178630, 1179669, 1179754, 1179817, 1179943, 1180002, 1180063, 1180537, 1180827, 1180841, 1180903, 1180908, 1181051, 1181268, 1181427, 1181480, 1181613, 1181776, 1181817, 1181971, 1182785, 1182904, 1182935, 1182998, 1183030, 1183287, 1183405, 1183507, 1183543, 1185196, 1185285, 1185496, 1185788, 1186405, 1186665, 1186694, 1187253, 1187264, 1187273, 1187369, 1187624, 1188017, 1188058, 1188366, 1188805, 1188811, 1188850, 1188867, 1188935, 1189018, 1189246, 1189374, 1189382, 1189417, 1189494, 1190066, 1190068, 1190149, 1190222, 1190301, 1190314, 1190418, 1190474, 1190488, 1190520, 1190656, 1191048, 1191268, 1191798, 1191989, 1192365, 1192473, 1192474, 1192596, 1192640, 1192651, 1193188, 1193542, 1193630, 1193665, 1193810, 1193811, 1193831, 1193864, 1193914, 1194394, 1194429, 1194431, 1194637, 1194815, 1194957, 1195009, 1195113, 1195211, 1195320, 1196236, 1197180, 1197723, 1197986, 1198028, 1198034, 1198387, 1198502, 1198598, 1198697, 1198738, 1198873, 1198908, 1199017, 1199043, 1199085, 1199214, 1199369, 1199468, 1199482, 1199498, 1199514, 1199660, 1199666, 1199685, 1199724, 1199740, 1199777, 1200637, 1200883, 1201191, 1201335, 1201365, 1201487, 1201500, 1201513, 1201764, 1202097, 1202421, 1203039, 1204111, 1204396, 1205738, 1206172, 1206334, 1206498, 1206537, 1206781, 1206838, 1207155, 1207206, 1207288, 1207356, 1207399, 1207550, 1207637, 1207936, 1207968, 1208002, 1208031, 1208116, 1208150, 1208381, 1208555, 1208591, 1208775, 1208949, 1209030, 1209171, 1209491, 1209630, 1210199, 1210320, 1210420, 1210496, 1210511, 1210787, 1211272, 1212142, 1212210, 1212290, 1212353, 1212383, 1212654, 1212819, 1212880, 1212889, 1212916, 1213109, 1213315, 1213345, 1213370, 1213388, 1213459, 1213619, 1213642, 1214789, 1214800, 1214803, 1214869, 1214974, 1215250, 1215279, 1215401, 1215641, 1215704, 1215712, 1215758, 1215816, 1216142, 1216309, 1216470, 1216477, 1216488, 1216910, 1216937, 1216959, 1216995, 1217918, 1217998, 1218023, 1218272, 1218339, 1218366, 1218429, 1218481, 1218489, 1218540, 1218851, 1218866, 1219014, 1219332, 1219361, 1219392, 1220706, 1220992, 1221642, 1221764, 1221994, 1222073, 1222196, 1222215, 1222238, 1222266, 1222389, 1222403, 1222473, 1222579, 1222741, 1222761, 1222785, 1222841, 1222863, 1222960, 1223100, 1223288, 1225179, 1225300, 1225630, 1225645, 1226093, 1226177, 1226194, 1226297, 1226318, 1226338, 1226399, 1226420, 1226798, 1226878, 1226903, 1226952, 1227213, 1227542, 1228123, 1228229, 1228570, 1229031, 1229134, 1229164, 1229243, 1229335, 1229396, 1229456, 1229474, 1229602, 1229623, 1229808, 1229822, 1229929, 1230068, 1230069, 1230088, 1230331, 1230526, 1230738, 1230818, 1230949, 1231091, 1231494, 1231729, 1232641, 1232873, 1232878, 1232884, 1232886, 1232966, 1233020, 1233317, 1233537, 1233576, 1233736, 1234015, 1234137, 1234142, 1234297, 1235134, 1235260, 1235436, 1235536, 1236073, 1236278, 1236335, 1236364, 1236381, 1236623, 1236689, 1236860, 1236870, 1236900, 1237475, 1237559, 1237675, 1237864, 1237990, 1238008, 1238183, 1239274, 1239653, 1239712, 1239762, 1239763, 1239778, 1239840, 1240110, 1240135, 1240141, 1240308, 1240420, 1240926, 1240964, 1240981, 1241064, 1241205, 1241221, 1241273, 1241312, 1241381, 1241393, 1241486, 1241578, 1242682, 1242937, 1242943, 1242951, 1243068, 1243074, 1243335, 1243636, 1243700, 1243714, 1243717, 1243850, 1243898, 1244129, 1244182, 1244188, 1244840, 1245156, 1245282, 1245615, 1246454, 1246989, 1246997, 1247316, 1247406, 1247416, 1247459, 1247908, 1248060, 1248084, 1248207, 1248731, 1248752, 1249169, 1249462, 1249540, 1249595, 1249664, 1249819, 1249882, 1250087, 1250410, 1251165, 1251175, 1251522, 1251613, 1251626, 1251629, 1251858, 1251893, 1251899, 1251932, 1251939, 1251990, 1252072, 1252099, 1252195, 1252249, 1252424, 1252459, 1252484, 1252566, 1252642, 1252694, 1254809, 1254930, 1255565, 1255804, 1255873, 1256880, 1256913, 1256947, 1256983, 1257035, 1257047, 1257117, 1257162, 1257261, 1257289, 1257490, 1257687, 1257976, 1258263, 1258596, 1258637, 1258799, 1258878, 1258903, 1259202, 1259684, 1259705, 1259872, 1259875, 1260281, 1260302, 1260657, 1260679, 1260684, 1260874, 1260934, 1261177, 1261358, 1261572, 1261634, 1261803, 1261962, 1262003, 1262276, 1262433, 1262439, 1262440, 1262458, 1262739, 1263028, 1263301, 1263432, 1263779, 1263780, 1263833, 1263843, 1263852, 1263953, 1264068, 1264096, 1264166, 1264367, 1264520, 1264573, 1264956, 1264976, 1265204, 1265259, 1265517, 1265911, 1265914, 1266237, 1266385, 1266985, 1267202, 1267601, 1267703, 1267711, 1267985, 1267986, 1268291, 1268452, 1268509, 1268908, 1269068, 1269340, 1269545, 1269745, 1269824, 1269950, 1270218, 1270285, 1270432, 1270636, 1270875, 1271569, 1271679, 1271816, 1271830, 1272177, 1272208, 1272310, 1272333, 1272605, 1272961, 1272991, 1273073, 1273166, 1274363, 1274416, 1274421, 1274486, 1274620, 1275090, 1275433, 1275760, 1275787, 1275865, 1276077, 1276390, 1276433, 1276516, 1276574, 1276731, 1276839, 1276848, 1277127, 1277248, 1277327, 1277459, 1277604, 1277734, 1277750, 1278308, 1278537, 1278767, 1279105, 1279290, 1279337, 1279344, 1279350, 1279562, 1279857, 1279876, 1279884, 1279892, 1279937, 1280588, 1280595, 1280608, 1280749, 1280767, 1280790, 1280791, 1280809, 1280830, 1280845, 1280978, 1281296, 1282163, 1282392, 1282563, 1282734, 1282819, 1282914, 1283373, 1283443, 1283569, 1283641, 1283711, 1283746, 1283874, 1284417, 1284634, 1285200, 1285203, 1285264, 1285467, 1285478, 1285508, 1285515, 1285878, 1285932, 1285962, 1285992, 1285994, 1285996, 1285997, 1286001, 1286009, 1286057, 1286360, 1286482, 1286595, 1286722, 1286745, 1286797, 1287066, 1287189, 1287335, 1287729, 1287806, 1287839, 1288396, 1288498, 1288519, 1288524, 1288947, 1289030, 1289200, 1289268, 1289304, 1289631, 1290691, 1290799, 1290837, 1290842, 1291273, 1292093, 1292604, 1292686, 1292769, 1292938, 1293188, 1293252, 1293366, 1293540, 1293682, 1294034, 1294204, 1294241, 1294245, 1294439, 1294623, 1294830, 1294839, 1294985, 1295395, 1295410, 1295432, 1295520, 1295670, 1295770, 1295778, 1295845, 1295943, 1296057, 1296230, 1296422, 1297150, 1297529, 1297589, 1297607, 1297647, 1297694, 1297730, 1298140, 1298510, 1298704, 1298857, 1299301, 1299373, 1299606, 1299609, 1299674, 1299685, 1299794, 1300058, 1300074, 1300107, 1300286, 1300313, 1300508, 1300967, 1300969, 1301187, 1301205, 1301525, 1301624, 1301765, 1301776, 1301891, 1302076, 1302515, 1302534, 1302660, 1302919, 1303115, 1303191, 1303197, 1303206, 1303368, 1303495, 1303721, 1303776, 1304524, 1304884, 1304995, 1305149, 1305151, 1305184, 1305228, 1305708, 1305837, 1305847, 1305903, 1305915, 1305921, 1305929, 1306060, 1306077, 1306106, 1306294, 1306305, 1306399, 1306463, 1306525, 1306561, 1306568, 1306610, 1306653, 1306818, 1306820, 1306917, 1307035, 1307036, 1307070, 1307169, 1307171, 1307499, 1307519, 1307746, 1307929, 1308268, 1308369, 1308494, 1308591, 1308698, 1308902, 1309452, 1309856, 1309886, 1309983, 1310130, 1310306, 1310316, 1310379, 1310411, 1310538, 1310754, 1310816, 1310873, 1311010, 1311016, 1311073, 1311129, 1311152, 1311165, 1311359, 1311531, 1311661, 1312009, 1312181, 1312309, 1312316, 1312459, 1312485, 1312565, 1312628, 1312771, 1312861, 1313030, 1313095, 1313323, 1313372, 1313575, 1313851, 1313940, 1313986, 1314013, 1314030, 1314059, 1314064, 1314298, 1314424, 1314456, 1315058, 1315206, 1315227, 1315240, 1315247, 1315840, 1315874, 1316005, 1316042, 1316783, 1316902, 1317216, 1317380, 1317461, 1317470, 1317517, 1317732, 1317890, 1317950, 1318400, 1318449, 1318480, 1318499, 1318508, 1318586, 1318635, 1318654, 1319075, 1319429, 1319436, 1320173, 1320194, 1320304, 1320533, 1320774, 1320781, 1320790, 1320908, 1321343, 1321915, 1321986, 1322065, 1322099, 1322458, 1322562, 1322767, 1322828, 1322842, 1323138, 1323529, 1323553, 1323856, 1324354, 1324470, 1324497, 1324575, 1324760, 1324763, 1324770, 1324781, 1324803, 1325007, 1325026, 1326134, 1326690, 1326839, 1327049, 1327099, 1327106, 1327206, 1327304, 1327354, 1327559, 1327691, 1327788, 1327851, 1327892, 1328177, 1328299, 1328539, 1328554, 1328587, 1328805, 1328949, 1328961, 1329140, 1329179, 1329501, 1329671, 1329701, 1329854, 1330072, 1330248, 1330741, 1330845, 1330941, 1331569, 1331586, 1331612, 1331677, 1332018, 1332073, 1332184, 1332209, 1332787, 1332991, 1333002, 1333690, 1333779, 1333859, 1334067, 1334068, 1334105, 1334158, 1334177, 1334338, 1334350, 1334389, 1334411, 1334915, 1335081, 1335269, 1335280, 1335368, 1335384, 1335498, 1335565, 1335585, 1335592, 1336250, 1338960, 1339098, 1339769, 1340072, 1340263, 1340276, 1340302, 1340457, 1340461, 1340938, 1340942, 1340979, 1341053, 1341281, 1341759, 1341934, 1341954, 1341990, 1342010, 1342149, 1342279, 1343498, 1344153, 1344207, 1344311, 1345228, 1345589, 1345791, 1346024, 1346636, 1346716, 1346717, 1346919, 1347043, 1347905, 1348097, 1348165, 1348525, 1348625, 1348637, 1348864, 1348922, 1349226, 1349234, 1350373, 1350519, 1350632, 1351171, 1351409, 1351641, 1351680, 1351755, 1351901, 1352003, 1352305, 1352823, 1352850, 1353119, 1353189, 1353561, 1353594, 1353723, 1353744, 1353825, 1353878, 1353932, 1353935, 1354004, 1354066, 1354110, 1354131, 1354789, 1354806, 1354841, 1355014, 1355081, 1355189, 1355367, 1355428, 1355914, 1356010, 1356134, 1356268, 1356315, 1356544, 1356605, 1356666, 1356691, 1357818, 1357962, 1358194, 1358575, 1358576, 1358635, 1358654, 1359278, 1359343, 1360012, 1360291, 1360769, 1360841, 1360968, 1361163, 1361524, 1361793, 1362116, 1362457, 1362694, 1362829, 1362897, 1362981, 1363202, 1363213, 1363321, 1363485, 1363671, 1363977, 1364046, 1364074, 1364194, 1364457, 1364749, 1364912, 1364996, 1365146, 1365351, 1365477, 1365630, 1365801, 1365884, 1365930, 1365931, 1366012, 1366393, 1366454, 1366511, 1366546, 1366660, 1366736, 1367005, 1367105, 1367179, 1368393, 1368456, 1368688, 1368770, 1368915, 1368923, 1368994, 1369076, 1369546, 1369549, 1369555, 1369671, 1369778, 1370144, 1370465, 1371310, 1371812, 1372209, 1372320, 1372440, 1372664, 1372855, 1372891, 1373001, 1373036, 1373945, 1374088, 1374256, 1374482, 1374533, 1374736, 1374748, 1375085, 1375171, 1375442, 1376170, 1376232, 1376281, 1376315, 1377217, 1377774, 1378284, 1378290, 1378316, 1378338, 1378369, 1378557, 1378809, 1378810, 1378829, 1378849, 1378918, 1378944, 1378969, 1378991, 1378996, 1379308, 1379424, 1379488, 1379803, 1379832, 1380075, 1380158, 1380402, 1380417, 1381158, 1381245, 1381971, 1381989, 1382143, 1382490, 1382551, 1382660, 1382884, 1383345, 1383745, 1383923, 1384445, 1384870, 1385294, 1385321, 1385680, 1385728, 1385856, 1385864, 1385974, 1386142, 1386517, 1386537, 1386568, 1386583, 1386615, 1386672, 1386693, 1386911, 1386917, 1386937, 1386986, 1387180, 1388038, 1388282, 1388334, 1388474, 1389175, 1389279, 1389366, 1389395, 1389602, 1389829, 1390012, 1390034, 1390184, 1390199, 1390758, 1390880, 1390990, 1391226, 1391493, 1391552, 1392034, 1392257, 1392469, 1392574, 1393864, 1394380, 1394401, 1395156, 1396269, 1396549, 1396565, 1396881, 1396993, 1397033, 1397062, 1397332, 1397518, 1397678, 1397689, 1397755, 1397783, 1398700, 1398720, 1399186, 1399592, 1399671, 1399675, 1399756, 1399770, 1399884, 1399895, 1399916, 1400018, 1400024, 1400076, 1400093, 1400226, 1400264, 1400403, 1400439, 1400454, 1400467, 1400473, 1400579, 1400599, 1400624, 1400643, 1400803, 1400809, 1400814, 1400998, 1401047, 1401162, 1401565, 1401569, 1401754, 1401770, 1402910, 1403031, 1403066, 1403158, 1403199, 1403263, 1403316, 1403328, 1404007, 1404383, 1404496, 1405454, 1405463, 1405548, 1405662, 1406176, 1406268, 1406433, 1406470, 1406599, 1406736, 1406992, 1407036, 1407280, 1407413, 1407725, 1407738, 1407739, 1407967, 1408270, 1408308, 1408341, 1408434, 1409080, 1409565, 1409729, 1409939, 1410011, 1410288, 1410409, 1410627, 1410910, 1410964, 1411268, 1411286, 1411358, 1411361, 1411375, 1411451, 1411499, 1411634, 1411669, 1411781, 1411832, 1411841, 1411867, 1411924, 1412002, 1412599, 1412640, 1412699, 1412792, 1412894, 1412907, 1413297, 1413303, 1413358, 1413395, 1413561, 1413567, 1414252, 1414321, 1414462, 1414520, 1414585, 1414629, 1414644, 1414774, 1414781, 1414824, 1414917, 1414955, 1415016, 1415047, 1415115, 1415119, 1415769, 1415995, 1416188, 1416538, 1416576, 1416868, 1417073, 1417082, 1417521, 1417640, 1417786, 1417835, 1417886, 1417974, 1418029, 1418188, 1418310, 1418364, 1418481, 1418544, 1418553, 1418585, 1419415, 1419476, 1419641, 1419648, 1419924, 1420054, 1420720, 1420778, 1421748, 1421851, 1421960, 1421961, 1421984, 1421996, 1422048, 1422067, 1422290, 1422388, 1422427, 1422946, 1423106, 1423108, 1423312, 1423393, 1423708, 1424137, 1424215, 1424222, 1424277, 1424342, 1424462, 1424464, 1424799, 1424833, 1424908, 1424916, 1425028, 1425048, 1425126, 1425148, 1425189, 1425261, 1425298, 1425430, 1425498, 1425556, 1425594, 1425653, 1425686, 1425736, 1425752, 1426071, 1426365, 1427469, 1427471, 1427856, 1428035, 1428158, 1428221, 1428242, 1428410, 1428417, 1428440, 1428566, 1428595, 1428611, 1428643, 1428673, 1429365, 1429382, 1429386, 1429420, 1429494, 1429556, 1429949, 1430846, 1430941, 1431379, 1431680, 1431708, 1432006, 1432168, 1432396, 1432413, 1432502, 1432723, 1432835, 1433093, 1433164, 1433773, 1433791, 1433797, 1433877, 1434103, 1434108, 1434178, 1434390, 1434393, 1434458, 1434934, 1435128, 1435211, 1435234, 1435321, 1435338, 1435353, 1435367, 1435515, 1435529, 1435533, 1435647, 1435668, 1435724, 1435774, 1435821, 1435822, 1435874, 1435974, 1436045, 1436077, 1436295, 1436420, 1437414, 1437466, 1437776, 1437785, 1437865, 1438037, 1438050, 1438068, 1438223, 1438352, 1438401, 1438457, 1438578, 1438684, 1438745, 1438770, 1438807, 1438813, 1438828, 1438840, 1438949, 1438979, 1439024, 1439040, 1439070, 1439117, 1439153, 1439353, 1440909, 1441274, 1441275, 1441297, 1441315, 1441434, 1441462, 1441482, 1441711, 1442473, 1442564, 1442623, 1442975, 1443389, 1443434, 1443439, 1443623, 1445261, 1445285, 1445332, 1445339, 1445409, 1445458, 1445922, 1445944, 1446028, 1446111, 1446167, 1446834, 1447519, 1447909, 1448002, 1448110, 1448607, 1448676, 1448879, 1448892, 1449212, 1449711, 1449847, 1450092, 1450132, 1450290, 1450416, 1450560, 1450612, 1450821, 1450910, 1450947, 1450959, 1451256, 1451354, 1451520, 1452096, 1452471, 1452481, 1452818, 1453104, 1453430, 1453546, 1453723, 1453897, 1453917, 1454329, 1454400, 1454437, 1454445, 1454672, 1454751, 1454983, 1455163, 1455306, 1455313, 1455348, 1455516, 1455562, 1455676, 1455827, 1455960, 1456060, 1456094, 1456299, 1456455, 1456632, 1456792, 1456825, 1456954, 1457055, 1457334, 1457470, 1457548, 1457694, 1457739, 1457917, 1457970, 1458021, 1458209, 1458943, 1458993, 1459244, 1459280, 1459349, 1459951, 1460115, 1460200, 1460201, 1461033, 1461267, 1461431, 1461587, 1461824, 1461854, 1462025, 1462273, 1462274, 1462326, 1462336, 1462478, 1462711, 1462817, 1462822, 1463601, 1463663, 1463940, 1464042, 1464324, 1464489, 1464496, 1464550, 1464713, 1464833, 1465669, 1465707, 1465881, 1466177, 1466187, 1466205, 1467221, 1467277, 1467408, 1467434, 1467470, 1467473, 1467619, 1467661, 1467730, 1468053, 1468088, 1468482, 1468493, 1468635, 1468719, 1468903, 1468940, 1469061, 1469202, 1469298, 1469499, 1469616, 1469637, 1469866, 1469990, 1470000, 1470049, 1470113, 1470149, 1470501, 1472004, 1472069, 1472128, 1472333, 1472335, 1472462, 1472547, 1472608, 1472678, 1472726, 1472915, 1473001, 1473023, 1473171, 1473250, 1473798, 1473897, 1474183, 1474252, 1474280, 1474434, 1474525, 1474768, 1475455, 1475485, 1476010, 1476352, 1476610, 1476654, 1476792, 1476917, 1477083, 1477104, 1477466, 1477828, 1477948, 1478131, 1478698, 1478705, 1478904, 1479250, 1479394, 1479669, 1480177, 1480182, 1480509, 1480565, 1481111, 1481122, 1481127, 1481196, 1481294, 1481909, 1482137, 1482166, 1482177, 1482534, 1483063, 1483106, 1483176, 1483778, 1484200, 1484204, 1484310, 1484341, 1484348, 1484391, 1484459, 1484658, 1484684, 1484984, 1485039, 1485154, 1485355, 1485379, 1486764, 1486939, 1487023, 1487598, 1487719, 1489106, 1489256, 1489310, 1489324, 1489473, 1489708, 1489749, 1489870, 1489963, 1490060, 1490072, 1490124, 1491060, 1491176, 1491255, 1491364, 1491395, 1491439, 1491492, 1491597, 1491613, 1491619, 1491644, 1492117, 1492212, 1492258, 1492296, 1492320, 1492612, 1492885, 1493135, 1493279, 1493488, 1493557, 1493744, 1494256, 1494308, 1494338, 1494418, 1494953, 1495027, 1495254, 1495322, 1495619, 1495657, 1496950, 1497012, 1497265, 1497581, 1497627, 1497752, 1497768, 1497797, 1497875, 1497888, 1498124, 1498196, 1498357, 1498465, 1499122, 1499172, 1499228, 1499495, 1499518, 1499633, 1499707, 1499710, 1499796, 1499834, 1499855, 1499872, 1499885, 1499944, 1500936, 1500961, 1500996, 1500999, 1501007, 1501266, 1501293, 1501309, 1501366, 1501422, 1501492, 1501512, 1501810, 1501852, 1501866, 1501890, 1502168, 1502197, 1502247, 1502330, 1502426, 1502451, 1502496, 1503663, 1503920, 1504145, 1504179, 1504378, 1504475, 1504521, 1505046, 1505052, 1505238, 1505241, 1505279, 1506189, 1506209, 1506592, 1507213, 1507231, 1507411, 1507447, 1507593, 1507626, 1507641, 1507731, 1507941, 1507965, 1508204, 1508210, 1508319, 1508542, 1508889, 1510019, 1510222, 1510348, 1510375, 1510404, 1510486, 1510564, 1510696, 1510924, 1511151, 1511392, 1511393, 1511895, 1512015, 1512128, 1512138, 1512167, 1512581, 1512628, 1512643, 1512690, 1512774, 1513088, 1513186, 1513224, 1513454, 1513456, 1513868, 1514051, 1514570, 1514921, 1515004, 1515173, 1515260, 1515350, 1515354, 1515369, 1515416, 1515488, 1515596, 1515603, 1515793, 1515900, 1515925, 1515987, 1516087, 1516150, 1516171, 1516235, 1516298, 1516361, 1516423, 1516535, 1516564, 1516605, 1516624, 1517121, 1517605, 1517944, 1519541, 1519747, 1519971, 1519980, 1520105, 1520108, 1520222, 1520235, 1520242, 1520294, 1520351, 1520399, 1520446, 1520571, 1520607, 1521427, 1521733, 1522032, 1522091, 1522767, 1523336, 1523385, 1523469, 1523472, 1523746, 1523747, 1524109, 1524187, 1524364, 1524441, 1524447, 1524588, 1525332, 1525422, 1525504, 1525771, 1525847, 1525985, 1526116, 1526367, 1526476, 1526604, 1526784, 1526894, 1527068, 1527465, 1527495, 1527768, 1528126, 1528738, 1528836, 1528944, 1529060, 1529077, 1529481, 1529581, 1529764, 1529766, 1529777, 1529874, 1529880, 1530781, 1530881, 1531078, 1531087, 1531433, 1531544, 1531580, 1531688, 1532029, 1532304, 1532307, 1532399, 1533272, 1533649, 1533879, 1534446, 1534770, 1535375, 1535457, 1535661, 1535779, 1535862, 1535952, 1536384, 1536523, 1536856, 1537187, 1537472, 1537484, 1537703, 1538039, 1538133, 1538159, 1538162, 1538198, 1538832, 1538862, 1539122, 1539256, 1539698, 1539770, 1540190, 1540693, 1540821, 1540960, 1540963, 1541002, 1541181, 1541200, 1541247, 1542193, 1542256, 1542389, 1542432, 1542444, 1542670, 1542858, 1543062, 1543077, 1543079, 1543133, 1543151, 1543943, 1544004, 1544102, 1544236, 1544339, 1544361, 1544381, 1544485, 1544514, 1544622, 1544631, 1544670, 1544784, 1544785, 1544893, 1544903, 1545325, 1545827, 1546343, 1546715, 1546827, 1546879, 1546943, 1546978, 1547113, 1547225, 1547247, 1547325, 1547380, 1547885, 1548013, 1548021, 1548053, 1548143, 1548277, 1548292, 1548295, 1548388, 1548416, 1548428, 1548466, 1548579, 1548615, 1548864, 1548931, 1549287, 1549382, 1549802, 1550177, 1550723, 1550743, 1551450, 1551567, 1551710, 1551933, 1551962, 1552048, 1552051, 1552160, 1552175, 1552232, 1552366, 1552787, 1553242, 1553254, 1553273, 1553536, 1553557, 1553591, 1553717, 1553733, 1553869, 1554141, 1554152, 1554294, 1554597, 1555513, 1555551, 1555674, 1556149, 1556291, 1556311, 1556337, 1556366, 1556373, 1556378, 1556463, 1556521, 1556651, 1556667, 1556712, 1556746, 1556872, 1557384, 1557454, 1557508, 1557623, 1557743, 1557773, 1557913, 1558101, 1558265, 1558307, 1558397, 1558616, 1558970, 1559473, 1559566, 1559871, 1560121, 1560451, 1560513, 1560778, 1560833, 1560990, 1561022, 1561411, 1561513, 1561521, 1561539, 1561694, 1561706, 1561997, 1562158, 1562424, 1562497, 1562540, 1562562, 1562630, 1562661, 1563884, 1563925, 1564228, 1564505, 1564618, 1564634, 1564962, 1565595, 1565638, 1565773, 1565826, 1565852, 1565945, 1565958, 1566039, 1566089, 1566131, 1566255, 1566292, 1566356, 1566497, 1566734, 1567572, 1567963, 1568043, 1568050, 1568065, 1568080, 1568170, 1568784, 1568785, 1568789, 1568790, 1569153, 1569293, 1569298, 1569455, 1569883, 1569907, 1569965, 1570146, 1570216, 1570258, 1570435, 1570436, 1570840, 1570986, 1571087, 1571253, 1571264, 1571279, 1571307, 1571315, 1571330, 1571710, 1572046, 1572477, 1572819, 1572852, 1573247, 1573301, 1573614, 1573670, 1573735, 1573843, 1573847, 1573956, 1574031, 1574079, 1574146, 1574151, 1574422, 1574518, 1574535, 1574647, 1574677, 1575730, 1575766, 1575837, 1575954, 1576057, 1576066, 1576101, 1576115, 1576400, 1577334, 1577433, 1577616, 1577719, 1577852, 1577859, 1577913, 1577992, 1578124, 1578328, 1578368, 1578394, 1578425, 1578516, 1579252, 1579429, 1579713, 1579715, 1579907, 1580154, 1580662, 1580675, 1580688, 1580736, 1580739, 1581300, 1581873, 1581939, 1582031, 1582039, 1582218, 1582227, 1582238, 1582480, 1582782, 1582965, 1582966, 1582968, 1583088, 1583162, 1583384, 1583525, 1583660, 1583697, 1583718, 1583775, 1583847, 1583852, 1583854, 1583874, 1583976, 1584040, 1584074, 1584083, 1584117, 1584130, 1584150, 1584467, 1584812, 1585057, 1585061, 1585202, 1585485, 1585547, 1585703, 1585743, 1585785, 1585798, 1585843, 1585861, 1585875, 1585967, 1585979, 1586029, 1586204, 1587059, 1587269, 1587516, 1587568, 1587580, 1587676, 1588110, 1588130, 1588224, 1588529, 1588531, 1588702, 1588823, 1588862, 1588916, 1589043, 1589357, 1589745, 1590067, 1590105, 1590169, 1590206, 1590249, 1590284, 1590347, 1590414, 1590448, 1590968, 1590999, 1591058, 1591211, 1591294, 1591470, 1591637, 1591852, 1592066, 1592227, 1592237, 1592325, 1592578, 1592639, 1592793, 1593120, 1593171, 1593635, 1593728, 1593860, 1593941, 1594433, 1594592, 1595005, 1595224, 1595441, 1595517, 1595942, 1595980, 1596234, 1596239, 1596292, 1596692, 1597321, 1597362, 1597413, 1597439, 1597446, 1597616, 1597634, 1598890, 1598960, 1599148, 1599238, 1599379, 1599443, 1599505, 1599584, 1599872, 1600044, 1600171, 1600419, 1600477, 1600656, 1600697, 1600797, 1600817, 1600933, 1600973, 1601504, 1601707, 1601719, 1601789, 1601808, 1601814, 1601818, 1601878, 1601886, 1601889, 1602301, 1602925, 1602931, 1603068, 1603263, 1603286, 1603327, 1603411, 1603415, 1603479, 1603509, 1603515, 1603931, 1604249, 1604276, 1604311, 1604484, 1604698, 1604887, 1605118, 1605281, 1605311, 1605353, 1605392, 1605433, 1605438, 1605499, 1605506, 1605515, 1605794, 1605804, 1605899, 1605902, 1606038, 1606559, 1606663, 1606731, 1606825, 1606872, 1606945, 1607071, 1607464, 1607492, 1607593, 1607955, 1608308, 1608414, 1608515, 1608781, 1608988, 1609227, 1609615, 1609652, 1609670, 1610187, 1610231, 1610297, 1610301, 1610332, 1610708, 1610894, 1611048, 1611367, 1611560, 1611720, 1611750, 1611776, 1611797, 1612123, 1612220, 1612305, 1612501, 1612713, 1612729, 1613020, 1613072, 1613108, 1613218, 1613290, 1613511, 1613591, 1613926, 1613959, 1614003, 1614031, 1614076, 1614505, 1614687, 1615173, 1615231, 1615492, 1615726, 1615870, 1615871, 1615897, 1615899, 1615960, 1615965, 1616060, 1616075, 1616296, 1616373, 1616378, 1616385, 1616471, 1616521, 1616585, 1616594, 1616673, 1616831, 1616858, 1616890, 1617201, 1617252, 1617293, 1617362, 1617479, 1617530, 1617548, 1617744, 1617803, 1617839, 1617927, 1617965, 1617971, 1618139, 1618253, 1618319, 1618321, 1618398, 1618415, 1618524, 1618526, 1618542, 1618563, 1618574, 1618932, 1619164, 1619184, 1619205, 1619435, 1619704, 1619952, 1620025, 1620200, 1620349, 1620555, 1621681, 1622104, 1622144, 1622181, 1622196, 1622411, 1622705, 1623133, 1623470, 1624024, 1624353, 1624361, 1624418, 1624448, 1624563, 1624703, 1624915, 1625018, 1625095, 1625099, 1625637, 1625652, 1625683, 1625805, 1626231, 1626414, 1626473, 1626559, 1626626, 1626913, 1627048, 1627116, 1627314, 1627720, 1627795, 1627868, 1628044, 1628071, 1628192, 1628386, 1628478, 1628724, 1628984, 1629154, 1629286, 1629523, 1629614, 1629627, 1629689, 1629723, 1629805, 1630012, 1630779, 1630782, 1630983, 1631230, 1631527, 1632411, 1632792, 1633397, 1633914, 1634024, 1634161, 1634189, 1634371, 1634437, 1634531, 1634556, 1634565, 1634645, 1634652, 1634908, 1635016, 1635189, 1635248, 1635426, 1635469, 1635577, 1635702, 1635750, 1635848, 1635892, 1635976, 1636102, 1636616, 1636971, 1637119, 1637137, 1637254, 1637318, 1637335, 1637412, 1637447, 1637546, 1637665, 1637753, 1637783, 1637845, 1637994, 1638037, 1638054, 1638277, 1638370, 1638729, 1638738, 1638985, 1639089, 1639227, 1639469, 1640096, 1640273, 1640402, 1640491, 1640710, 1640837, 1640967, 1640978, 1641054, 1641284, 1641320, 1641477, 1641671, 1641900, 1642075, 1642170, 1642206, 1642207, 1642232, 1642310, 1642693, 1642723, 1642725, 1642748, 1643073, 1643162, 1643172, 1643235, 1643319, 1643328, 1643483, 1643601, 1643625, 1643640, 1643761, 1643831, 1643836, 1644049, 1644121, 1644249, 1644416, 1644425, 1645213, 1645515, 1645642, 1646249, 1646409, 1646531, 1646575, 1646921, 1646952, 1647261, 1647284, 1647369, 1647386, 1647555, 1647627, 1648005, 1648086, 1648270, 1648304, 1648307, 1648476, 1648620, 1648756, 1648915, 1648987, 1649109, 1649316, 1649363, 1649545, 1649734, 1649834, 1649869, 1650124, 1650440, 1650442, 1650596, 1650711, 1650713, 1650743, 1650872, 1650955, 1651375, 1651384, 1651423, 1651610, 1651938, 1651997, 1652049, 1652157, 1652292, 1652429, 1652526, 1652570, 1652616, 1652996, 1653012, 1653031, 1653143, 1653434, 1653553, 1653664, 1653979, 1654213, 1654349, 1654522, 1654879, 1655184, 1655335, 1655730, 1655817, 1655821, 1655837, 1655894, 1656089, 1656193, 1656195, 1656290, 1656300, 1656380, 1656411, 1656784, 1657794, 1658180, 1658313, 1658400, 1659335, 1659460, 1659644, 1659675, 1659677, 1659734, 1660083, 1660092, 1660176, 1660188, 1660318, 1660387, 1660477, 1660714, 1660794, 1660945, 1661057, 1661495, 1661516, 1661683, 1661699, 1661825, 1662248, 1663266, 1663887, 1663961, 1664063, 1664416, 1664532, 1664630, 1664826, 1665014, 1665030, 1665101, 1665118, 1665124, 1665233, 1665277, 1665314, 1665440, 1665645, 1665660, 1665889, 1665948, 1666030, 1666079, 1666167, 1666168, 1666458, 1667209, 1667444, 1667457, 1667753, 1667884, 1667906, 1668068, 1668077, 1668519, 1669085, 1669179, 1669206, 1669638, 1669648, 1669835, 1669930, 1670060, 1670165, 1670237, 1670462, 1670643, 1670867, 1670899, 1670940, 1671294, 1671508, 1671537, 1671850, 1673008, 1673090, 1673138, 1673160, 1673218, 1673250, 1673296, 1673341, 1673554, 1673689, 1673710, 1674149, 1674623, 1675036, 1675087, 1675140, 1675298, 1675422, 1675547, 1675685, 1675755, 1675761, 1675821, 1676066, 1676156, 1676486, 1676974, 1677436, 1677444, 1677479, 1677501, 1677502, 1677759, 1678022, 1678486, 1678749, 1678831, 1678906, 1679001, 1679003, 1679014, 1679021, 1679098, 1679256, 1679302, 1679337, 1679413, 1679420, 1679424, 1679511, 1679524, 1679533, 1679630, 1679693, 1679731, 1680879, 1681049, 1681062, 1681143, 1681168, 1681209, 1681241, 1681256, 1681267, 1681282, 1681331, 1681334, 1681350, 1681660, 1681971, 1681980, 1682071, 1682077, 1682129, 1682198, 1682199, 1682206, 1682236, 1682321, 1682410, 1682557, 1682654, 1683448, 1683519, 1683524, 1683742, 1683841, 1683984, 1684074, 1684142, 1684156, 1684368, 1684559, 1684640, 1684730, 1685115, 1685249, 1685360, 1685466, 1685611, 1685987, 1686340, 1686356, 1686433, 1686448, 1686586, 1686891, 1686909, 1686953, 1687199, 1687212, 1687227, 1687239, 1687254, 1687261, 1687303, 1687400, 1687516, 1687532, 1687585, 1687668, 1687709, 1687718, 1687775, 1687815, 1687929, 1687956, 1688009, 1688065, 1688094, 1688126, 1688298, 1688353, 1688371, 1688404, 1688493, 1688567, 1688696, 1688702, 1689429, 1689442, 1689631, 1690007, 1690520, 1690741, 1690843, 1691001, 1691272, 1691365, 1691414, 1691539, 1691667, 1691692, 1691770, 1691782, 1691821, 1691860, 1691966, 1691983, 1692022, 1692060, 1692118, 1692232, 1692312, 1692429, 1692510, 1692557, 1692564, 1692572, 1692721, 1692753, 1692864, 1693208, 1693277, 1693512, 1694236, 1694240, 1694244, 1694297, 1694581, 1694587, 1694590, 1694600, 1694798, 1695029, 1695315, 1695365, 1695688, 1695750, 1696115, 1696212, 1696930, 1697633, 1697665, 1697678, 1697758, 1697939, 1697943, 1697966, 1698147, 1698201, 1698363, 1698384, 1698750, 1698779, 1698790, 1698795, 1698806, 1698932, 1698974, 1698994, 1699078, 1699362, 1699389, 1699486, 1699512, 1699909, 1700013, 1700036, 1700106, 1700239, 1700396, 1700419, 1700471, 1700484, 1700562, 1700601, 1700629, 1700664, 1700691, 1700789, 1700791, 1700910, 1701193, 1701635, 1701707, 1701709, 1701721, 1701724, 1701810, 1702060, 1702627, 1702682, 1702710, 1702873, 1702880, 1702937, 1703063, 1703257, 1703403, 1703432, 1703807, 1703908, 1703954, 1704033, 1704199, 1704797, 1705050, 1705053, 1705109, 1705358, 1705440, 1705498, 1705563, 1705712, 1705759, 1705923, 1706542, 1706611, 1706617, 1707225, 1707509, 1707534, 1707563, 1707736, 1707820, 1707979, 1707984, 1708005, 1708092, 1708266, 1708409, 1708504, 1708665, 1709235, 1709249, 1709269, 1709394, 1709409, 1709438, 1709495, 1709560, 1709603, 1709767, 1710018, 1710044, 1710168, 1710172, 1710183, 1710474, 1710786, 1710942, 1711051, 1711451, 1711534, 1711692, 1711723, 1711755, 1711844, 1711858, 1712147, 1712518, 1712590, 1712776, 1712877, 1713699, 1713864, 1714033, 1714359, 1714719, 1714726, 1714776, 1714806, 1714888, 1714942, 1715039, 1715043, 1715048, 1715092, 1715336, 1715412, 1715605, 1715664, 1715735, 1715997, 1716125, 1716308, 1716331, 1716802, 1716966, 1717054, 1717076, 1717112, 1717298, 1717343, 1717386, 1717410, 1717423, 1717521, 1717989, 1718065, 1718130, 1718698, 1718736, 1718759, 1718765, 1719042, 1719064, 1719249, 1719500, 1719571, 1719599, 1719698, 1719712, 1720105, 1720142, 1720147, 1720178, 1720276, 1721521, 1721578, 1721690, 1721789, 1721948, 1722301, 1722344, 1722400, 1722472, 1722859, 1722912, 1722983, 1723261, 1723848, 1723932, 1724351, 1724476, 1724538, 1724633, 1724698, 1724790, 1725070, 1725274, 1725297, 1725393, 1725591, 1725624, 1725856, 1725858, 1725944, 1726057, 1726120, 1726145, 1726235, 1726246, 1726970, 1726996, 1727297, 1727625, 1728026, 1728063, 1728340, 1728452, 1728501, 1728797, 1728820, 1728852, 1728873, 1728964, 1729322, 1729337, 1729360, 1729730, 1729861, 1730216, 1730270, 1730316, 1730330, 1730350, 1730475, 1730497, 1730511, 1730519, 1730759, 1730819, 1731001, 1731119, 1731238, 1731361, 1731936, 1732051, 1732334, 1732356, 1732689, 1732870, 1733359, 1733563, 1733632, 1733708, 1733840, 1734971, 1735053, 1735285, 1736139, 1736141, 1737009, 1737594, 1737663, 1737677, 1737759, 1738005, 1738020, 1738120, 1738285, 1738302, 1738383, 1738467, 1738510, 1738520, 1738523, 1738524, 1738549, 1738755, 1739140, 1739408, 1739507, 1739567, 1739713, 1739809, 1740241, 1740688, 1740757, 1740772, 1740830, 1741334, 1741508, 1741545, 1741686, 1741701, 1741976, 1742008, 1742037, 1742060, 1742071, 1742775, 1742868, 1742905, 1743189, 1743220, 1743588, 1743744, 1743785, 1743796, 1743814, 1743860, 1743896, 1743927, 1744172, 1744230, 1744279, 1744412, 1744550, 1744886, 1745127, 1745257, 1745337, 1745379, 1745492, 1745567, 1745586, 1745594, 1745620, 1745967, 1745994, 1746107, 1746321, 1746444, 1746703, 1746980, 1747000, 1747021, 1747114, 1747214, 1747283, 1747352, 1747404, 1747755, 1747872, 1747907, 1748243, 1748384, 1748401, 1748460, 1748620, 1749096, 1749097, 1749151, 1749335, 1749419, 1749491, 1749782, 1750056, 1751133, 1751402, 1751482, 1751565, 1751606, 1752013, 1752086, 1752903, 1753281, 1753347, 1753504, 1753561, 1753715, 1753780, 1753889, 1753960, 1753980, 1753992, 1754007, 1754014, 1754019, 1754383, 1754772, 1754923, 1755203, 1755227, 1755394, 1755730, 1755765, 1755981, 1755989, 1756004, 1756046, 1756303, 1756428, 1756433, 1756616, 1756669, 1756791, 1757004, 1757166, 1757246, 1757518, 1757549, 1757839, 1757856, 1757984, 1757987, 1758029, 1758030, 1758075, 1758088, 1758165, 1758168, 1758338, 1758531, 1758596, 1758784, 1759153, 1759300, 1759332, 1759386, 1759610, 1759698, 1759718, 1759939, 1760306, 1760470, 1760648, 1760715, 1760733, 1760834, 1761127, 1761406, 1761432, 1761520, 1761600, 1761677, 1761691, 1761742, 1761918, 1761956, 1762395, 1762399, 1762606, 1762820, 1762825, 1762922, 1763003, 1763053, 1763078, 1763148, 1763279, 1763289, 1763409, 1763419, 1763486, 1763541, 1763574, 1763849, 1764181, 1764474, 1764752, 1764841, 1764984, 1765796, 1765873, 1765875, 1765897, 1765912, 1765948, 1766112, 1766268, 1766362, 1766370, 1766416, 1766456, 1766534, 1766651, 1766680, 1766924, 1767142, 1767545, 1767595, 1767645, 1767683, 1767690, 1768028, 1768344, 1768362, 1768460, 1768885, 1769053, 1769104, 1769243, 1769417, 1769652, 1769653, 1770108, 1770120, 1770154, 1770591, 1771020, 1771113, 1771248, 1771480, 1771653, 1771792, 1771888, 1771920, 1771990, 1772189, 1772242, 1772294, 1772648, 1772740, 1772891, 1773235, 1773507, 1773542, 1773634, 1773749, 1773752, 1774012, 1774015, 1774049, 1774304, 1774337, 1774697, 1774812, 1774813, 1774844, 1774845, 1774851, 1774868, 1774870, 1774917, 1774971, 1774998, 1775012, 1775013, 1775031, 1775130, 1775190, 1775252, 1775344, 1775358, 1775362, 1775426, 1775491, 1775579, 1775600, 1775620, 1775624, 1775685, 1775949, 1775957, 1776036, 1776285, 1776463, 1776664, 1776707, 1776742, 1776934, 1776964, 1777330, 1777415, 1777443, 1777661, 1777682, 1777936, 1777971, 1778000, 1778231, 1778286, 1778339, 1778395, 1778552, 1778595, 1778661, 1778845, 1779015, 1779132, 1779150, 1779155, 1779202, 1779312, 1779473, 1779597, 1779689, 1779885, 1779975, 1780028, 1780067, 1780072, 1780145, 1780231, 1780400, 1780454, 1780461, 1780792, 1781229, 1781405, 1781666, 1782562, 1782668, 1782797, 1782918, 1783138, 1783197, 1783253, 1783319, 1783322, 1783784, 1783815, 1783891, 1783907, 1783960, 1784012, 1784538, 1784638, 1784926, 1785456, 1785587, 1785802, 1785899, 1786446, 1786447, 1786637, 1786687, 1787065, 1787237, 1787349, 1787398, 1787501, 1787530, 1787554, 1787594, 1787661, 1787680, 1787931, 1787932, 1788430, 1788552, 1788603, 1788895, 1788931, 1788988, 1789397, 1789920, 1790185, 1790338, 1790354, 1790429, 1790434, 1790503, 1791142, 1791159, 1791184, 1791492, 1791514, 1791649, 1791810, 1791837, 1791874, 1792017, 1792285, 1792635, 1792637, 1792838, 1792880, 1792888, 1792919, 1792984, 1793565, 1793786, 1793997, 1794225, 1794635, 1796204, 1796256, 1796375, 1796728, 1797187, 1797189, 1797190, 1797212, 1797257, 1797398, 1797439, 1797798, 1798021, 1798068, 1798161, 1798228, 1798349, 1798359, 1798393, 1798571, 1798602, 1798623, 1798645, 1798660, 1798759, 1798904, 1799177, 1799575, 1799585, 1799833, 1799993, 1800365, 1800516, 1800830, 1800905, 1800921, 1801100, 1801126, 1801186, 1801307, 1801442, 1801502, 1801702, 1801777, 1801784, 1802021, 1802176, 1802234, 1802294, 1802521, 1802638, 1802893, 1803014, 1803123, 1803257, 1803499, 1803644, 1803675, 1803777, 1803819, 1803937, 1804154, 1804175, 1804247, 1805604, 1805647, 1806022, 1806196, 1806341, 1806465, 1806478, 1806665, 1806900, 1807215, 1807673, 1807744, 1807788, 1807795, 1807799, 1808009, 1808285, 1808289, 1808299, 1808388, 1808558, 1808669, 1808995, 1809220, 1809232, 1809680, 1809764, 1809843, 1809974, 1810169, 1810306, 1810529, 1810596, 1810600, 1810660, 1811014, 1811107, 1811332, 1811342, 1811396, 1811971, 1812388, 1813966, 1814042, 1814048, 1814052, 1814115, 1814222, 1814224, 1814271, 1814417, 1814586, 1814792, 1815049, 1815142, 1815372, 1815452, 1815828, 1816021, 1816286, 1816315, 1816382, 1816498, 1816544, 1816568, 1816670, 1816862, 1817572, 1817835, 1818273, 1818333, 1818340, 1818370, 1818371, 1818838, 1818955, 1819047, 1819273, 1819280, 1819303, 1819304, 1819305, 1819445, 1819482, 1819528, 1819574, 1820007, 1820011, 1820088, 1820146, 1820168, 1820409, 1820417, 1820425, 1820481, 1820515, 1820542, 1820556, 1820563, 1820606, 1820674, 1820724, 1820839, 1821134, 1821170, 1821240, 1822167, 1822675, 1823010, 1823162, 1823208, 1823239, 1823398, 1823602, 1823631, 1823737, 1823854, 1823963, 1824151, 1824153, 1824715, 1824961, 1825218, 1825613, 1825650, 1825691, 1825978, 1826105, 1826331, 1827483, 1827509, 1827530, 1828026, 1828273, 1828343, 1829177, 1829685, 1830020, 1830172, 1830218, 1830249, 1830408, 1830612, 1830641, 1830747, 1830864, 1830973, 1831161, 1831163, 1831716, 1831962, 1832219, 1832614, 1832651, 1832692, 1832979, 1833106, 1833332, 1834484, 1834510, 1834531, 1835460, 1835466, 1835518, 1835577, 1835902, 1836148, 1836224, 1836345, 1836446, 1836574, 1836748, 1836793, 1837139, 1837149, 1837245, 1837310, 1837338, 1837654, 1838514, 1838707, 1838720, 1838783, 1838924, 1839175, 1839331, 1839447, 1839963, 1840264, 1840403, 1840423, 1840435, 1840458, 1840465, 1840633, 1840636, 1840685, 1840825, 1840826, 1840842, 1840896, 1840899, 1840914, 1840991, 1841714, 1841741, 1842311, 1842458, 1842616, 1842699, 1842908, 1843085, 1843126, 1843134, 1843144, 1843147, 1843192, 1843569, 1843577, 1843619, 1844135, 1844171, 1844208, 1844255, 1844279, 1844391, 1844437, 1844532, 1844539, 1844621, 1844633, 1844826, 1844916, 1845016, 1845032, 1845038, 1845057, 1845214, 1845286, 1845376, 1846023, 1846308, 1846416, 1846419, 1846623, 1846850, 1847083, 1847108, 1847448, 1847823, 1847970, 1848001, 1848042, 1849135, 1849198, 1849315, 1849351, 1849445, 1849589, 1849592, 1849619, 1849932, 1850398, 1850473, 1851302, 1851810, 1852045, 1852194, 1852351, 1852406, 1852440, 1852617, 1852885, 1852920, 1853026, 1853143, 1853252, 1853440, 1853442, 1854044, 1854305, 1854576, 1854995, 1855034, 1855076, 1855381, 1855527, 1855812, 1857211, 1857223, 1857263, 1857286, 1858183, 1858366, 1858519, 1858678, 1858784, 1858826, 1858871, 1858924, 1858992, 1859043, 1859095, 1859111, 1859509, 1859737, 1859785, 1859883, 1859916, 1860041, 1860216, 1860260, 1860359, 1860463, 1860465, 1860576, 1860718, 1860871, 1860954, 1861131, 1861139, 1861204, 1861217, 1861261, 1861297, 1861472, 1861565, 1861663, 1861684, 1861722, 1861998, 1862330, 1862408, 1862574, 1862708, 1862781, 1862905, 1863036, 1863073, 1863713, 1863737, 1863753, 1863859, 1863874, 1863991, 1864009, 1864158, 1864196, 1864275, 1864299, 1864393, 1864395, 1864495, 1864623, 1864655, 1864658, 1864818, 1864973, 1865173, 1865212, 1865312, 1865647, 1865841, 1866186, 1866212, 1866254, 1866841, 1867250, 1867332, 1867431, 1867562, 1867658, 1867675, 1867762, 1867838, 1868217, 1868481, 1868579, 1868765, 1868936, 1868992, 1869205, 1869265, 1869280, 1869357, 1869399, 1869826, 1869996, 1870075, 1870078, 1870279, 1870544, 1870645, 1871145, 1871239, 1871240, 1871242, 1871265, 1871444, 1871857, 1871878, 1872017, 1872075, 1872269, 1872271, 1872280, 1872399, 1872453, 1872624, 1872706, 1872725, 1872865, 1872999, 1873237, 1873338, 1873373, 1873651, 1873665, 1874101, 1874132, 1874517, 1874667, 1874743, 1874746, 1874965, 1875649, 1875782, 1875966, 1876092, 1876161, 1876215, 1876225, 1876389, 1876666, 1876675, 1876744, 1877383, 1877714, 1877792, 1877857, 1877900, 1877987, 1878065, 1878447, 1878481, 1878969, 1879072, 1879578, 1879668, 1879972, 1880073, 1880181, 1880426, 1880444, 1881771, 1881995, 1882128, 1882157, 1882217, 1882476, 1882591, 1882810, 1882868, 1882937, 1883085, 1883160, 1883310, 1883602, 1883656, 1883794, 1883960, 1884049, 1884068, 1884115, 1884254, 1884262, 1884435, 1884467, 1884551, 1884593, 1885167, 1885206, 1885228, 1885301, 1885427, 1885669, 1885910, 1886068, 1886235, 1886240, 1886273, 1886352, 1886367, 1886459, 1886640, 1887164, 1887190, 1887196, 1887268, 1887336, 1887377, 1887575, 1887952, 1888122, 1888420, 1888570, 1888793, 1888889, 1889035, 1889185, 1889195, 1889425, 1889463, 1889543, 1889611, 1889672, 1889773, 1890390, 1890658, 1890719, 1890895, 1891055, 1891223, 1891307, 1891394, 1892188, 1892210, 1893011, 1893033, 1893148, 1893156, 1893163, 1893212, 1893312, 1893321, 1893326, 1893550, 1893754, 1893785, 1893846, 1894016, 1894503, 1895152, 1895399, 1895417, 1895695, 1895714, 1895775, 1896456, 1896836, 1897016, 1897702, 1897844, 1897882, 1897962, 1898030, 1898091, 1898192, 1898809, 1899077, 1899138, 1899333, 1899417, 1900023, 1900099, 1900240, 1900269, 1900289, 1900377, 1900741, 1900989, 1901055, 1901485, 1901514, 1901591, 1901663, 1902200, 1902676, 1902700, 1902710, 1902731, 1902751, 1902770, 1902951, 1903088, 1903096, 1903335, 1903446, 1903632, 1903701, 1903762, 1904446, 1904463, 1904747, 1904758, 1904827, 1904831, 1904944, 1905194, 1905507, 1905516, 1905523, 1905524, 1905556, 1905866, 1906121, 1906241, 1906318, 1906401, 1906556, 1906572, 1906834, 1907208, 1907306, 1907321, 1907421, 1907586, 1907603, 1907684, 1907768, 1907811, 1907821, 1907824, 1907825, 1907850, 1908046, 1908432, 1908700, 1908799, 1908859, 1909005, 1909101, 1909537, 1909984, 1910053, 1910068, 1910126, 1910464, 1910595, 1910871, 1911248, 1911564, 1911609, 1911624, 1911790, 1911792, 1911893, 1912112, 1912182, 1912233, 1912952, 1913284, 1913362, 1913717, 1913978, 1914053, 1914386, 1914502, 1915241, 1915831, 1915880, 1916001, 1916022, 1916087, 1916127, 1916142, 1916220, 1916253, 1916641, 1916832, 1916886, 1917223, 1917520, 1917528, 1917564, 1917647, 1917760, 1918175, 1918183, 1918558, 1918608, 1918721, 1918940, 1919304, 1919310, 1919354, 1919404, 1919463, 1919476, 1919680, 1919809, 1920042, 1920088, 1920355, 1920370, 1920453, 1920763, 1920811, 1920854, 1920920, 1921053, 1921199, 1921253, 1921395, 1921472, 1921564, 1921861, 1921867, 1921886, 1921942, 1922026, 1922103, 1922203, 1922301, 1922323, 1922551, 1922566, 1923326, 1923453, 1923480, 1923943, 1923958, 1924205, 1924289, 1924554, 1924599, 1924724, 1924778, 1924907, 1924957, 1925409, 1925410, 1925513, 1925777, 1925959, 1926066, 1926113, 1926400, 1926445, 1926652, 1926771, 1926888, 1927512, 1927513, 1927623, 1927846, 1927981, 1928444, 1929042, 1929045, 1929128, 1929142, 1929150, 1929474, 1929737, 1930265, 1930506, 1930551, 1930629, 1930658, 1930685, 1930687, 1930837, 1931057, 1931135, 1931223, 1931312, 1931368, 1931453, 1931618, 1932056, 1932111, 1932316, 1932863, 1933121, 1933152, 1933153, 1933410, 1933847, 1933917, 1933947, 1934294, 1934400, 1934822, 1935028, 1935095, 1935337, 1935377, 1935649, 1935773, 1935826, 1936057, 1936083, 1936463, 1936520, 1936580, 1936619, 1936738, 1936800, 1936825, 1936828, 1936883, 1938140, 1938148, 1938223, 1938477, 1938550, 1938616, 1938630, 1938658, 1938661, 1938784, 1938815, 1938914, 1939005, 1939047, 1939082, 1939195, 1939284, 1939358, 1939472, 1939550, 1939573, 1939719, 1940420, 1940427, 1940529, 1940604, 1941652, 1941655, 1941999, 1942025, 1942426, 1942996, 1943081, 1943485, 1943562, 1943618, 1943645, 1943805, 1943858, 1943897, 1943920, 1944055, 1944124, 1944251, 1944260, 1944282, 1944485, 1944627, 1944639, 1944818, 1944857, 1945179, 1945349, 1945379, 1945532, 1945750, 1945925, 1946414, 1946518, 1946747, 1946767, 1946844, 1946853, 1946855, 1946877, 1947097, 1947225, 1947278, 1947368, 1947370, 1947704, 1947972, 1948109, 1948511, 1948919, 1949004, 1949514, 1949672, 1950046, 1950056, 1950096, 1950110, 1950306, 1950313, 1950445, 1950476, 1950720, 1951108, 1951181, 1951328, 1951343, 1951642, 1951899, 1952062, 1952323, 1952412, 1952419, 1952669, 1952876, 1953031, 1953072, 1953301, 1953374, 1953440, 1953454, 1953482, 1953485, 1953607, 1953638, 1953737, 1953828, 1953870, 1953905, 1954008, 1954059, 1954106, 1954234, 1954247, 1954756, 1954763, 1954833, 1955853, 1956161, 1956187, 1956308, 1956376, 1956459, 1956568, 1956593, 1956786, 1957186, 1957290, 1957728, 1957791, 1957815, 1957915, 1958071, 1958365, 1958391, 1958668, 1959254, 1960113, 1961053, 1961389, 1961681, 1961934, 1962286, 1962784, 1962883, 1962913, 1963272, 1963422, 1963486, 1963491, 1963523, 1963701, 1963832, 1963864, 1963892, 1963971, 1964166, 1964301, 1964907, 1965163, 1965177, 1966113, 1966122, 1966325, 1966647, 1966996, 1967093, 1967233, 1967523, 1967537, 1967618, 1967694, 1967736, 1967761, 1968196, 1968773, 1968808, 1968865, 1969030, 1969617, 1969639, 1969729, 1969735, 1969954, 1970259, 1970371, 1970448, 1970464, 1970546, 1970555, 1970568, 1971201, 1971222, 1971279, 1971390, 1971474, 1971556, 1971604, 1971616, 1971734, 1971742, 1971920, 1972005, 1972020, 1972087, 1972293, 1973220, 1973229, 1973288, 1973319, 1973326, 1973327, 1973341, 1973420, 1973834, 1973877, 1973896, 1974109, 1974236, 1974349, 1974742, 1974774, 1974779, 1974941, 1974994, 1975066, 1975069, 1975267, 1975280, 1975293, 1975336, 1975353, 1975442, 1975559, 1975669, 1975753, 1975811, 1975845, 1975874, 1975944, 1975986, 1976211, 1976259, 1976327, 1976334, 1976406, 1976529, 1976550, 1976743, 1977031, 1977257, 1977399, 1978055, 1978191, 1978806, 1978821, 1979097, 1979554, 1979642, 1979792, 1979834, 1979958, 1980240, 1980401, 1980484, 1980757, 1981027, 1981090, 1981100, 1981191, 1981314, 1981436, 1981516, 1981662, 1982215, 1982268, 1982432, 1982807, 1982964, 1983251, 1983587, 1983927, 1983958, 1984010, 1984713, 1984952, 1985145, 1985158, 1985236, 1985314, 1985406, 1985551, 1986022, 1986098, 1986306, 1986610, 1987171, 1987209, 1987501, 1987742, 1987806, 1988109, 1988191, 1988210, 1988283, 1988499, 1988531, 1988578, 1988581, 1988638, 1988886, 1989111, 1989168, 1989207, 1989482, 1989871, 1990694, 1990699, 1991040, 1991061, 1991140, 1991332, 1991717, 1991787, 1992005, 1992152, 1992153, 1992180, 1992193, 1992484, 1992559, 1992829, 1993015, 1993180, 1993284, 1993493, 1993514, 1994420, 1994469, 1994547, 1994694, 1994879, 1994982, 1995046, 1995047, 1995188, 1995401, 1995417, 1995471, 1995673, 1995785, 1996228, 1996250, 1996339, 1996343, 1996443, 1996717, 1997099, 1997166, 1997283, 1997856, 1997999, 1998547, 1998678, 1998777, 1998792, 1999019, 1999028, 1999151, 1999257, 1999601, 1999667, 1999839, 1999872, 1999926, 2000544, 2000630, 2000704, 2000791, 2001216, 2001260, 2001479, 2001614, 2001806, 2002069, 2002073, 2002146, 2002225, 2002276, 2002317, 2002416, 2002780, 2002892, 2002898, 2002941, 2002963, 2003103, 2003141, 2003305, 2003422, 2003701, 2003740, 2003852, 2004018, 2004142, 2004416, 2004638, 2004668, 2005160, 2005227, 2005238, 2005465, 2005467, 2005492, 2005586, 2005726, 2005854, 2005928, 2006221, 2006355, 2006459, 2006462, 2006503, 2006561, 2007011, 2007467, 2007580, 2007763, 2007839, 2008100, 2008204, 2008421, 2008644, 2008664, 2008798, 2008902, 2009319, 2009426, 2009483, 2009758, 2010016, 2010130, 2010133, 2010351, 2010376, 2010968, 2010997, 2011528, 2011868, 2011895, 2012130, 2012235, 2012376, 2012887, 2014305, 2014418, 2014508, 2014513, 2014526, 2014532, 2014735, 2014995, 2015059, 2015209, 2015325, 2015591, 2015797, 2015808, 2015854, 2016033, 2016045, 2016067, 2016140, 2016395, 2016411, 2016517, 2017538, 2017730, 2017931, 2018059, 2018176, 2018301, 2019088, 2019363, 2019798, 2020300, 2020618, 2020679, 2020902, 2021024, 2021033, 2021277, 2021339, 2021977, 2022157, 2022195, 2022849, 2022876, 2023118, 2023174, 2023229, 2023791, 2023814, 2023949, 2024006, 2024028, 2024237, 2024342, 2024361, 2024395, 2024427, 2024451, 2024488, 2024940, 2025456, 2025484, 2025771, 2025781, 2025988, 2026070, 2026127, 2026673, 2027031, 2027201, 2027266, 2027312, 2027325, 2027344, 2027391, 2027448, 2027710, 2027922, 2028042, 2028156, 2028672, 2028775, 2028989, 2029002, 2029071, 2029186, 2029436, 2029627, 2029671, 2029883, 2029970, 2030210, 2030400, 2030471, 2030528, 2030879, 2031039, 2031089, 2031306, 2031734, 2032094, 2032175, 2032500, 2032723, 2033138, 2033680, 2033699, 2034060, 2034420, 2034498, 2034560, 2034793, 2034819, 2034978, 2035050, 2035069, 2035106, 2035157, 2035192, 2035284, 2035332, 2035416, 2035779, 2035824, 2036121, 2036133, 2036142, 2036405, 2036624, 2036645, 2036978, 2037088, 2037184, 2037440, 2037495, 2037800, 2037893, 2038027, 2038642, 2039262, 2039338, 2039542, 2039610, 2040041, 2040415, 2040645, 2040801, 2041013, 2041205, 2041226, 2041373, 2041418, 2041437, 2041782, 2041891, 2041988, 2042013, 2042174, 2042807, 2043414, 2043612, 2043951, 2044022, 2044114, 2044175, 2044176, 2044367, 2044400, 2044611, 2044649, 2044883, 2045012, 2045338, 2045458, 2045729, 2045910, 2046036, 2046101, 2046518, 2046740, 2046753, 2046884, 2046983, 2047131, 2047236, 2047416, 2047570, 2047585, 2047670, 2048375, 2048513, 2048996, 2049039, 2049289, 2049311, 2049348, 2049455, 2049626, 2049907, 2050005, 2050169, 2050231, 2050346, 2050600, 2050613, 2050649, 2051192, 2051201, 2051235, 2051543, 2051621, 2051633, 2051812, 2051817, 2051859, 2051883, 2051916, 2051960, 2052048, 2052089, 2052180, 2052195, 2052363, 2052615, 2052712, 2052753, 2052865, 2053088, 2053158, 2053177, 2053422, 2053652, 2053655, 2053763, 2053884, 2054311, 2054869, 2055053, 2056132, 2056164, 2056227, 2056469, 2056483, 2056491, 2056696, 2057037, 2057424, 2057567, 2057662, 2057690, 2057787, 2057863, 2057881, 2057944, 2058005, 2058032, 2058173, 2058182, 2058460, 2058689, 2058810, 2058862, 2058877, 2059855, 2059897, 2060133, 2060479, 2060484, 2060694, 2060736, 2060934, 2061124, 2061190, 2061600, 2061806, 2061927, 2061966, 2062051, 2062246, 2062303, 2062495, 2062517, 2063043, 2063097, 2063365, 2063379, 2063447, 2063736, 2063821, 2063884, 2064077, 2064080, 2064093, 2064510, 2064523, 2064601, 2064675, 2065048, 2065304, 2065318, 2065772, 2065864, 2066192, 2066379, 2066574, 2066743, 2066927, 2066974, 2067048, 2067257, 2067529, 2067665, 2068016, 2068180, 2068231, 2068288, 2068301, 2068491, 2068730, 2068736, 2068821, 2069157, 2069242, 2069558, 2069612, 2069625, 2069649, 2069690, 2069829, 2069957, 2070080, 2070083, 2070238, 2070548, 2070698, 2070736, 2070897, 2071139, 2071183, 2071795, 2071954, 2072177, 2072850, 2072953, 2073085, 2074173, 2075203, 2075716, 2075801, 2075812, 2075876, 2076187, 2076327, 2076601, 2076760, 2077252, 2077425, 2077496, 2077660, 2077684, 2077985, 2078165, 2079073, 2079116, 2079228, 2079642, 2079722, 2079777, 2080442, 2080584, 2080628, 2080640, 2080997, 2081038, 2081212, 2081474, 2082177, 2082353, 2082460, 2083040, 2083209, 2083297, 2083315, 2083616, 2083771, 2083961, 2084064, 2084098, 2084410, 2084573, 2084791, 2084801, 2084804, 2084916, 2084986, 2085045, 2085234, 2085453, 2085694, 2085698, 2085842, 2085855, 2085996, 2086026, 2086054, 2086153, 2086349, 2086735, 2086852, 2087157, 2087177, 2087402, 2087457, 2087714, 2088061, 2088077, 2088198, 2088334, 2088716, 2088818, 2088845, 2089026, 2089049, 2089183, 2089325, 2089481, 2089522, 2089711, 2089821, 2089873, 2089876, 2089974, 2090093, 2090108, 2090280, 2090290, 2090719, 2091189, 2091216, 2091239, 2091323, 2091350, 2091405, 2091431, 2091573, 2091636, 2091762, 2092088, 2092122, 2092298, 2092417, 2092584, 2092665, 2092709, 2092921, 2093155, 2093178, 2093186, 2093195, 2093227, 2093473, 2093522, 2093581, 2093588, 2093694, 2093812, 2094149, 2094224, 2094504, 2094523, 2094742, 2094760, 2094808, 2094842, 2095055, 2095062, 2095140, 2095234, 2096397, 2096497, 2096658, 2096775, 2096830, 2097516, 2097623, 2098193, 2098456, 2098872, 2098884, 2098890, 2098920, 2099017, 2099197, 2099283, 2099367, 2099403, 2099445, 2099504, 2099595, 2099673, 2099816, 2099833, 2099852, 2100063, 2100109, 2100312, 2100335, 2100437, 2100861, 2100866, 2100871, 2101229, 2101287, 2101351, 2101591, 2101652, 2101783, 2101818, 2102444, 2102564, 2102598, 2102663, 2102732, 2102853, 2103271, 2103636, 2103673, 2104054, 2104061, 2104523, 2104613, 2104663, 2104720, 2104793, 2104833, 2104976, 2105214, 2105260, 2105476, 2105497, 2105994, 2106049, 2106308, 2106486, 2106522, 2106540, 2106990, 2107114, 2107126, 2107159, 2107231, 2107794, 2107879, 2108289, 2108336, 2108603, 2108775, 2108801, 2108820, 2108992, 2109077, 2109129, 2109312, 2109381, 2109436, 2109750, 2109756, 2110454, 2110578, 2110605, 2110612, 2110622, 2110645, 2110653, 2110665, 2110707, 2110918, 2111422, 2111507, 2111938, 2112047, 2112416, 2112490, 2113160, 2113224, 2113309, 2113577, 2113753, 2113878, 2113997, 2114024, 2114078, 2114252, 2114343, 2114364, 2114407, 2114714, 2114949, 2114959, 2114991, 2115246, 2115290, 2115736, 2115863, 2115872, 2115901, 2115908, 2115921, 2116002, 2116218, 2116231, 2116241, 2116299, 2116576, 2116678, 2116688, 2116801, 2116803, 2116924, 2117010, 2117073, 2117149, 2117217, 2117397, 2117593, 2117821, 2117989, 2118045, 2118051, 2118143, 2118182, 2118188, 2118293, 2118445, 2118712, 2118814, 2118860, 2118893, 2119037, 2119072, 2119123, 2119206, 2119262, 2119326, 2119547, 2119587, 2119771, 2119776, 2119819, 2119860, 2119861, 2119871, 2119912, 2120304, 2120412, 2120423, 2120458, 2120555, 2120610, 2120634, 2120637, 2120803, 2120818, 2120832, 2120841, 2120863, 2120880, 2120882, 2120910, 2120973, 2120987, 2120993, 2121350, 2121635, 2121819, 2122002, 2122041, 2122069, 2122104, 2122210, 2122305, 2122459, 2122461, 2122508, 2122624, 2122704, 2122892, 2123017, 2123073, 2123168, 2123244, 2123246, 2123521, 2123553, 2123599, 2123666, 2123745, 2123970, 2124027, 2124147, 2124276, 2124322, 2124456, 2124529, 2124577, 2124713, 2124803, 2124851, 2125028, 2125264, 2125353, 2125358, 2125446, 2125540, 2125680, 2125725, 2125755, 2125787, 2125975, 2125977, 2126069, 2126143, 2126175, 2126250, 2126464, 2126472, 2126754, 2126860, 2126955, 2127132, 2127210, 2127417, 2127512, 2127599, 2127711, 2127903, 2127924, 2127925, 2128119, 2128543, 2128568, 2128647, 2128685, 2128740, 2128743, 2128870, 2128978, 2129070, 2129128, 2129135, 2129189, 2129260, 2129266, 2129293, 2129358, 2129389, 2129522, 2129636, 2129666, 2129696, 2129786, 2129841, 2129925, 2129992, 2130009, 2130028, 2130106, 2130119, 2130207, 2130346, 2130366, 2130376, 2130512, 2130670, 2130734, 2130784, 2130841, 2131097, 2131164, 2131176, 2131298, 2131352, 2131355, 2131376, 2131392, 2131417, 2131423, 2131500, 2131545, 2131722, 2131759, 2132021, 2132044, 2132098, 2132200, 2132206, 2132255, 2132289, 2132447, 2132471, 2132558, 2132572, 2132612, 2132715, 2132860, 2132862, 2132986, 2133027, 2133182, 2133254, 2133293, 2133375, 2133465, 2133531, 2133550, 2133672, 2133676, 2133678, 2133803, 2133804, 2133841, 2133859, 2134291, 2134458, 2134663, 2134732, 2134756, 2134901, 2134925, 2134956, 2135114, 2135171, 2135285, 2135295, 2135491, 2135555, 2135600, 2135608, 2135675, 2135709, 2135760, 2135816, 2136007, 2136081, 2136255, 2136327, 2136433, 2136607, 2136640, 2136649, 2136654, 2136684, 2136725, 2136744, 2136813, 2136818, 2136858, 2136892, 2136907, 2136910, 2137044, 2137169, 2137212, 2137287, 2137599, 2137659, 2137705, 2137747, 2137788, 2137797, 2137818, 2137838, 2137930, 2138080, 2138099, 2138143, 2138193, 2138251, 2138275, 2138276, 2138396, 2138414, 2138491, 2138705, 2138734, 2138746, 2138809, 2138819, 2139219, 2139264, 2139312, 2139338, 2139340, 2139452, 2139458, 2139519, 2139527, 2139565, 2139638, 2139666, 2139789, 2140068, 2140117, 2140180, 2140228, 2140567, 2140772, 2141080, 2141110, 2141228, 2141238, 2141342, 2141437, 2141448, 2141479, 2141678, 2141869, 2141870, 2141871, 2141899, 2141900, 2141904, 2142066, 2142222, 2142370, 2142769, 2142926, 2142997, 2143249, 2143366, 2143384, 2143515, 2143540, 2143620, 2143781, 2143811, 2143822, 2143919, 2143967, 2143974, 2144042, 2144045, 2144111, 2144125, 2144158, 2144170, 2144311, 2144344, 2144405, 2144441, 2144562, 2144590, 2144599, 2144654, 2144793, 2144806, 2144930, 2144950, 2145025, 2145226, 2145382, 2145390, 2145436, 2145640, 2145768, 2145935, 2146211, 2146302, 2146336, 2146374, 2146463, 2146521, 2146635, 2146661, 2146744, 2146777, 2146957, 2147196, 2147360, 2147414, 2147531, 2147867, 2148034, 2148286, 2148367, 2148428, 2148493, 2148556, 2148681, 2148691, 2148696, 2148700, 2148744, 2148959, 2149018, 2149042, 2149606, 2149624, 2149651, 2149878, 2149887, 2149996, 2150111, 2150165, 2150216, 2150258, 2150263, 2150403, 2150405, 2150413, 2150436, 2150462, 2150481, 2150633, 2151014, 2151101, 2151140, 2151143, 2151144, 2151145, 2151250, 2151625, 2151635, 2151648, 2151708, 2151779, 2151803, 2151920, 2152004, 2152022, 2152050, 2152216, 2152291, 2152312, 2152452, 2152563, 2152616, 2152619, 2152667, 2152939, 2152953, 2153153, 2153341, 2153354, 2153453, 2153463, 2153497, 2153648, 2153688, 2153916, 2154042, 2154070, 2154072, 2154107, 2154170, 2154291, 2154433, 2154487, 2154593, 2154628, 2154658, 2154736, 2154785, 2155003, 2155031, 2155042, 2155148, 2155473, 2155569, 2155583, 2155875, 2156047, 2156119, 2156299, 2156330, 2156391, 2156715, 2156748, 2156759, 2156788, 2156891, 2157095, 2157279, 2157459, 2157466, 2157700, 2157702, 2157724, 2157817, 2157848, 2157868, 2157892, 2157922, 2157948, 2157998, 2158131, 2158176, 2158246, 2158250, 2158299, 2158413, 2158494, 2158520, 2158521, 2158684, 2158819, 2158839, 2158932, 2158954, 2159292, 2159564, 2159655, 2159761, 2159874, 2159908, 2159911, 2159998, 2160093, 2160173, 2160186, 2160204, 2160235, 2160241, 2160302, 2160312, 2160362, 2160841, 2160928, 2160993, 2161042, 2161202, 2161236, 2161294, 2161338, 2161348, 2161391, 2161427, 2161520, 2161562, 2161721, 2161837, 2161886, 2161901, 2161903, 2161921, 2161935, 2162158, 2162345, 2162428, 2162444, 2162590, 2162801, 2162829, 2162830, 2162867, 2162985, 2163029, 2163127, 2163172, 2163340, 2163379, 2163511, 2163516, 2163602, 2163637, 2163679, 2163692, 2163724, 2163741, 2163771, 2163794, 2163872, 2163954, 2163956, 2164149, 2164184, 2164306, 2164345, 2164483, 2164497, 2164591, 2164592, 2164883, 2165155, 2165490, 2165739, 2165867, 2165870, 2165906, 2165921, 2165945, 2165963, 2165967, 2166132, 2166141, 2166268, 2166312, 2166373, 2166379, 2166399, 2166406, 2166587, 2166595, 2166599, 2166630, 2166676, 2166709, 2166882, 2166956, 2167131, 2167255, 2167321, 2167327, 2167377, 2167399, 2167447, 2167646, 2167683, 2167715, 2167719, 2167732, 2167734, 2167751, 2167997, 2168003, 2168133, 2168153, 2168254, 2168276, 2168290, 2168383, 2168386, 2168461, 2168505, 2168569, 2168570, 2168713, 2168778, 2168836, 2168890, 2168930, 2169026, 2169073, 2169215, 2169216, 2169230, 2169244, 2169246, 2169322, 2169342, 2169351, 2169393, 2169436, 2169462, 2169576, 2169626, 2169713, 2169856, 2169890, 2169920, 2169941, 2169989, 2169995, 2170060, 2170099, 2170151, 2170155, 2170390, 2170824, 2170982, 2171097, 2171146, 2171257, 2171260, 2171283, 2171354, 2171364, 2171460, 2171492, 2171586, 2171592, 2171740, 2171921, 2171957, 2171982, 2171984, 2172060, 2172087, 2172119, 2172221, 2172235, 2172363, 2172672, 2172812, 2172990, 2173182, 2173382, 2173436, 2173521, 2173622, 2173626, 2173765, 2173824, 2173830, 2173831, 2173898, 2173908, 2173921, 2174138, 2174240, 2174446, 2174691, 2174832, 2174887, 2174941, 2175123, 2175247, 2175521, 2175549, 2175550, 2175779, 2175908, 2175938, 2176005, 2176163, 2176215, 2176333, 2176375, 2176629, 2176663, 2176743, 2176881, 2176906, 2176941, 2177086, 2177113, 2177168, 2177322, 2177388, 2177465, 2177577, 2177640, 2177778, 2177823, 2177849, 2177909, 2178056, 2178062, 2178092, 2178353, 2178406, 2178533, 2178683, 2178717, 2178775, 2178818, 2178949, 2179010, 2179033, 2179055, 2179248, 2179397, 2179430, 2179460, 2179630, 2179643, 2179655, 2179693, 2179834, 2179874, 2179875, 2179917, 2180011, 2180037, 2180100, 2180117, 2180159, 2180317, 2180356, 2180404, 2180504, 2180601, 2180613, 2180619, 2180664, 2180837, 2181314, 2181489, 2181841, 2181883, 2181996, 2182147, 2182210, 2182307, 2182344, 2182510, 2182587, 2182810, 2182887, 2182921, 2183143, 2183161, 2183207, 2183289, 2183350, 2183472, 2183662, 2183663, 2183682, 2183687, 2183918, 2184117, 2184157, 2184188, 2184306, 2184377, 2184477, 2184523, 2184562, 2184827, 2184921, 2185024, 2185029, 2185118, 2185140, 2185170, 2185181, 2185182, 2185392, 2185419, 2185572, 2185687, 2185707, 2185721, 2185943, 2185948, 2185950, 2185955, 2186030, 2186061, 2186107, 2186153, 2186251, 2186313, 2186409, 2186644, 2186665, 2186718, 2186863, 2187025, 2187073, 2187177, 2187282, 2187301, 2187330, 2187351, 2187481, 2187510, 2187536, 2187611, 2187665, 2187706, 2187757, 2187779, 2187875, 2187904, 2188009, 2188098, 2188213, 2188251, 2188446, 2188561, 2188714, 2188841, 2188882, 2189183, 2189290, 2189312, 2189388, 2189534, 2189604, 2189699, 2189764, 2189932, 2189994, 2190065, 2190099, 2190130, 2190241, 2190448, 2190466, 2190581, 2190652, 2190678, 2190870, 2190907, 2190938, 2191047, 2191277, 2191385, 2191464, 2191473, 2191606, 2191611, 2191645, 2191762, 2191850, 2191887, 2191914, 2192124, 2192165, 2192320, 2192407, 2192413, 2192476, 2192488, 2192568, 2192586, 2192615, 2192876, 2192900, 2192923, 2193033, 2193151, 2193164, 2193312, 2193453, 2193686, 2193755, 2193885, 2194143, 2194209, 2194222, 2194272, 2194356, 2194406, 2194424, 2194455, 2194539, 2194615, 2194766, 2194801, 2194841, 2194931, 2194965, 2195052, 2195235, 2195274, 2195275, 2195286, 2195382, 2195475, 2195557, 2195562, 2195693, 2195918, 2196029, 2196136, 2196573, 2196610, 2196660, 2196689, 2196690, 2196922, 2197063, 2197146, 2197197, 2197279, 2197441, 2197458, 2197629, 2197686, 2197718, 2197749, 2197944, 2197973, 2198039, 2198522, 2198733, 2198766, 2198795, 2198801, 2198844, 2199085, 2199131, 2199232, 2199238, 2199293, 2199326, 2199327, 2199529, 2199575, 2199887, 2200081, 2200182, 2200194, 2200218, 2200269, 2200430, 2200554, 2200709, 2200745, 2200749, 2200908, 2200955, 2200966, 2200996, 2201023, 2201212, 2201220, 2201295, 2201410, 2201474, 2201544, 2201553, 2201559, 2201614, 2201680, 2201794, 2201827, 2201948, 2202144, 2202153, 2202186, 2202354, 2202402, 2202494, 2202677, 2202724, 2202738, 2202758, 2202785, 2202840, 2203081, 2203155, 2203171, 2203250, 2203271, 2203610, 2203929, 2203962, 2204122, 2204201, 2204224, 2204401, 2204460, 2204498, 2204677, 2204753, 2204896, 2205012, 2205188, 2205458, 2205530, 2205575, 2205588, 2205609, 2205610, 2205717, 2205833, 2205840, 2205902, 2205904, 2205912, 2205942, 2205983, 2206055, 2206108, 2206172, 2206209, 2206219, 2206236, 2206366, 2206674, 2206764, 2206848, 2206995, 2207023, 2207062, 2207245, 2207373, 2207529, 2207531, 2207624, 2207642, 2207675, 2207721, 2208002, 2208028, 2208086, 2208220, 2208223, 2208326, 2208389, 2208435, 2208453, 2208504, 2208553, 2208794, 2208944, 2209010, 2209075, 2209086, 2209323, 2209850, 2210296, 2210309, 2210472, 2210606, 2210640, 2210688, 2210822, 2211033, 2211075, 2211199, 2211220, 2211226, 2211231, 2211386, 2211412, 2211450, 2211476, 2211506, 2211807, 2211874, 2211878, 2211919, 2212153, 2212431, 2212444, 2212581, 2212596, 2212648, 2212698, 2212720, 2212963, 2212964, 2213047, 2213078, 2213079, 2213086, 2213246, 2213358, 2213386, 2213531, 2213684, 2213781, 2213786, 2213799, 2213800, 2213820, 2214044, 2214055, 2214070, 2214184, 2214199, 2214260, 2214287, 2214360, 2214656, 2214726, 2214765, 2214774, 2214801, 2214814, 2214820, 2214836, 2214837, 2214940, 2215052, 2215243, 2215554, 2215690, 2215782, 2215854, 2215888, 2216033, 2216118, 2216120, 2216141, 2216250, 2216275, 2216276, 2216428, 2216547, 2216584, 2216621, 2216659, 2216660, 2216754, 2216910, 2216948, 2217290, 2217293, 2217319, 2217329, 2217390, 2217747, 2217828, 2217946, 2217964, 2217968, 2218025, 2218044, 2218107, 2218280, 2218298, 2218327, 2218337, 2218346, 2218387, 2218503, 2218509, 2218581, 2218694, 2218717, 2218811, 2218839, 2218840, 2218939, 2218964, 2219239, 2219508, 2219574, 2219738, 2219942, 2219951, 2220483, 2220497, 2220543, 2220552, 2220608, 2220794, 2221096, 2221178, 2221269, 2221295, 2221335, 2221431, 2221479, 2221497, 2221498, 2221541, 2221547, 2221732, 2221761, 2221970, 2222024, 2222038, 2222039, 2222055, 2222164, 2222266, 2222281, 2222300, 2222353, 2222401, 2222463, 2222570, 2222615, 2222628, 2222942, 2223032, 2223090, 2223231, 2223273, 2223330, 2223392, 2223544, 2223583, 2223612, 2223635, 2223741, 2223761, 2223777, 2223788, 2223820, 2224114, 2224310, 2224342, 2224379, 2224431, 2224441, 2224491, 2224533, 2224773, 2224874, 2224915, 2224943, 2225001, 2225291, 2225321, 2225361, 2225387, 2225431, 2225523, 2225626, 2225638, 2225798, 2225875, 2225895, 2225904, 2225918, 2225946, 2226143, 2226184, 2226289, 2226297, 2226316, 2226531, 2226565, 2226589, 2226686, 2226793, 2226837, 2227007, 2227039, 2227062, 2227082, 2227166, 2227249, 2227349, 2227380, 2227543, 2227754, 2227840, 2227843, 2227950, 2227954, 2228112, 2228200, 2228318, 2228360, 2228368, 2228572, 2228574, 2228750, 2228881, 2229059, 2229159, 2229227, 2229696, 2229777, 2229848, 2229993, 2230037, 2230050, 2230068, 2230205, 2230280, 2230337, 2230357, 2230472, 2230527, 2230549, 2230650, 2230757, 2230793, 2230904, 2230906, 2230940, 2230982, 2231236, 2231249, 2231296, 2231326, 2231415, 2231632, 2231701, 2231761, 2231845, 2232008, 2232184, 2232304, 2232311, 2232343, 2232394, 2232426, 2232460, 2232505, 2232523, 2232573, 2232718, 2232724, 2232745, 2232805, 2232853, 2232910, 2233001, 2233083, 2233103, 2233110, 2233220, 2233294, 2233321, 2233363, 2233624, 2233986, 2233994, 2234185, 2234273, 2234294, 2234410, 2234778, 2235116, 2235257, 2235332, 2235410, 2235451, 2235656, 2235714, 2235765, 2235806, 2235860, 2235899, 2235952, 2236046, 2236121, 2236300, 2236487, 2236652, 2236818, 2236854, 2236931, 2236987, 2237154, 2237256, 2237294, 2237346, 2237401, 2237582, 2237792, 2237798, 2237836, 2238007, 2238062, 2238095, 2238183, 2238202, 2238232, 2238247, 2238249, 2238433, 2238473, 2238632, 2238636, 2238649, 2238892, 2238951, 2238959, 2238989, 2239085, 2239160, 2239268, 2239285, 2239379, 2239511, 2239643, 2239661, 2239884, 2239902, 2239933, 2239947, 2239963, 2240190, 2240323, 2240353, 2240407, 2240412, 2240445, 2240545, 2240808, 2241036, 2241113, 2241142, 2241166, 2241367, 2241372, 2241564, 2241961, 2241984, 2242096, 2242146, 2242256, 2242273, 2242279, 2242339, 2242548, 2242787, 2242895, 2242903, 2242918, 2242933, 2243086, 2243226, 2243389, 2243423, 2243450, 2243585, 2243594, 2243601, 2243613, 2243845, 2243898, 2243963, 2244094, 2244143, 2244254, 2244337, 2244383, 2244391, 2244509, 2244530, 2244547, 2244717, 2244849, 2244911, 2245036, 2245125, 2245230, 2245254, 2245288, 2245333, 2245377, 2245501, 2245589, 2245658, 2245848, 2245871, 2245994, 2246178, 2246246, 2246333, 2246381, 2246452, 2246456, 2246534, 2246606, 2246669, 2246727, 2246730, 2246742, 2246747, 2246768, 2246822, 2247073, 2247360, 2247367, 2247442, 2247447, 2247460, 2247461, 2247575, 2247774, 2247916, 2247983, 2248033, 2248168, 2248216, 2248318, 2248735, 2249257, 2249376, 2249631, 2249655, 2249657, 2249721, 2249725, 2249751, 2249858, 2249903, 2250045, 2250057, 2250492, 2250542, 2250604, 2250659, 2250814, 2250867, 2251053, 2251161, 2251246, 2251270, 2251296, 2251429, 2251448, 2251675, 2251686, 2251689, 2251861, 2252011, 2252111, 2252118, 2252134, 2252181, 2252256, 2252326, 2252343, 2252364, 2252598, 2252701, 2252789, 2252854, 2252873, 2252904, 2252991, 2253237, 2253303, 2253385, 2253407, 2253417, 2253463, 2253504, 2253524, 2253572, 2253740, 2253842, 2253846, 2253921, 2253992, 2254019, 2254098, 2254111, 2254133, 2254153, 2254268, 2254354, 2254364, 2254398, 2254428, 2254524, 2254609, 2254721, 2254783, 2254848, 2254890, 2254891, 2255066, 2255127, 2255165, 2255245, 2255278, 2255360, 2255374, 2255417, 2255428, 2255554, 2255575, 2255663, 2255803, 2255913, 2255920, 2255933, 2256023, 2256042, 2256113, 2256406, 2256489, 2256656, 2256673, 2256707, 2256759, 2256763, 2256782, 2256808, 2257009, 2257016, 2257330, 2257414, 2257441, 2257473, 2257504, 2257506, 2257599, 2257607, 2257738, 2257812, 2257833, 2257866, 2257868, 2257883, 2257884, 2258085, 2258125, 2258164, 2258245, 2258314, 2258508, 2258632, 2259183, 2259264, 2259600, 2259721, 2260020, 2260145, 2260272, 2260351, 2260362, 2260424, 2260566, 2260568, 2260619, 2260704, 2260774, 2261018, 2261075, 2261093, 2261269, 2261341, 2261402, 2261518, 2261612, 2261684, 2261702, 2261779, 2261872, 2261889, 2261890, 2262130, 2262272, 2262277, 2262347, 2262468, 2262498, 2262562, 2262589, 2262949, 2262950, 2262967, 2263191, 2263225, 2263283, 2263295, 2263350, 2263461, 2263462, 2263482, 2263564, 2264033, 2264069, 2264074, 2264110, 2264212, 2264327, 2264363, 2264364, 2264644, 2264661, 2264681, 2264998, 2265223, 2265287, 2265366, 2265511, 2265700, 2265760, 2265837, 2265857, 2266013, 2266022, 2266090, 2266209, 2266249, 2266309, 2266315, 2266411, 2266598, 2266603, 2266629, 2266688, 2266808, 2266941, 2266985, 2266986, 2267020, 2267153, 2267323, 2267465, 2267504, 2267706, 2267716, 2267758, 2267767, 2267779, 2267903, 2267929, 2267972, 2268082, 2268175, 2268188, 2268199, 2268220, 2268280, 2268368, 2268369, 2268574, 2268587, 2268608, 2268679, 2268681, 2268712, 2269150, 2269435, 2269499, 2269599, 2269688, 2269771, 2269786, 2270056, 2270282, 2270360, 2270393, 2270634, 2270695, 2270765, 2270792, 2270861, 2270896, 2271298, 2271317, 2271378, 2271399, 2271648, 2271748, 2271845, 2272201, 2272234, 2272326, 2272435, 2272523, 2272580, 2272667, 2272738, 2272746, 2272801, 2272845, 2273038, 2273088, 2273258, 2273480, 2273564, 2273854, 2273961, 2274150, 2274178, 2274182, 2274393, 2274458, 2274557, 2274640, 2274900, 2274912, 2274918, 2274954, 2275086, 2275088, 2275142, 2275312, 2275350, 2275538, 2275883, 2275923, 2275970, 2276081, 2276280, 2276346, 2276369, 2276463, 2276552, 2276599, 2276659, 2276672, 2277039, 2277085, 2277342, 2277473, 2277581, 2277605, 2277854, 2277861, 2277893, 2278085, 2278130, 2278151, 2278194, 2278338, 2278342, 2278351, 2278586, 2278729, 2278742, 2278857, 2278972, 2279078, 2279217, 2279464, 2279474, 2279570, 2279633, 2279790, 2279880, 2279923, 2279941, 2280077, 2280196, 2280388, 2280428, 2280554, 2280627, 2280816, 2280834, 2280845, 2280934, 2281212, 2281304, 2281329, 2281591, 2281677, 2281805, 2281861, 2282002, 2282237, 2282265, 2282338, 2282369, 2282383, 2282436, 2282665, 2282885, 2282898, 2283555, 2283585, 2283602, 2283687, 2283826, 2283846, 2283878, 2283921, 2284234, 2284318, 2284334, 2284414, 2284637, 2284762, 2284808, 2284820, 2284843, 2284961, 2284993, 2285080, 2285120, 2285184, 2285194, 2285195, 2285326, 2285470, 2285626, 2285883, 2286062, 2286216, 2286548, 2286847, 2286908, 2286968, 2287003, 2287018, 2287657, 2287738, 2287791, 2288005, 2288158, 2288297, 2288411, 2288415, 2288439, 2288644, 2288983, 2289378, 2289440, 2289450, 2289622, 2289654, 2289668, 2289738, 2289745, 2290135, 2290147, 2290258, 2290269, 2290286, 2290458, 2290540, 2290615, 2290861, 2290986, 2291384, 2291437, 2291447, 2291555, 2291564, 2291594, 2291617, 2291619, 2291693, 2291746, 2291841, 2292036, 2292042, 2292162, 2292201, 2292273, 2292284, 2292293, 2292428, 2292442, 2292629, 2292738, 2292740, 2292866, 2293002, 2293027, 2293048, 2293100, 2293178, 2293583, 2293671, 2293714, 2294043, 2294095, 2294099, 2294275, 2294431, 2294460, 2294560, 2294808, 2294826, 2294889, 2294972, 2295068, 2295174, 2295221, 2295297, 2295625, 2295769, 2295793, 2295932, 2295952, 2295982, 2295993, 2296007, 2296093, 2296132, 2296196, 2296208, 2296263, 2296547, 2296750, 2296759, 2296876, 2296890, 2296904, 2297162, 2297265, 2297307, 2297375, 2297561, 2297600, 2297641, 2297959, 2297974, 2298231, 2298542, 2298568, 2298680, 2298756, 2298797, 2298883, 2298923, 2298930, 2298981, 2299132, 2299228, 2299259, 2299262, 2299350, 2299370, 2299473, 2299658, 2299737, 2299802, 2300021, 2300138, 2300295, 2300306, 2300348, 2300415, 2300435, 2300524, 2300663, 2300727, 2300749, 2300804, 2301044, 2301051, 2301090, 2301310, 2301391, 2301557, 2301627, 2301940, 2301956, 2301965, 2302212, 2302223, 2302368, 2302505, 2302533, 2302574, 2302672, 2302741, 2302788, 2302867, 2303117, 2303253, 2303329, 2303439, 2303462, 2303599, 2303702, 2303780, 2303783, 2303856, 2303866, 2303976, 2304184, 2304352, 2304428, 2304430, 2304510, 2304558, 2304655, 2304819, 2305047, 2305077, 2305215, 2306194, 2306241, 2306395, 2306409, 2306430, 2306513, 2306576, 2306743, 2306893, 2306928, 2306953, 2307001, 2307101, 2307106, 2307180, 2307182, 2307200, 2307286, 2307411, 2307538, 2307687, 2307883, 2307931, 2308101, 2308390, 2308427, 2308733, 2308891, 2308933, 2309045, 2309054, 2309097, 2309172, 2309198, 2309286, 2309380, 2309407, 2309714, 2309761, 2309931, 2309934, 2309983, 2309986, 2310036, 2310038, 2310086, 2310097, 2310463, 2310476, 2310515, 2310565, 2310615, 2310790, 2310821, 2310854, 2311159, 2311169, 2311252, 2311459, 2311673, 2311939, 2312096, 2312222, 2312279, 2312437, 2312490, 2312512, 2312595, 2313059, 2313072, 2313113, 2313185, 2313198, 2313316, 2313539, 2313662, 2313741, 2313791, 2313820, 2314002, 2314107, 2314174, 2314472, 2314481, 2314542, 2314650, 2314700, 2314721, 2314861, 2314957, 2315099, 2315211, 2315259, 2315512, 2315718, 2315765, 2315786, 2315823, 2315865, 2315930, 2316202, 2316236, 2316329, 2316362, 2316617, 2316752, 2316870, 2316951, 2316973, 2317046, 2317147, 2317200, 2317247, 2317331, 2317381, 2317538, 2317662, 2317771, 2317787, 2317871, 2317972, 2318133, 2318360, 2318388, 2318508, 2318530, 2318562, 2318719, 2318857, 2319083, 2319497, 2319526, 2319740, 2319755, 2319860, 2320111, 2320123, 2320128, 2320311, 2320342, 2320512, 2320523, 2320650, 2321061, 2321159, 2321474, 2321658, 2321669, 2321817, 2321848, 2321857, 2321859, 2321899, 2321924, 2321943, 2321993, 2322114, 2322205, 2322367, 2322368, 2322392, 2322534, 2322692, 2322731, 2322803, 2322809, 2322844, 2323074, 2323152, 2323333, 2323418, 2323528, 2323698, 2323807, 2323822, 2323847, 2323849, 2323908, 2324069, 2324083, 2324091, 2324368, 2324384, 2324390, 2324638, 2324657, 2324697, 2324761, 2324790, 2324851, 2325143, 2325309, 2325428, 2325875, 2326170, 2326174, 2326214, 2326261, 2326467, 2326485, 2326516, 2326643, 2326739, 2326818, 2327030, 2327154, 2327458, 2327478, 2327484, 2327798, 2327988, 2327992, 2328408, 2328561, 2328743, 2328849, 2329007, 2329199, 2329233, 2329252, 2329338, 2329351, 2329450, 2329522, 2329708, 2329941, 2330032, 2330133, 2330283, 2330293, 2330437, 2330626, 2330795, 2330909, 2330988, 2331049, 2331102, 2331175, 2331394, 2331534, 2331551, 2331888, 2332035, 2332133, 2332305, 2332486, 2332688, 2332736, 2332740, 2332741, 2333330, 2333388, 2333453, 2333564, 2333576, 2333591, 2333616, 2333617, 2333672, 2333753, 2334004, 2334066, 2334217, 2334291, 2334323, 2334452, 2334466, 2334476, 2334517, 2334610, 2334633, 2334869, 2334914, 2334972, 2334975, 2335033, 2335342, 2335560, 2335566, 2335581, 2335604, 2335644, 2336182, 2336183, 2336211, 2336340, 2336432, 2336470, 2336538, 2336616, 2336631, 2336645, 2336653, 2336791, 2336801, 2336806, 2336957, 2336995, 2337150, 2337370, 2337503, 2337652, 2337834, 2337870, 2338000, 2338040, 2338082, 2338102, 2338163, 2338175, 2338259, 2338270, 2338666, 2338668, 2338670, 2338707, 2339121, 2339523, 2339557, 2339572, 2339587, 2339746, 2339790, 2339977, 2340008, 2340048, 2340176, 2340239, 2340289, 2340299, 2340327, 2340476, 2340631, 2340928, 2340939, 2341035, 2341049, 2341142, 2341252, 2341370, 2341381, 2341408, 2341455, 2341585, 2341639, 2341640, 2341698, 2341711, 2341869, 2341892, 2342434, 2342618, 2342681, 2342943, 2343055, 2343576, 2343600, 2343680, 2343757, 2343827, 2344158, 2344168, 2344201, 2344218, 2344273, 2344282, 2344445, 2344547, 2344713, 2344982, 2344989, 2345199, 2345200, 2345275, 2345631, 2345719, 2345799, 2346069, 2346099, 2346328, 2346371, 2346738, 2346773, 2346802, 2346889, 2347117, 2347163, 2347453, 2347479, 2347490, 2347534, 2347558, 2347571, 2347924, 2347926, 2348088, 2348286, 2348357, 2348466, 2348493, 2348556, 2348603, 2348611, 2348640, 2348978, 2349088, 2349141, 2349265, 2349695, 2349849, 2350126, 2350173, 2350213, 2350380, 2350386, 2350394, 2351093, 2351149, 2351316, 2351354, 2351374, 2351376, 2351895, 2351995, 2352247, 2352260, 2352261, 2352275, 2352287, 2352413]\n"
     ]
    }
   ],
   "source": [
    "print('Number of reviews with 2 or less characters in dataset: ', len(indexes_to_drop))\n",
    "print(indexes_to_drop)"
   ]
  },
  {
   "cell_type": "markdown",
   "metadata": {},
   "source": [
    "**Take into consideration that probably here we are also deleting records with no data or blanks in the reviewText column.**"
   ]
  },
  {
   "cell_type": "code",
   "execution_count": 40,
   "metadata": {},
   "outputs": [
    {
     "data": {
      "text/plain": [
       "(2336233, 6)"
      ]
     },
     "execution_count": 40,
     "metadata": {},
     "output_type": "execute_result"
    }
   ],
   "source": [
    "df = df.drop(df.index[indexes_to_drop])\n",
    "df.shape"
   ]
  },
  {
   "cell_type": "markdown",
   "metadata": {},
   "source": [
    "### 7. Avoid the \"#NAME?\" error of reviews generated in csv"
   ]
  },
  {
   "cell_type": "markdown",
   "metadata": {},
   "source": [
    "**It was found that reviews that contains \"-\" and \"\\n\", once that they are save into a csv file, the reviews in the Excel are deleted and a \"#NAME?\" error appears. Accordingly, it is critical to eliminate white lines, i.e., \"\\n\", and \"-\" in every review before they are saved into a CSV file. Examples of this error are:** \n",
    "\n",
    "*'- I enjoyed the subject matter and found it to be entertaining presentation of information\\n-Obvious budget constraints hold it back\\n- Presents info with very few facts backing it up\\n- The Wizard Of OZ theme is over utilized'*\n",
    "\n",
    "*'-cheesy as hell but still some episodes are watchable, ha\\n-kinda like soft porn, a la Skinemax of yesteryear'*"
   ]
  },
  {
   "cell_type": "code",
   "execution_count": 41,
   "metadata": {},
   "outputs": [],
   "source": [
    "df = df.reset_index(drop=True)"
   ]
  },
  {
   "cell_type": "code",
   "execution_count": 42,
   "metadata": {},
   "outputs": [],
   "source": [
    "reviewsText = df.loc[:,'reviewText']\n",
    "reviews = reviewsText.to_numpy()"
   ]
  },
  {
   "cell_type": "code",
   "execution_count": 43,
   "metadata": {},
   "outputs": [
    {
     "data": {
      "text/plain": [
       "['So sorry I didn t purchase this years ago when it first came out    This is very good and entertaining   We absolutely loved it and anticipate seeing it repeatedly   We actually wore out the cassette years back  so we also purchased this same product on cd   Best purchase we made out of all   Would purchase on dvd if we could find one ',\n",
       " 'The little ones love this',\n",
       " 'Good songs  The DVD is a little boring ']"
      ]
     },
     "execution_count": 43,
     "metadata": {},
     "output_type": "execute_result"
    }
   ],
   "source": [
    "# to replace every non-word character with a blank space.\n",
    "raw1 = []\n",
    "\n",
    "for comment in reviews:\n",
    "    raw1.append(re.sub(r'[^\\w]', ' ', str(comment)))\n",
    "\n",
    "raw1[:3]"
   ]
  },
  {
   "cell_type": "code",
   "execution_count": 44,
   "metadata": {},
   "outputs": [
    {
     "data": {
      "text/plain": [
       "[['So',\n",
       "  'sorry',\n",
       "  'I',\n",
       "  'didn',\n",
       "  't',\n",
       "  'purchase',\n",
       "  'this',\n",
       "  'years',\n",
       "  'ago',\n",
       "  'when',\n",
       "  'it',\n",
       "  'first',\n",
       "  'came',\n",
       "  'out',\n",
       "  'This',\n",
       "  'is',\n",
       "  'very',\n",
       "  'good',\n",
       "  'and',\n",
       "  'entertaining',\n",
       "  'We',\n",
       "  'absolutely',\n",
       "  'loved',\n",
       "  'it',\n",
       "  'and',\n",
       "  'anticipate',\n",
       "  'seeing',\n",
       "  'it',\n",
       "  'repeatedly',\n",
       "  'We',\n",
       "  'actually',\n",
       "  'wore',\n",
       "  'out',\n",
       "  'the',\n",
       "  'cassette',\n",
       "  'years',\n",
       "  'back',\n",
       "  'so',\n",
       "  'we',\n",
       "  'also',\n",
       "  'purchased',\n",
       "  'this',\n",
       "  'same',\n",
       "  'product',\n",
       "  'on',\n",
       "  'cd',\n",
       "  'Best',\n",
       "  'purchase',\n",
       "  'we',\n",
       "  'made',\n",
       "  'out',\n",
       "  'of',\n",
       "  'all',\n",
       "  'Would',\n",
       "  'purchase',\n",
       "  'on',\n",
       "  'dvd',\n",
       "  'if',\n",
       "  'we',\n",
       "  'could',\n",
       "  'find',\n",
       "  'one'],\n",
       " ['The', 'little', 'ones', 'love', 'this'],\n",
       " ['Good', 'songs', 'The', 'DVD', 'is', 'a', 'little', 'boring']]"
      ]
     },
     "execution_count": 44,
     "metadata": {},
     "output_type": "execute_result"
    }
   ],
   "source": [
    "# to convert every \"word\" inside a review into a token.\n",
    "raw2 = []\n",
    "tokenizer = RegexpTokenizer(r'\\w+')\n",
    "\n",
    "for comment in raw1:\n",
    "    raw2.append(tokenizer.tokenize(str(comment)))\n",
    "    \n",
    "raw2[:3]"
   ]
  },
  {
   "cell_type": "code",
   "execution_count": 45,
   "metadata": {},
   "outputs": [
    {
     "data": {
      "text/plain": [
       "[['So',\n",
       "  'sorry',\n",
       "  'I',\n",
       "  'didn',\n",
       "  't',\n",
       "  'purchase',\n",
       "  'this',\n",
       "  'years',\n",
       "  'ago',\n",
       "  'when',\n",
       "  'it',\n",
       "  'first',\n",
       "  'came',\n",
       "  'out',\n",
       "  'This',\n",
       "  'is',\n",
       "  'very',\n",
       "  'good',\n",
       "  'and',\n",
       "  'entertaining',\n",
       "  'We',\n",
       "  'absolutely',\n",
       "  'loved',\n",
       "  'it',\n",
       "  'and',\n",
       "  'anticipate',\n",
       "  'seeing',\n",
       "  'it',\n",
       "  'repeatedly',\n",
       "  'We',\n",
       "  'actually',\n",
       "  'wore',\n",
       "  'out',\n",
       "  'the',\n",
       "  'cassette',\n",
       "  'years',\n",
       "  'back',\n",
       "  'so',\n",
       "  'we',\n",
       "  'also',\n",
       "  'purchased',\n",
       "  'this',\n",
       "  'same',\n",
       "  'product',\n",
       "  'on',\n",
       "  'cd',\n",
       "  'Best',\n",
       "  'purchase',\n",
       "  'we',\n",
       "  'made',\n",
       "  'out',\n",
       "  'of',\n",
       "  'all',\n",
       "  'Would',\n",
       "  'purchase',\n",
       "  'on',\n",
       "  'dvd',\n",
       "  'if',\n",
       "  'we',\n",
       "  'could',\n",
       "  'find',\n",
       "  'one'],\n",
       " ['The', 'little', 'ones', 'love', 'this'],\n",
       " ['Good', 'songs', 'The', 'DVD', 'is', 'a', 'little', 'boring']]"
      ]
     },
     "execution_count": 45,
     "metadata": {},
     "output_type": "execute_result"
    }
   ],
   "source": [
    "raw3 = []\n",
    "for comment in raw2:\n",
    "    words_to_keep = []\n",
    "    for word in comment:\n",
    "        if word != 'n':\n",
    "            words_to_keep.append(word)\n",
    "        else:\n",
    "            pass\n",
    "    raw3.append(words_to_keep)\n",
    "\n",
    "raw3[:3]"
   ]
  },
  {
   "cell_type": "code",
   "execution_count": 46,
   "metadata": {},
   "outputs": [
    {
     "data": {
      "text/html": [
       "<div>\n",
       "<style scoped>\n",
       "    .dataframe tbody tr th:only-of-type {\n",
       "        vertical-align: middle;\n",
       "    }\n",
       "\n",
       "    .dataframe tbody tr th {\n",
       "        vertical-align: top;\n",
       "    }\n",
       "\n",
       "    .dataframe thead th {\n",
       "        text-align: right;\n",
       "    }\n",
       "</style>\n",
       "<table border=\"1\" class=\"dataframe\">\n",
       "  <thead>\n",
       "    <tr style=\"text-align: right;\">\n",
       "      <th></th>\n",
       "      <th>reviewText_raw</th>\n",
       "    </tr>\n",
       "  </thead>\n",
       "  <tbody>\n",
       "    <tr>\n",
       "      <th>0</th>\n",
       "      <td>[So, sorry, I, didn, t, purchase, this, years,...</td>\n",
       "    </tr>\n",
       "    <tr>\n",
       "      <th>1</th>\n",
       "      <td>[The, little, ones, love, this]</td>\n",
       "    </tr>\n",
       "    <tr>\n",
       "      <th>2</th>\n",
       "      <td>[Good, songs, The, DVD, is, a, little, boring]</td>\n",
       "    </tr>\n",
       "  </tbody>\n",
       "</table>\n",
       "</div>"
      ],
      "text/plain": [
       "                                      reviewText_raw\n",
       "0  [So, sorry, I, didn, t, purchase, this, years,...\n",
       "1                    [The, little, ones, love, this]\n",
       "2     [Good, songs, The, DVD, is, a, little, boring]"
      ]
     },
     "execution_count": 46,
     "metadata": {},
     "output_type": "execute_result"
    }
   ],
   "source": [
    "df_raw = pd.DataFrame({'reviewText_raw': raw3})\n",
    "df_raw.head(3)"
   ]
  },
  {
   "cell_type": "code",
   "execution_count": 47,
   "metadata": {},
   "outputs": [
    {
     "data": {
      "text/html": [
       "<div>\n",
       "<style scoped>\n",
       "    .dataframe tbody tr th:only-of-type {\n",
       "        vertical-align: middle;\n",
       "    }\n",
       "\n",
       "    .dataframe tbody tr th {\n",
       "        vertical-align: top;\n",
       "    }\n",
       "\n",
       "    .dataframe thead th {\n",
       "        text-align: right;\n",
       "    }\n",
       "</style>\n",
       "<table border=\"1\" class=\"dataframe\">\n",
       "  <thead>\n",
       "    <tr style=\"text-align: right;\">\n",
       "      <th></th>\n",
       "      <th>reviewText_raw</th>\n",
       "      <th>reviewText</th>\n",
       "    </tr>\n",
       "  </thead>\n",
       "  <tbody>\n",
       "    <tr>\n",
       "      <th>0</th>\n",
       "      <td>[So, sorry, I, didn, t, purchase, this, years,...</td>\n",
       "      <td>So,sorry,I,didn,t,purchase,this,years,ago,when...</td>\n",
       "    </tr>\n",
       "    <tr>\n",
       "      <th>1</th>\n",
       "      <td>[The, little, ones, love, this]</td>\n",
       "      <td>The,little,ones,love,this</td>\n",
       "    </tr>\n",
       "    <tr>\n",
       "      <th>2</th>\n",
       "      <td>[Good, songs, The, DVD, is, a, little, boring]</td>\n",
       "      <td>Good,songs,The,DVD,is,a,little,boring</td>\n",
       "    </tr>\n",
       "  </tbody>\n",
       "</table>\n",
       "</div>"
      ],
      "text/plain": [
       "                                      reviewText_raw  \\\n",
       "0  [So, sorry, I, didn, t, purchase, this, years,...   \n",
       "1                    [The, little, ones, love, this]   \n",
       "2     [Good, songs, The, DVD, is, a, little, boring]   \n",
       "\n",
       "                                          reviewText  \n",
       "0  So,sorry,I,didn,t,purchase,this,years,ago,when...  \n",
       "1                          The,little,ones,love,this  \n",
       "2              Good,songs,The,DVD,is,a,little,boring  "
      ]
     },
     "execution_count": 47,
     "metadata": {},
     "output_type": "execute_result"
    }
   ],
   "source": [
    "df_raw['reviewText'] = [','.join(map(str, x)) for x in df_raw['reviewText_raw']]\n",
    "df_raw.head(3)"
   ]
  },
  {
   "cell_type": "code",
   "execution_count": 48,
   "metadata": {},
   "outputs": [],
   "source": [
    "df_raw = df_raw.drop('reviewText_raw', 1)\n",
    "df = df.drop('reviewText', 1)\n",
    "df = df.join(df_raw)"
   ]
  },
  {
   "cell_type": "code",
   "execution_count": 49,
   "metadata": {},
   "outputs": [
    {
     "data": {
      "text/plain": [
       "(2336233, 6)"
      ]
     },
     "execution_count": 49,
     "metadata": {},
     "output_type": "execute_result"
    }
   ],
   "source": [
    "df.shape"
   ]
  },
  {
   "cell_type": "markdown",
   "metadata": {},
   "source": [
    "### 8. Preprocess the text contained in the style column"
   ]
  },
  {
   "cell_type": "code",
   "execution_count": 50,
   "metadata": {},
   "outputs": [
    {
     "data": {
      "text/html": [
       "<div>\n",
       "<style scoped>\n",
       "    .dataframe tbody tr th:only-of-type {\n",
       "        vertical-align: middle;\n",
       "    }\n",
       "\n",
       "    .dataframe tbody tr th {\n",
       "        vertical-align: top;\n",
       "    }\n",
       "\n",
       "    .dataframe thead th {\n",
       "        text-align: right;\n",
       "    }\n",
       "</style>\n",
       "<table border=\"1\" class=\"dataframe\">\n",
       "  <thead>\n",
       "    <tr style=\"text-align: right;\">\n",
       "      <th></th>\n",
       "      <th>overall</th>\n",
       "      <th>reviewTime</th>\n",
       "      <th>reviewerID</th>\n",
       "      <th>asin</th>\n",
       "      <th>style</th>\n",
       "      <th>reviewText</th>\n",
       "    </tr>\n",
       "  </thead>\n",
       "  <tbody>\n",
       "    <tr>\n",
       "      <th>0</th>\n",
       "      <td>5.0</td>\n",
       "      <td>2012</td>\n",
       "      <td>A2M1CU2IRZG0K9</td>\n",
       "      <td>0005089549</td>\n",
       "      <td>{'Format:': ' VHS Tape'}</td>\n",
       "      <td>So,sorry,I,didn,t,purchase,this,years,ago,when...</td>\n",
       "    </tr>\n",
       "    <tr>\n",
       "      <th>1</th>\n",
       "      <td>5.0</td>\n",
       "      <td>2016</td>\n",
       "      <td>A2CFV9UPFTTM10</td>\n",
       "      <td>0005419263</td>\n",
       "      <td>{'Format:': ' Audio CD'}</td>\n",
       "      <td>The,little,ones,love,this</td>\n",
       "    </tr>\n",
       "    <tr>\n",
       "      <th>2</th>\n",
       "      <td>3.0</td>\n",
       "      <td>2014</td>\n",
       "      <td>A3139J3877Y61F</td>\n",
       "      <td>0005419263</td>\n",
       "      <td>{'Format:': ' Audio CD'}</td>\n",
       "      <td>Good,songs,The,DVD,is,a,little,boring</td>\n",
       "    </tr>\n",
       "  </tbody>\n",
       "</table>\n",
       "</div>"
      ],
      "text/plain": [
       "   overall reviewTime      reviewerID        asin                     style  \\\n",
       "0      5.0       2012  A2M1CU2IRZG0K9  0005089549  {'Format:': ' VHS Tape'}   \n",
       "1      5.0       2016  A2CFV9UPFTTM10  0005419263  {'Format:': ' Audio CD'}   \n",
       "2      3.0       2014  A3139J3877Y61F  0005419263  {'Format:': ' Audio CD'}   \n",
       "\n",
       "                                          reviewText  \n",
       "0  So,sorry,I,didn,t,purchase,this,years,ago,when...  \n",
       "1                          The,little,ones,love,this  \n",
       "2              Good,songs,The,DVD,is,a,little,boring  "
      ]
     },
     "execution_count": 50,
     "metadata": {},
     "output_type": "execute_result"
    }
   ],
   "source": [
    "df.head(3)"
   ]
  },
  {
   "cell_type": "code",
   "execution_count": 51,
   "metadata": {},
   "outputs": [
    {
     "name": "stdout",
     "output_type": "stream",
     "text": [
      "<class 'dict'>\n",
      "{'Format:': ' VHS Tape'}\n"
     ]
    }
   ],
   "source": [
    "print(type(df['style'][0]))\n",
    "print(df['style'][0])"
   ]
  },
  {
   "cell_type": "code",
   "execution_count": 52,
   "metadata": {},
   "outputs": [],
   "source": [
    "# convert the style column to string so we can analyze it.\n",
    "df['style'] = df['style'].astype('str')"
   ]
  },
  {
   "cell_type": "code",
   "execution_count": 53,
   "metadata": {},
   "outputs": [
    {
     "data": {
      "text/plain": [
       "{'Format:': ' DVD'}                                1005772\n",
       "{'Format:': ' Amazon Video'}                        820475\n",
       "{'Format:': ' Blu-ray'}                             260706\n",
       "{'Format:': ' Prime Video'}                         148347\n",
       "nan                                                  88135\n",
       "{'Format:': ' VHS Tape'}                              9650\n",
       "{'Format:': ' DVD-R'}                                 1068\n",
       "{'Format:': ' Audio CD'}                               404\n",
       "{'Format:': ' DVD-ROM'}                                370\n",
       "{'Format:': ' HD DVD'}                                 370\n",
       "{'Format:': ' Amazon Instant Video'}                   208\n",
       "{'Format:': ' UMD for PSP'}                            163\n",
       "{'Format:': ' Interactive DVD'}                         83\n",
       "{'Format:': ' Electronics'}                             69\n",
       "{'Format:': ' Hardcover'}                               49\n",
       "{'Format:': ' Paperback'}                               46\n",
       "{'Format:': ' DVD Audio'}                               39\n",
       "{'Format:': ' Laser Disc'}                              37\n",
       "{'Format:': ' Toy'}                                     32\n",
       "{'Format:': ' Kindle Edition'}                          30\n",
       "{'Format:': ' MP3 Music'}                               26\n",
       "{'Format:': ' CD-ROM'}                                  22\n",
       "{'Format:': ' Staple Bound'}                            18\n",
       "{'Size:': ' unknown'}                                   17\n",
       "{'Format:': ' Unknown Binding'}                         16\n",
       "{'Format:': ' Kindle Edition with Audio/Video'}         11\n",
       "{'Format:': ' Grocery'}                                  9\n",
       "{'Format:': ' Misc.'}                                    9\n",
       "{'Format:': ' Office Product'}                           7\n",
       "{'Format:': ' Wireless Phone Accessory'}                 7\n",
       "{'Format:': ' Kitchen'}                                  7\n",
       "{'Shape:': ' Hipcentric'}                                5\n",
       "{'Format:': ' Video CD'}                                 4\n",
       "{'Size:': ' Dolphins'}                                   4\n",
       "{'Format:': ' Videotape'}                                3\n",
       "{'Format:': ' Audio Cassette'}                           3\n",
       "{'Shape:': ' Omnicentric'}                               2\n",
       "{'Format:': ' Vinyl'}                                    2\n",
       "{'Format:': ' MiniDisc'}                                 1\n",
       "{'Format:': ' MP3 CD'}                                   1\n",
       "{'Format:': ' Mass Market Paperback'}                    1\n",
       "{'Format:': ' Unbound'}                                  1\n",
       "{'Format:': ' Video Game'}                               1\n",
       "{'Format:': ' Accessory'}                                1\n",
       "{'Format:': ' Product Bundle'}                           1\n",
       "{'Format:': ' S-VHS'}                                    1\n",
       "Name: style, dtype: int64"
      ]
     },
     "execution_count": 53,
     "metadata": {},
     "output_type": "execute_result"
    }
   ],
   "source": [
    "# absolute count of the unique values in the style column.\n",
    "df['style'].value_counts()"
   ]
  },
  {
   "cell_type": "code",
   "execution_count": 54,
   "metadata": {},
   "outputs": [
    {
     "data": {
      "text/plain": [
       "{'Format:': ' DVD'}                                4.305101e-01\n",
       "{'Format:': ' Amazon Video'}                       3.511957e-01\n",
       "{'Format:': ' Blu-ray'}                            1.115925e-01\n",
       "{'Format:': ' Prime Video'}                        6.349838e-02\n",
       "nan                                                3.772526e-02\n",
       "{'Format:': ' VHS Tape'}                           4.130581e-03\n",
       "{'Format:': ' DVD-R'}                              4.571462e-04\n",
       "{'Format:': ' Audio CD'}                           1.729280e-04\n",
       "{'Format:': ' DVD-ROM'}                            1.583746e-04\n",
       "{'Format:': ' HD DVD'}                             1.583746e-04\n",
       "{'Format:': ' Amazon Instant Video'}               8.903222e-05\n",
       "{'Format:': ' UMD for PSP'}                        6.977044e-05\n",
       "{'Format:': ' Interactive DVD'}                    3.552728e-05\n",
       "{'Format:': ' Electronics'}                        2.953473e-05\n",
       "{'Format:': ' Hardcover'}                          2.097394e-05\n",
       "{'Format:': ' Paperback'}                          1.968982e-05\n",
       "{'Format:': ' DVD Audio'}                          1.669354e-05\n",
       "{'Format:': ' Laser Disc'}                         1.583746e-05\n",
       "{'Format:': ' Toy'}                                1.369726e-05\n",
       "{'Format:': ' Kindle Edition'}                     1.284118e-05\n",
       "{'Format:': ' MP3 Music'}                          1.112903e-05\n",
       "{'Format:': ' CD-ROM'}                             9.416869e-06\n",
       "{'Format:': ' Staple Bound'}                       7.704711e-06\n",
       "{'Size:': ' unknown'}                              7.276671e-06\n",
       "{'Format:': ' Unknown Binding'}                    6.848632e-06\n",
       "{'Format:': ' Kindle Edition with Audio/Video'}    4.708434e-06\n",
       "{'Format:': ' Grocery'}                            3.852355e-06\n",
       "{'Format:': ' Misc.'}                              3.852355e-06\n",
       "{'Format:': ' Office Product'}                     2.996276e-06\n",
       "{'Format:': ' Wireless Phone Accessory'}           2.996276e-06\n",
       "{'Format:': ' Kitchen'}                            2.996276e-06\n",
       "{'Shape:': ' Hipcentric'}                          2.140197e-06\n",
       "{'Format:': ' Video CD'}                           1.712158e-06\n",
       "{'Size:': ' Dolphins'}                             1.712158e-06\n",
       "{'Format:': ' Videotape'}                          1.284118e-06\n",
       "{'Format:': ' Audio Cassette'}                     1.284118e-06\n",
       "{'Shape:': ' Omnicentric'}                         8.560790e-07\n",
       "{'Format:': ' Vinyl'}                              8.560790e-07\n",
       "{'Format:': ' MiniDisc'}                           4.280395e-07\n",
       "{'Format:': ' MP3 CD'}                             4.280395e-07\n",
       "{'Format:': ' Mass Market Paperback'}              4.280395e-07\n",
       "{'Format:': ' Unbound'}                            4.280395e-07\n",
       "{'Format:': ' Video Game'}                         4.280395e-07\n",
       "{'Format:': ' Accessory'}                          4.280395e-07\n",
       "{'Format:': ' Product Bundle'}                     4.280395e-07\n",
       "{'Format:': ' S-VHS'}                              4.280395e-07\n",
       "Name: style, dtype: float64"
      ]
     },
     "execution_count": 54,
     "metadata": {},
     "output_type": "execute_result"
    }
   ],
   "source": [
    "# percentage count of the unique values in the style column.\n",
    "df['style'].value_counts(normalize=True)"
   ]
  },
  {
   "cell_type": "code",
   "execution_count": 55,
   "metadata": {},
   "outputs": [
    {
     "data": {
      "text/plain": [
       "46"
      ]
     },
     "execution_count": 55,
     "metadata": {},
     "output_type": "execute_result"
    }
   ],
   "source": [
    "len(df['style'].unique())"
   ]
  },
  {
   "cell_type": "markdown",
   "metadata": {},
   "source": [
    "**There are 46 unique values in the style column. Almost all of them represents almost 0% of the total information. Just the first five unique values (DVD, amazon Video, Blu-ray, Prime Video, and VHS Tape) represents the 96.1% of the total records. Thus, it makes sense to ignore and delete the rest and the blank cells.**"
   ]
  },
  {
   "cell_type": "code",
   "execution_count": 56,
   "metadata": {
    "scrolled": true
   },
   "outputs": [],
   "source": [
    "df['style'] = df['style'].str.slice(start=14, stop=-2)"
   ]
  },
  {
   "cell_type": "code",
   "execution_count": 57,
   "metadata": {
    "scrolled": true
   },
   "outputs": [
    {
     "data": {
      "text/plain": [
       "DVD                                1005772\n",
       "Amazon Video                        820475\n",
       "Blu-ray                             260706\n",
       "Prime Video                         148347\n",
       "                                     88135\n",
       "VHS Tape                              9650\n",
       "DVD-R                                 1068\n",
       "Audio CD                               404\n",
       "DVD-ROM                                370\n",
       "HD DVD                                 370\n",
       "Amazon Instant Video                   208\n",
       "UMD for PSP                            163\n",
       "Interactive DVD                         83\n",
       "Electronics                             69\n",
       "Hardcover                               49\n",
       "Paperback                               46\n",
       "DVD Audio                               39\n",
       "Laser Disc                              37\n",
       "Toy                                     32\n",
       "Kindle Edition                          30\n",
       "MP3 Music                               26\n",
       "CD-ROM                                  22\n",
       "Staple Bound                            18\n",
       "known                                   17\n",
       "Unknown Binding                         16\n",
       "Kindle Edition with Audio/Video         11\n",
       "Misc.                                    9\n",
       "Grocery                                  9\n",
       "Kitchen                                  7\n",
       "Wireless Phone Accessory                 7\n",
       "Office Product                           7\n",
       "ipcentric                                5\n",
       "Video CD                                 4\n",
       "lphins                                   4\n",
       "Audio Cassette                           3\n",
       "Videotape                                3\n",
       "Vinyl                                    2\n",
       "mnicentric                               2\n",
       "Accessory                                1\n",
       "MiniDisc                                 1\n",
       "Mass Market Paperback                    1\n",
       "Product Bundle                           1\n",
       "Unbound                                  1\n",
       "Video Game                               1\n",
       "MP3 CD                                   1\n",
       "S-VHS                                    1\n",
       "Name: style, dtype: int64"
      ]
     },
     "execution_count": 57,
     "metadata": {},
     "output_type": "execute_result"
    }
   ],
   "source": [
    "df['style'].value_counts()"
   ]
  },
  {
   "cell_type": "code",
   "execution_count": 58,
   "metadata": {},
   "outputs": [],
   "source": [
    "keepStyle = ['DVD', 'Amazon Video', 'Blu-ray','Prime Video', 'VHS Tape']"
   ]
  },
  {
   "cell_type": "code",
   "execution_count": 59,
   "metadata": {},
   "outputs": [],
   "source": [
    "df = df[df['style'].isin(keepStyle)]"
   ]
  },
  {
   "cell_type": "code",
   "execution_count": 60,
   "metadata": {},
   "outputs": [
    {
     "data": {
      "text/plain": [
       "(2244950, 6)"
      ]
     },
     "execution_count": 60,
     "metadata": {},
     "output_type": "execute_result"
    }
   ],
   "source": [
    "df.shape"
   ]
  },
  {
   "cell_type": "code",
   "execution_count": 61,
   "metadata": {},
   "outputs": [
    {
     "data": {
      "text/html": [
       "<div>\n",
       "<style scoped>\n",
       "    .dataframe tbody tr th:only-of-type {\n",
       "        vertical-align: middle;\n",
       "    }\n",
       "\n",
       "    .dataframe tbody tr th {\n",
       "        vertical-align: top;\n",
       "    }\n",
       "\n",
       "    .dataframe thead th {\n",
       "        text-align: right;\n",
       "    }\n",
       "</style>\n",
       "<table border=\"1\" class=\"dataframe\">\n",
       "  <thead>\n",
       "    <tr style=\"text-align: right;\">\n",
       "      <th></th>\n",
       "      <th>overall</th>\n",
       "      <th>reviewTime</th>\n",
       "      <th>reviewerID</th>\n",
       "      <th>asin</th>\n",
       "      <th>style</th>\n",
       "      <th>reviewText</th>\n",
       "    </tr>\n",
       "  </thead>\n",
       "  <tbody>\n",
       "    <tr>\n",
       "      <th>0</th>\n",
       "      <td>5.0</td>\n",
       "      <td>2012</td>\n",
       "      <td>A2M1CU2IRZG0K9</td>\n",
       "      <td>0005089549</td>\n",
       "      <td>VHS Tape</td>\n",
       "      <td>So,sorry,I,didn,t,purchase,this,years,ago,when...</td>\n",
       "    </tr>\n",
       "    <tr>\n",
       "      <th>3</th>\n",
       "      <td>4.0</td>\n",
       "      <td>2016</td>\n",
       "      <td>A2QWTVQ90KYZZP</td>\n",
       "      <td>0005092663</td>\n",
       "      <td>DVD</td>\n",
       "      <td>REALLY,ENJOYED</td>\n",
       "    </tr>\n",
       "    <tr>\n",
       "      <th>4</th>\n",
       "      <td>5.0</td>\n",
       "      <td>2016</td>\n",
       "      <td>AK1BZVQ7X9EJR</td>\n",
       "      <td>0005092663</td>\n",
       "      <td>DVD</td>\n",
       "      <td>excellent,as,usual</td>\n",
       "    </tr>\n",
       "  </tbody>\n",
       "</table>\n",
       "</div>"
      ],
      "text/plain": [
       "   overall reviewTime      reviewerID        asin     style  \\\n",
       "0      5.0       2012  A2M1CU2IRZG0K9  0005089549  VHS Tape   \n",
       "3      4.0       2016  A2QWTVQ90KYZZP  0005092663       DVD   \n",
       "4      5.0       2016   AK1BZVQ7X9EJR  0005092663       DVD   \n",
       "\n",
       "                                          reviewText  \n",
       "0  So,sorry,I,didn,t,purchase,this,years,ago,when...  \n",
       "3                                     REALLY,ENJOYED  \n",
       "4                                 excellent,as,usual  "
      ]
     },
     "execution_count": 61,
     "metadata": {},
     "output_type": "execute_result"
    }
   ],
   "source": [
    "df.head(3)"
   ]
  },
  {
   "cell_type": "markdown",
   "metadata": {},
   "source": [
    "### 9. Filter dataset skipping rows with NaN values"
   ]
  },
  {
   "cell_type": "code",
   "execution_count": 62,
   "metadata": {},
   "outputs": [
    {
     "data": {
      "text/plain": [
       "overall         0\n",
       "reviewTime      0\n",
       "reviewerID      0\n",
       "asin            0\n",
       "style           0\n",
       "reviewText    250\n",
       "dtype: int64"
      ]
     },
     "execution_count": 62,
     "metadata": {},
     "output_type": "execute_result"
    }
   ],
   "source": [
    "# let's discover the number of empty cells in each of the columns.\n",
    "df.replace('', np.nan, inplace=True)\n",
    "df.replace('null', np.nan, inplace=True)\n",
    "df.isnull().sum()"
   ]
  },
  {
   "cell_type": "code",
   "execution_count": 63,
   "metadata": {},
   "outputs": [],
   "source": [
    "df = df[df.reviewText.notnull()]"
   ]
  },
  {
   "cell_type": "code",
   "execution_count": 64,
   "metadata": {},
   "outputs": [
    {
     "data": {
      "text/plain": [
       "(2244700, 6)"
      ]
     },
     "execution_count": 64,
     "metadata": {},
     "output_type": "execute_result"
    }
   ],
   "source": [
    "df.shape"
   ]
  },
  {
   "cell_type": "code",
   "execution_count": 65,
   "metadata": {},
   "outputs": [
    {
     "data": {
      "text/plain": [
       "overall       0\n",
       "reviewTime    0\n",
       "reviewerID    0\n",
       "asin          0\n",
       "style         0\n",
       "reviewText    0\n",
       "dtype: int64"
      ]
     },
     "execution_count": 65,
     "metadata": {},
     "output_type": "execute_result"
    }
   ],
   "source": [
    "# lets guarantee there are not null values or balnks.\n",
    "df.isnull().sum()"
   ]
  },
  {
   "cell_type": "markdown",
   "metadata": {},
   "source": [
    "### 10. Databases ready to be analyzed and eaten"
   ]
  },
  {
   "cell_type": "markdown",
   "metadata": {},
   "source": [
    "**The cleaned and preprocessed dataset should have 2,244,700 records and 6 columns. To export this dataset into a csv file we just need to run the line of code below. Nonetheless, because it is too much data, we will also export a csv file that contains only 500,000 data points. These data records will be selected randomly.**"
   ]
  },
  {
   "cell_type": "code",
   "execution_count": 66,
   "metadata": {},
   "outputs": [],
   "source": [
    "# export_csv = df.to_csv('db amazon mineros 1.csv', index = None, header=True)"
   ]
  },
  {
   "cell_type": "code",
   "execution_count": 67,
   "metadata": {},
   "outputs": [],
   "source": [
    "df_small = df.sample(n = 500000)"
   ]
  },
  {
   "cell_type": "code",
   "execution_count": 68,
   "metadata": {},
   "outputs": [],
   "source": [
    "export_csv = df_small.to_csv('db amazon mineros 2.csv', index = None, header=True)"
   ]
  },
  {
   "cell_type": "code",
   "execution_count": null,
   "metadata": {},
   "outputs": [],
   "source": []
  }
 ],
 "metadata": {
  "kernelspec": {
   "display_name": "Python 3",
   "language": "python",
   "name": "python3"
  },
  "language_info": {
   "codemirror_mode": {
    "name": "ipython",
    "version": 3
   },
   "file_extension": ".py",
   "mimetype": "text/x-python",
   "name": "python",
   "nbconvert_exporter": "python",
   "pygments_lexer": "ipython3",
   "version": "3.8.3"
  },
  "toc": {
   "base_numbering": 1,
   "nav_menu": {},
   "number_sections": true,
   "sideBar": true,
   "skip_h1_title": false,
   "title_cell": "Table of Contents",
   "title_sidebar": "Contents",
   "toc_cell": false,
   "toc_position": {
    "height": "calc(100% - 180px)",
    "left": "10px",
    "top": "150px",
    "width": "165px"
   },
   "toc_section_display": true,
   "toc_window_display": true
  }
 },
 "nbformat": 4,
 "nbformat_minor": 2
}
